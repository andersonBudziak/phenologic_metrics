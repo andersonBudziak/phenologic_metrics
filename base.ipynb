{
 "cells": [
  {
   "cell_type": "code",
   "execution_count": 1,
   "id": "7cdcc72f",
   "metadata": {},
   "outputs": [],
   "source": [
    "import ee\n",
    "import os\n",
    "\n",
    "from src.controllers.plotter_base import PhenologyPlotter\n",
    "from src.controllers.metrics_vos_pos import VosPosMetrics\n",
    "from src.controllers.metrics_bos_eso import BosEosMetrics\n",
    "from src.controllers.sentinel_ import  Sentinel2Processor\n",
    "from src.controllers.geometry import ProcessadorGeoDataFrame\n",
    "from src.controllers.metrics_geometrics import PhenologyMetrics\n",
    "from src.controllers.time_series import VegetationIndexProcessor\n",
    "from src.controllers.eras import PrecipitationTemperatureRadiationData\n",
    "\n",
    "# Trigger the authentication flow.\n",
    "ee.Authenticate()\n",
    "\n",
    "# Initialize the library.\n",
    "ee.Initialize(project='ee-carbonei')"
   ]
  },
  {
   "cell_type": "code",
   "execution_count": 2,
   "id": "bef0c898",
   "metadata": {},
   "outputs": [],
   "source": [
    "####Geometries variables####\n",
    "\n",
    "#Paht polygons\n",
    "path = r\"C:\\Users\\ander\\OneDrive\\Área de Trabalho\\msu\\phenologic_metrics\\data\\ms_field_boundaries_samples.gpkg\"\n",
    "\n",
    "#Index polygon, defoult is 0\n",
    "index_poligon = 16\n",
    "\n",
    "####Datas de análise####\n",
    "#Start date analises \n",
    "start_date = '2023-01-01'\n",
    "\n",
    "#End date analises\n",
    "end_date = '2023-12-30'\n",
    "\n",
    "\n",
    "####Time series parameters####\n",
    "#ndvi_value to NDVI and evi_value to EVI \n",
    "vegetation_index = 'ndvi_value'\n",
    "\n",
    "#Threshould index to NDVI recomend 0.37\n",
    "threshould_index = 0.3\n",
    "\n",
    "####Savitzky-Golay to smoothing the vegetation index####\n",
    "# Window to smooth Savitzky-Golay\n",
    "window_size = 5\n",
    "\n",
    "# Type of polynomial \n",
    "poly_order = 2\n",
    "\n",
    "####VOS and POS metric####\n",
    "#This value define the window to get VOS and POS, by experience use 3 parts os the full crop season\n",
    "order = 40"
   ]
  },
  {
   "cell_type": "code",
   "execution_count": 3,
   "id": "a65cdc1f",
   "metadata": {},
   "outputs": [],
   "source": [
    "#Read geometry file\n",
    "processador = ProcessadorGeoDataFrame(path)"
   ]
  },
  {
   "cell_type": "code",
   "execution_count": 4,
   "id": "06c3439b",
   "metadata": {},
   "outputs": [],
   "source": [
    "vertices, geometry = processador.extrair_coordenadas(index_poligon)"
   ]
  },
  {
   "cell_type": "code",
   "execution_count": 5,
   "id": "2d2e27fe",
   "metadata": {},
   "outputs": [],
   "source": [
    "def process_polygon(index_poligon,id_polygon, start_date, end_date, vegetation_index, threshould_index, window_size, poly_order, order):\n",
    "\n",
    "    try:\n",
    "\n",
    "        vertices, geometry = processador.extrair_coordenadas(index_poligon)\n",
    "\n",
    "        # Convert points to a polygon\n",
    "        polygon = ee.Geometry.Polygon(vertices)\n",
    "\n",
    "        s2 = Sentinel2Processor(start_date, end_date, polygon)\n",
    "        df = s2.process_data()\n",
    "\n",
    "        processor = VegetationIndexProcessor(df, vegetation_index, window_size=window_size, poly_order=poly_order)\n",
    "        df = processor.process()\n",
    "\n",
    "        #Get and VOS and POS metrics\n",
    "        vos_pos_analyzer = VosPosMetrics(df , order)\n",
    "        phenology_df = vos_pos_analyzer.analyze_phenology()\n",
    "\n",
    "        #Get and BOS and EOS metrics\n",
    "        analysis = BosEosMetrics(df , phenology_df, threshould_index)\n",
    "        phenology_df  = analysis.execute_analysis()\n",
    "\n",
    "        analysis_metrics = PhenologyMetrics(phenology_df, df)\n",
    "        phenology_df  = analysis_metrics.derivate_metrics()\n",
    "\n",
    "        # Usage\n",
    "        lat = geometry.getInfo()['coordinates'][0][0][1]  # Exemplo de latitude\n",
    "        lon = geometry.getInfo()['coordinates'][0][0][0]  # Exemplo de longitude\n",
    "\n",
    "        data = PrecipitationTemperatureRadiationData(lat, lon, start_date, end_date)\n",
    "        df_01 = data.get_dataframe()\n",
    "\n",
    "        df_01 = data.preciptation_sum(phenology_df)\n",
    "\n",
    "        plotter = PhenologyPlotter(df, phenology_df, vegetation_index)\n",
    "        #fig = plotter.plot_data()\n",
    "\n",
    "        #fig_2 = plotter.plot_data_02(start_date, end_date)\n",
    "\n",
    "        #fig_precipitation = data.plot_precipitation()\n",
    "        #fig_temperature = data.plot_temperature()\n",
    "        #fig_radiation = data.plot_radiation()\n",
    "\n",
    "\n",
    "        #fig.show()\n",
    "        #fig_2.show()\n",
    "        #   Show the interactive plots\n",
    "        #fig_precipitation.show()\n",
    "        #fig_temperature.show()\n",
    "        #fig_radiation.show()\n",
    "\n",
    "        # Define the directory name based on the polygon index\n",
    "        dir_name = f\"base/polygon_{id_polygon}\"\n",
    "\n",
    "        # Create the directory if it doesn't exist\n",
    "        if not os.path.exists(dir_name):\n",
    "            os.makedirs(dir_name)\n",
    "\n",
    "        # Define file paths\n",
    "        phenology_df_path = os.path.join(dir_name, \"phenology_df.csv\")\n",
    "        df_01_path = os.path.join(dir_name, \"data_base.csv\")\n",
    "        df_path = os.path.join(dir_name, \"data_index.csv\")\n",
    "\n",
    "        # Save the dataframes as CSV files\n",
    "        phenology_df.to_csv(phenology_df_path, index=False)\n",
    "        df_01.to_csv(df_01_path, index=False)\n",
    "        df.to_csv(df_path, index=False)\n",
    "\n",
    "        print(f\"Saved phenology_df to {phenology_df_path}\")\n",
    "        print(f\"Saved df_01 to {df_01_path}\")\n",
    "\n",
    "    except:\n",
    "        pass"
   ]
  },
  {
   "cell_type": "code",
   "execution_count": 6,
   "id": "be8e753f",
   "metadata": {},
   "outputs": [
    {
     "name": "stdout",
     "output_type": "stream",
     "text": [
      "332 0\n"
     ]
    },
    {
     "name": "stderr",
     "output_type": "stream",
     "text": [
      "c:\\Users\\ander\\OneDrive\\Área de Trabalho\\msu\\phenologic_metrics\\src\\controllers\\metrics_bos_eso.py:37: SettingWithCopyWarning: \n",
      "A value is trying to be set on a copy of a slice from a DataFrame.\n",
      "Try using .loc[row_indexer,col_indexer] = value instead\n",
      "\n",
      "See the caveats in the documentation: https://pandas.pydata.org/pandas-docs/stable/user_guide/indexing.html#returning-a-view-versus-a-copy\n",
      "  self.interval_df['first_derivative'] = self.interval_df['savitzky_golay'].diff().fillna(0)\n"
     ]
    },
    {
     "name": "stdout",
     "output_type": "stream",
     "text": [
      "Saved phenology_df to base/polygon_332\\phenology_df.csv\n",
      "Saved df_01 to base/polygon_332\\data_base.csv\n",
      "333 1\n"
     ]
    },
    {
     "name": "stderr",
     "output_type": "stream",
     "text": [
      "c:\\Users\\ander\\OneDrive\\Área de Trabalho\\msu\\phenologic_metrics\\src\\controllers\\metrics_bos_eso.py:37: SettingWithCopyWarning: \n",
      "A value is trying to be set on a copy of a slice from a DataFrame.\n",
      "Try using .loc[row_indexer,col_indexer] = value instead\n",
      "\n",
      "See the caveats in the documentation: https://pandas.pydata.org/pandas-docs/stable/user_guide/indexing.html#returning-a-view-versus-a-copy\n",
      "  self.interval_df['first_derivative'] = self.interval_df['savitzky_golay'].diff().fillna(0)\n"
     ]
    },
    {
     "name": "stdout",
     "output_type": "stream",
     "text": [
      "Saved phenology_df to base/polygon_333\\phenology_df.csv\n",
      "Saved df_01 to base/polygon_333\\data_base.csv\n",
      "334 2\n"
     ]
    },
    {
     "name": "stderr",
     "output_type": "stream",
     "text": [
      "c:\\Users\\ander\\OneDrive\\Área de Trabalho\\msu\\phenologic_metrics\\src\\controllers\\metrics_bos_eso.py:37: SettingWithCopyWarning: \n",
      "A value is trying to be set on a copy of a slice from a DataFrame.\n",
      "Try using .loc[row_indexer,col_indexer] = value instead\n",
      "\n",
      "See the caveats in the documentation: https://pandas.pydata.org/pandas-docs/stable/user_guide/indexing.html#returning-a-view-versus-a-copy\n",
      "  self.interval_df['first_derivative'] = self.interval_df['savitzky_golay'].diff().fillna(0)\n"
     ]
    },
    {
     "name": "stdout",
     "output_type": "stream",
     "text": [
      "Saved phenology_df to base/polygon_334\\phenology_df.csv\n",
      "Saved df_01 to base/polygon_334\\data_base.csv\n",
      "335 3\n"
     ]
    },
    {
     "name": "stderr",
     "output_type": "stream",
     "text": [
      "c:\\Users\\ander\\OneDrive\\Área de Trabalho\\msu\\phenologic_metrics\\src\\controllers\\metrics_bos_eso.py:37: SettingWithCopyWarning: \n",
      "A value is trying to be set on a copy of a slice from a DataFrame.\n",
      "Try using .loc[row_indexer,col_indexer] = value instead\n",
      "\n",
      "See the caveats in the documentation: https://pandas.pydata.org/pandas-docs/stable/user_guide/indexing.html#returning-a-view-versus-a-copy\n",
      "  self.interval_df['first_derivative'] = self.interval_df['savitzky_golay'].diff().fillna(0)\n"
     ]
    },
    {
     "name": "stdout",
     "output_type": "stream",
     "text": [
      "Saved phenology_df to base/polygon_335\\phenology_df.csv\n",
      "Saved df_01 to base/polygon_335\\data_base.csv\n",
      "336 4\n"
     ]
    },
    {
     "name": "stderr",
     "output_type": "stream",
     "text": [
      "c:\\Users\\ander\\OneDrive\\Área de Trabalho\\msu\\phenologic_metrics\\src\\controllers\\metrics_bos_eso.py:37: SettingWithCopyWarning: \n",
      "A value is trying to be set on a copy of a slice from a DataFrame.\n",
      "Try using .loc[row_indexer,col_indexer] = value instead\n",
      "\n",
      "See the caveats in the documentation: https://pandas.pydata.org/pandas-docs/stable/user_guide/indexing.html#returning-a-view-versus-a-copy\n",
      "  self.interval_df['first_derivative'] = self.interval_df['savitzky_golay'].diff().fillna(0)\n"
     ]
    },
    {
     "name": "stdout",
     "output_type": "stream",
     "text": [
      "Saved phenology_df to base/polygon_336\\phenology_df.csv\n",
      "Saved df_01 to base/polygon_336\\data_base.csv\n",
      "337 5\n"
     ]
    },
    {
     "name": "stderr",
     "output_type": "stream",
     "text": [
      "c:\\Users\\ander\\OneDrive\\Área de Trabalho\\msu\\phenologic_metrics\\src\\controllers\\metrics_bos_eso.py:37: SettingWithCopyWarning: \n",
      "A value is trying to be set on a copy of a slice from a DataFrame.\n",
      "Try using .loc[row_indexer,col_indexer] = value instead\n",
      "\n",
      "See the caveats in the documentation: https://pandas.pydata.org/pandas-docs/stable/user_guide/indexing.html#returning-a-view-versus-a-copy\n",
      "  self.interval_df['first_derivative'] = self.interval_df['savitzky_golay'].diff().fillna(0)\n"
     ]
    },
    {
     "name": "stdout",
     "output_type": "stream",
     "text": [
      "Saved phenology_df to base/polygon_337\\phenology_df.csv\n",
      "Saved df_01 to base/polygon_337\\data_base.csv\n",
      "338 6\n"
     ]
    },
    {
     "name": "stderr",
     "output_type": "stream",
     "text": [
      "c:\\Users\\ander\\OneDrive\\Área de Trabalho\\msu\\phenologic_metrics\\src\\controllers\\metrics_bos_eso.py:37: SettingWithCopyWarning: \n",
      "A value is trying to be set on a copy of a slice from a DataFrame.\n",
      "Try using .loc[row_indexer,col_indexer] = value instead\n",
      "\n",
      "See the caveats in the documentation: https://pandas.pydata.org/pandas-docs/stable/user_guide/indexing.html#returning-a-view-versus-a-copy\n",
      "  self.interval_df['first_derivative'] = self.interval_df['savitzky_golay'].diff().fillna(0)\n"
     ]
    },
    {
     "name": "stdout",
     "output_type": "stream",
     "text": [
      "Saved phenology_df to base/polygon_338\\phenology_df.csv\n",
      "Saved df_01 to base/polygon_338\\data_base.csv\n",
      "339 7\n"
     ]
    },
    {
     "name": "stderr",
     "output_type": "stream",
     "text": [
      "c:\\Users\\ander\\OneDrive\\Área de Trabalho\\msu\\phenologic_metrics\\src\\controllers\\metrics_bos_eso.py:37: SettingWithCopyWarning: \n",
      "A value is trying to be set on a copy of a slice from a DataFrame.\n",
      "Try using .loc[row_indexer,col_indexer] = value instead\n",
      "\n",
      "See the caveats in the documentation: https://pandas.pydata.org/pandas-docs/stable/user_guide/indexing.html#returning-a-view-versus-a-copy\n",
      "  self.interval_df['first_derivative'] = self.interval_df['savitzky_golay'].diff().fillna(0)\n"
     ]
    },
    {
     "name": "stdout",
     "output_type": "stream",
     "text": [
      "Saved phenology_df to base/polygon_339\\phenology_df.csv\n",
      "Saved df_01 to base/polygon_339\\data_base.csv\n",
      "340 8\n"
     ]
    },
    {
     "name": "stderr",
     "output_type": "stream",
     "text": [
      "c:\\Users\\ander\\OneDrive\\Área de Trabalho\\msu\\phenologic_metrics\\src\\controllers\\metrics_bos_eso.py:37: SettingWithCopyWarning: \n",
      "A value is trying to be set on a copy of a slice from a DataFrame.\n",
      "Try using .loc[row_indexer,col_indexer] = value instead\n",
      "\n",
      "See the caveats in the documentation: https://pandas.pydata.org/pandas-docs/stable/user_guide/indexing.html#returning-a-view-versus-a-copy\n",
      "  self.interval_df['first_derivative'] = self.interval_df['savitzky_golay'].diff().fillna(0)\n"
     ]
    },
    {
     "name": "stdout",
     "output_type": "stream",
     "text": [
      "Saved phenology_df to base/polygon_340\\phenology_df.csv\n",
      "Saved df_01 to base/polygon_340\\data_base.csv\n",
      "341 9\n"
     ]
    },
    {
     "name": "stderr",
     "output_type": "stream",
     "text": [
      "c:\\Users\\ander\\OneDrive\\Área de Trabalho\\msu\\phenologic_metrics\\src\\controllers\\metrics_bos_eso.py:37: SettingWithCopyWarning: \n",
      "A value is trying to be set on a copy of a slice from a DataFrame.\n",
      "Try using .loc[row_indexer,col_indexer] = value instead\n",
      "\n",
      "See the caveats in the documentation: https://pandas.pydata.org/pandas-docs/stable/user_guide/indexing.html#returning-a-view-versus-a-copy\n",
      "  self.interval_df['first_derivative'] = self.interval_df['savitzky_golay'].diff().fillna(0)\n"
     ]
    },
    {
     "name": "stdout",
     "output_type": "stream",
     "text": [
      "Saved phenology_df to base/polygon_341\\phenology_df.csv\n",
      "Saved df_01 to base/polygon_341\\data_base.csv\n",
      "342 10\n",
      "343 11\n"
     ]
    },
    {
     "name": "stderr",
     "output_type": "stream",
     "text": [
      "c:\\Users\\ander\\OneDrive\\Área de Trabalho\\msu\\phenologic_metrics\\src\\controllers\\metrics_bos_eso.py:37: SettingWithCopyWarning: \n",
      "A value is trying to be set on a copy of a slice from a DataFrame.\n",
      "Try using .loc[row_indexer,col_indexer] = value instead\n",
      "\n",
      "See the caveats in the documentation: https://pandas.pydata.org/pandas-docs/stable/user_guide/indexing.html#returning-a-view-versus-a-copy\n",
      "  self.interval_df['first_derivative'] = self.interval_df['savitzky_golay'].diff().fillna(0)\n"
     ]
    },
    {
     "name": "stdout",
     "output_type": "stream",
     "text": [
      "Saved phenology_df to base/polygon_343\\phenology_df.csv\n",
      "Saved df_01 to base/polygon_343\\data_base.csv\n",
      "344 12\n"
     ]
    },
    {
     "name": "stderr",
     "output_type": "stream",
     "text": [
      "c:\\Users\\ander\\OneDrive\\Área de Trabalho\\msu\\phenologic_metrics\\src\\controllers\\metrics_bos_eso.py:37: SettingWithCopyWarning: \n",
      "A value is trying to be set on a copy of a slice from a DataFrame.\n",
      "Try using .loc[row_indexer,col_indexer] = value instead\n",
      "\n",
      "See the caveats in the documentation: https://pandas.pydata.org/pandas-docs/stable/user_guide/indexing.html#returning-a-view-versus-a-copy\n",
      "  self.interval_df['first_derivative'] = self.interval_df['savitzky_golay'].diff().fillna(0)\n"
     ]
    },
    {
     "name": "stdout",
     "output_type": "stream",
     "text": [
      "Saved phenology_df to base/polygon_344\\phenology_df.csv\n",
      "Saved df_01 to base/polygon_344\\data_base.csv\n",
      "345 13\n"
     ]
    },
    {
     "name": "stderr",
     "output_type": "stream",
     "text": [
      "c:\\Users\\ander\\OneDrive\\Área de Trabalho\\msu\\phenologic_metrics\\src\\controllers\\metrics_bos_eso.py:37: SettingWithCopyWarning: \n",
      "A value is trying to be set on a copy of a slice from a DataFrame.\n",
      "Try using .loc[row_indexer,col_indexer] = value instead\n",
      "\n",
      "See the caveats in the documentation: https://pandas.pydata.org/pandas-docs/stable/user_guide/indexing.html#returning-a-view-versus-a-copy\n",
      "  self.interval_df['first_derivative'] = self.interval_df['savitzky_golay'].diff().fillna(0)\n"
     ]
    },
    {
     "name": "stdout",
     "output_type": "stream",
     "text": [
      "Saved phenology_df to base/polygon_345\\phenology_df.csv\n",
      "Saved df_01 to base/polygon_345\\data_base.csv\n",
      "346 14\n"
     ]
    },
    {
     "name": "stderr",
     "output_type": "stream",
     "text": [
      "c:\\Users\\ander\\OneDrive\\Área de Trabalho\\msu\\phenologic_metrics\\src\\controllers\\metrics_bos_eso.py:37: SettingWithCopyWarning: \n",
      "A value is trying to be set on a copy of a slice from a DataFrame.\n",
      "Try using .loc[row_indexer,col_indexer] = value instead\n",
      "\n",
      "See the caveats in the documentation: https://pandas.pydata.org/pandas-docs/stable/user_guide/indexing.html#returning-a-view-versus-a-copy\n",
      "  self.interval_df['first_derivative'] = self.interval_df['savitzky_golay'].diff().fillna(0)\n"
     ]
    },
    {
     "name": "stdout",
     "output_type": "stream",
     "text": [
      "Saved phenology_df to base/polygon_346\\phenology_df.csv\n",
      "Saved df_01 to base/polygon_346\\data_base.csv\n",
      "347 15\n"
     ]
    },
    {
     "name": "stderr",
     "output_type": "stream",
     "text": [
      "c:\\Users\\ander\\OneDrive\\Área de Trabalho\\msu\\phenologic_metrics\\src\\controllers\\metrics_bos_eso.py:37: SettingWithCopyWarning: \n",
      "A value is trying to be set on a copy of a slice from a DataFrame.\n",
      "Try using .loc[row_indexer,col_indexer] = value instead\n",
      "\n",
      "See the caveats in the documentation: https://pandas.pydata.org/pandas-docs/stable/user_guide/indexing.html#returning-a-view-versus-a-copy\n",
      "  self.interval_df['first_derivative'] = self.interval_df['savitzky_golay'].diff().fillna(0)\n"
     ]
    },
    {
     "name": "stdout",
     "output_type": "stream",
     "text": [
      "Saved phenology_df to base/polygon_347\\phenology_df.csv\n",
      "Saved df_01 to base/polygon_347\\data_base.csv\n",
      "348 16\n"
     ]
    },
    {
     "name": "stderr",
     "output_type": "stream",
     "text": [
      "c:\\Users\\ander\\OneDrive\\Área de Trabalho\\msu\\phenologic_metrics\\src\\controllers\\metrics_bos_eso.py:37: SettingWithCopyWarning: \n",
      "A value is trying to be set on a copy of a slice from a DataFrame.\n",
      "Try using .loc[row_indexer,col_indexer] = value instead\n",
      "\n",
      "See the caveats in the documentation: https://pandas.pydata.org/pandas-docs/stable/user_guide/indexing.html#returning-a-view-versus-a-copy\n",
      "  self.interval_df['first_derivative'] = self.interval_df['savitzky_golay'].diff().fillna(0)\n"
     ]
    },
    {
     "name": "stdout",
     "output_type": "stream",
     "text": [
      "Saved phenology_df to base/polygon_348\\phenology_df.csv\n",
      "Saved df_01 to base/polygon_348\\data_base.csv\n",
      "349 17\n"
     ]
    },
    {
     "name": "stderr",
     "output_type": "stream",
     "text": [
      "c:\\Users\\ander\\OneDrive\\Área de Trabalho\\msu\\phenologic_metrics\\src\\controllers\\metrics_bos_eso.py:37: SettingWithCopyWarning: \n",
      "A value is trying to be set on a copy of a slice from a DataFrame.\n",
      "Try using .loc[row_indexer,col_indexer] = value instead\n",
      "\n",
      "See the caveats in the documentation: https://pandas.pydata.org/pandas-docs/stable/user_guide/indexing.html#returning-a-view-versus-a-copy\n",
      "  self.interval_df['first_derivative'] = self.interval_df['savitzky_golay'].diff().fillna(0)\n"
     ]
    },
    {
     "name": "stdout",
     "output_type": "stream",
     "text": [
      "Saved phenology_df to base/polygon_349\\phenology_df.csv\n",
      "Saved df_01 to base/polygon_349\\data_base.csv\n",
      "350 18\n"
     ]
    },
    {
     "name": "stderr",
     "output_type": "stream",
     "text": [
      "c:\\Users\\ander\\OneDrive\\Área de Trabalho\\msu\\phenologic_metrics\\src\\controllers\\metrics_bos_eso.py:37: SettingWithCopyWarning: \n",
      "A value is trying to be set on a copy of a slice from a DataFrame.\n",
      "Try using .loc[row_indexer,col_indexer] = value instead\n",
      "\n",
      "See the caveats in the documentation: https://pandas.pydata.org/pandas-docs/stable/user_guide/indexing.html#returning-a-view-versus-a-copy\n",
      "  self.interval_df['first_derivative'] = self.interval_df['savitzky_golay'].diff().fillna(0)\n"
     ]
    },
    {
     "name": "stdout",
     "output_type": "stream",
     "text": [
      "Saved phenology_df to base/polygon_350\\phenology_df.csv\n",
      "Saved df_01 to base/polygon_350\\data_base.csv\n",
      "351 19\n"
     ]
    },
    {
     "name": "stderr",
     "output_type": "stream",
     "text": [
      "c:\\Users\\ander\\OneDrive\\Área de Trabalho\\msu\\phenologic_metrics\\src\\controllers\\metrics_bos_eso.py:37: SettingWithCopyWarning: \n",
      "A value is trying to be set on a copy of a slice from a DataFrame.\n",
      "Try using .loc[row_indexer,col_indexer] = value instead\n",
      "\n",
      "See the caveats in the documentation: https://pandas.pydata.org/pandas-docs/stable/user_guide/indexing.html#returning-a-view-versus-a-copy\n",
      "  self.interval_df['first_derivative'] = self.interval_df['savitzky_golay'].diff().fillna(0)\n"
     ]
    },
    {
     "name": "stdout",
     "output_type": "stream",
     "text": [
      "Saved phenology_df to base/polygon_351\\phenology_df.csv\n",
      "Saved df_01 to base/polygon_351\\data_base.csv\n",
      "352 20\n"
     ]
    },
    {
     "name": "stderr",
     "output_type": "stream",
     "text": [
      "c:\\Users\\ander\\OneDrive\\Área de Trabalho\\msu\\phenologic_metrics\\src\\controllers\\metrics_bos_eso.py:37: SettingWithCopyWarning: \n",
      "A value is trying to be set on a copy of a slice from a DataFrame.\n",
      "Try using .loc[row_indexer,col_indexer] = value instead\n",
      "\n",
      "See the caveats in the documentation: https://pandas.pydata.org/pandas-docs/stable/user_guide/indexing.html#returning-a-view-versus-a-copy\n",
      "  self.interval_df['first_derivative'] = self.interval_df['savitzky_golay'].diff().fillna(0)\n"
     ]
    },
    {
     "name": "stdout",
     "output_type": "stream",
     "text": [
      "Saved phenology_df to base/polygon_352\\phenology_df.csv\n",
      "Saved df_01 to base/polygon_352\\data_base.csv\n",
      "353 21\n"
     ]
    },
    {
     "name": "stderr",
     "output_type": "stream",
     "text": [
      "c:\\Users\\ander\\OneDrive\\Área de Trabalho\\msu\\phenologic_metrics\\src\\controllers\\metrics_bos_eso.py:37: SettingWithCopyWarning: \n",
      "A value is trying to be set on a copy of a slice from a DataFrame.\n",
      "Try using .loc[row_indexer,col_indexer] = value instead\n",
      "\n",
      "See the caveats in the documentation: https://pandas.pydata.org/pandas-docs/stable/user_guide/indexing.html#returning-a-view-versus-a-copy\n",
      "  self.interval_df['first_derivative'] = self.interval_df['savitzky_golay'].diff().fillna(0)\n"
     ]
    },
    {
     "name": "stdout",
     "output_type": "stream",
     "text": [
      "Saved phenology_df to base/polygon_353\\phenology_df.csv\n",
      "Saved df_01 to base/polygon_353\\data_base.csv\n",
      "354 22\n"
     ]
    },
    {
     "name": "stderr",
     "output_type": "stream",
     "text": [
      "c:\\Users\\ander\\OneDrive\\Área de Trabalho\\msu\\phenologic_metrics\\src\\controllers\\metrics_bos_eso.py:37: SettingWithCopyWarning: \n",
      "A value is trying to be set on a copy of a slice from a DataFrame.\n",
      "Try using .loc[row_indexer,col_indexer] = value instead\n",
      "\n",
      "See the caveats in the documentation: https://pandas.pydata.org/pandas-docs/stable/user_guide/indexing.html#returning-a-view-versus-a-copy\n",
      "  self.interval_df['first_derivative'] = self.interval_df['savitzky_golay'].diff().fillna(0)\n"
     ]
    },
    {
     "name": "stdout",
     "output_type": "stream",
     "text": [
      "Saved phenology_df to base/polygon_354\\phenology_df.csv\n",
      "Saved df_01 to base/polygon_354\\data_base.csv\n",
      "355 23\n"
     ]
    },
    {
     "name": "stderr",
     "output_type": "stream",
     "text": [
      "c:\\Users\\ander\\OneDrive\\Área de Trabalho\\msu\\phenologic_metrics\\src\\controllers\\metrics_bos_eso.py:37: SettingWithCopyWarning: \n",
      "A value is trying to be set on a copy of a slice from a DataFrame.\n",
      "Try using .loc[row_indexer,col_indexer] = value instead\n",
      "\n",
      "See the caveats in the documentation: https://pandas.pydata.org/pandas-docs/stable/user_guide/indexing.html#returning-a-view-versus-a-copy\n",
      "  self.interval_df['first_derivative'] = self.interval_df['savitzky_golay'].diff().fillna(0)\n"
     ]
    },
    {
     "name": "stdout",
     "output_type": "stream",
     "text": [
      "Saved phenology_df to base/polygon_355\\phenology_df.csv\n",
      "Saved df_01 to base/polygon_355\\data_base.csv\n",
      "356 24\n"
     ]
    },
    {
     "name": "stderr",
     "output_type": "stream",
     "text": [
      "c:\\Users\\ander\\OneDrive\\Área de Trabalho\\msu\\phenologic_metrics\\src\\controllers\\metrics_bos_eso.py:37: SettingWithCopyWarning: \n",
      "A value is trying to be set on a copy of a slice from a DataFrame.\n",
      "Try using .loc[row_indexer,col_indexer] = value instead\n",
      "\n",
      "See the caveats in the documentation: https://pandas.pydata.org/pandas-docs/stable/user_guide/indexing.html#returning-a-view-versus-a-copy\n",
      "  self.interval_df['first_derivative'] = self.interval_df['savitzky_golay'].diff().fillna(0)\n"
     ]
    },
    {
     "name": "stdout",
     "output_type": "stream",
     "text": [
      "Saved phenology_df to base/polygon_356\\phenology_df.csv\n",
      "Saved df_01 to base/polygon_356\\data_base.csv\n",
      "357 25\n"
     ]
    },
    {
     "name": "stderr",
     "output_type": "stream",
     "text": [
      "c:\\Users\\ander\\OneDrive\\Área de Trabalho\\msu\\phenologic_metrics\\src\\controllers\\metrics_bos_eso.py:37: SettingWithCopyWarning: \n",
      "A value is trying to be set on a copy of a slice from a DataFrame.\n",
      "Try using .loc[row_indexer,col_indexer] = value instead\n",
      "\n",
      "See the caveats in the documentation: https://pandas.pydata.org/pandas-docs/stable/user_guide/indexing.html#returning-a-view-versus-a-copy\n",
      "  self.interval_df['first_derivative'] = self.interval_df['savitzky_golay'].diff().fillna(0)\n"
     ]
    },
    {
     "name": "stdout",
     "output_type": "stream",
     "text": [
      "Saved phenology_df to base/polygon_357\\phenology_df.csv\n",
      "Saved df_01 to base/polygon_357\\data_base.csv\n",
      "358 26\n"
     ]
    },
    {
     "name": "stderr",
     "output_type": "stream",
     "text": [
      "c:\\Users\\ander\\OneDrive\\Área de Trabalho\\msu\\phenologic_metrics\\src\\controllers\\metrics_bos_eso.py:37: SettingWithCopyWarning: \n",
      "A value is trying to be set on a copy of a slice from a DataFrame.\n",
      "Try using .loc[row_indexer,col_indexer] = value instead\n",
      "\n",
      "See the caveats in the documentation: https://pandas.pydata.org/pandas-docs/stable/user_guide/indexing.html#returning-a-view-versus-a-copy\n",
      "  self.interval_df['first_derivative'] = self.interval_df['savitzky_golay'].diff().fillna(0)\n"
     ]
    },
    {
     "name": "stdout",
     "output_type": "stream",
     "text": [
      "Saved phenology_df to base/polygon_358\\phenology_df.csv\n",
      "Saved df_01 to base/polygon_358\\data_base.csv\n",
      "359 27\n"
     ]
    },
    {
     "name": "stderr",
     "output_type": "stream",
     "text": [
      "c:\\Users\\ander\\OneDrive\\Área de Trabalho\\msu\\phenologic_metrics\\src\\controllers\\metrics_bos_eso.py:37: SettingWithCopyWarning: \n",
      "A value is trying to be set on a copy of a slice from a DataFrame.\n",
      "Try using .loc[row_indexer,col_indexer] = value instead\n",
      "\n",
      "See the caveats in the documentation: https://pandas.pydata.org/pandas-docs/stable/user_guide/indexing.html#returning-a-view-versus-a-copy\n",
      "  self.interval_df['first_derivative'] = self.interval_df['savitzky_golay'].diff().fillna(0)\n"
     ]
    },
    {
     "name": "stdout",
     "output_type": "stream",
     "text": [
      "Saved phenology_df to base/polygon_359\\phenology_df.csv\n",
      "Saved df_01 to base/polygon_359\\data_base.csv\n",
      "360 28\n"
     ]
    },
    {
     "name": "stderr",
     "output_type": "stream",
     "text": [
      "c:\\Users\\ander\\OneDrive\\Área de Trabalho\\msu\\phenologic_metrics\\src\\controllers\\metrics_bos_eso.py:37: SettingWithCopyWarning: \n",
      "A value is trying to be set on a copy of a slice from a DataFrame.\n",
      "Try using .loc[row_indexer,col_indexer] = value instead\n",
      "\n",
      "See the caveats in the documentation: https://pandas.pydata.org/pandas-docs/stable/user_guide/indexing.html#returning-a-view-versus-a-copy\n",
      "  self.interval_df['first_derivative'] = self.interval_df['savitzky_golay'].diff().fillna(0)\n"
     ]
    },
    {
     "name": "stdout",
     "output_type": "stream",
     "text": [
      "Saved phenology_df to base/polygon_360\\phenology_df.csv\n",
      "Saved df_01 to base/polygon_360\\data_base.csv\n",
      "361 29\n"
     ]
    },
    {
     "name": "stderr",
     "output_type": "stream",
     "text": [
      "c:\\Users\\ander\\OneDrive\\Área de Trabalho\\msu\\phenologic_metrics\\src\\controllers\\metrics_bos_eso.py:37: SettingWithCopyWarning: \n",
      "A value is trying to be set on a copy of a slice from a DataFrame.\n",
      "Try using .loc[row_indexer,col_indexer] = value instead\n",
      "\n",
      "See the caveats in the documentation: https://pandas.pydata.org/pandas-docs/stable/user_guide/indexing.html#returning-a-view-versus-a-copy\n",
      "  self.interval_df['first_derivative'] = self.interval_df['savitzky_golay'].diff().fillna(0)\n"
     ]
    },
    {
     "name": "stdout",
     "output_type": "stream",
     "text": [
      "Saved phenology_df to base/polygon_361\\phenology_df.csv\n",
      "Saved df_01 to base/polygon_361\\data_base.csv\n",
      "362 30\n"
     ]
    },
    {
     "name": "stderr",
     "output_type": "stream",
     "text": [
      "c:\\Users\\ander\\OneDrive\\Área de Trabalho\\msu\\phenologic_metrics\\src\\controllers\\metrics_bos_eso.py:37: SettingWithCopyWarning: \n",
      "A value is trying to be set on a copy of a slice from a DataFrame.\n",
      "Try using .loc[row_indexer,col_indexer] = value instead\n",
      "\n",
      "See the caveats in the documentation: https://pandas.pydata.org/pandas-docs/stable/user_guide/indexing.html#returning-a-view-versus-a-copy\n",
      "  self.interval_df['first_derivative'] = self.interval_df['savitzky_golay'].diff().fillna(0)\n"
     ]
    },
    {
     "name": "stdout",
     "output_type": "stream",
     "text": [
      "Saved phenology_df to base/polygon_362\\phenology_df.csv\n",
      "Saved df_01 to base/polygon_362\\data_base.csv\n",
      "363 31\n"
     ]
    },
    {
     "name": "stderr",
     "output_type": "stream",
     "text": [
      "c:\\Users\\ander\\OneDrive\\Área de Trabalho\\msu\\phenologic_metrics\\src\\controllers\\metrics_bos_eso.py:37: SettingWithCopyWarning: \n",
      "A value is trying to be set on a copy of a slice from a DataFrame.\n",
      "Try using .loc[row_indexer,col_indexer] = value instead\n",
      "\n",
      "See the caveats in the documentation: https://pandas.pydata.org/pandas-docs/stable/user_guide/indexing.html#returning-a-view-versus-a-copy\n",
      "  self.interval_df['first_derivative'] = self.interval_df['savitzky_golay'].diff().fillna(0)\n"
     ]
    },
    {
     "name": "stdout",
     "output_type": "stream",
     "text": [
      "Saved phenology_df to base/polygon_363\\phenology_df.csv\n",
      "Saved df_01 to base/polygon_363\\data_base.csv\n",
      "364 32\n"
     ]
    },
    {
     "name": "stderr",
     "output_type": "stream",
     "text": [
      "c:\\Users\\ander\\OneDrive\\Área de Trabalho\\msu\\phenologic_metrics\\src\\controllers\\metrics_bos_eso.py:37: SettingWithCopyWarning: \n",
      "A value is trying to be set on a copy of a slice from a DataFrame.\n",
      "Try using .loc[row_indexer,col_indexer] = value instead\n",
      "\n",
      "See the caveats in the documentation: https://pandas.pydata.org/pandas-docs/stable/user_guide/indexing.html#returning-a-view-versus-a-copy\n",
      "  self.interval_df['first_derivative'] = self.interval_df['savitzky_golay'].diff().fillna(0)\n"
     ]
    },
    {
     "name": "stdout",
     "output_type": "stream",
     "text": [
      "Saved phenology_df to base/polygon_364\\phenology_df.csv\n",
      "Saved df_01 to base/polygon_364\\data_base.csv\n",
      "366 33\n"
     ]
    },
    {
     "name": "stderr",
     "output_type": "stream",
     "text": [
      "c:\\Users\\ander\\OneDrive\\Área de Trabalho\\msu\\phenologic_metrics\\src\\controllers\\metrics_bos_eso.py:37: SettingWithCopyWarning: \n",
      "A value is trying to be set on a copy of a slice from a DataFrame.\n",
      "Try using .loc[row_indexer,col_indexer] = value instead\n",
      "\n",
      "See the caveats in the documentation: https://pandas.pydata.org/pandas-docs/stable/user_guide/indexing.html#returning-a-view-versus-a-copy\n",
      "  self.interval_df['first_derivative'] = self.interval_df['savitzky_golay'].diff().fillna(0)\n"
     ]
    },
    {
     "name": "stdout",
     "output_type": "stream",
     "text": [
      "Saved phenology_df to base/polygon_366\\phenology_df.csv\n",
      "Saved df_01 to base/polygon_366\\data_base.csv\n",
      "369 34\n"
     ]
    },
    {
     "name": "stderr",
     "output_type": "stream",
     "text": [
      "c:\\Users\\ander\\OneDrive\\Área de Trabalho\\msu\\phenologic_metrics\\src\\controllers\\metrics_bos_eso.py:37: SettingWithCopyWarning: \n",
      "A value is trying to be set on a copy of a slice from a DataFrame.\n",
      "Try using .loc[row_indexer,col_indexer] = value instead\n",
      "\n",
      "See the caveats in the documentation: https://pandas.pydata.org/pandas-docs/stable/user_guide/indexing.html#returning-a-view-versus-a-copy\n",
      "  self.interval_df['first_derivative'] = self.interval_df['savitzky_golay'].diff().fillna(0)\n"
     ]
    },
    {
     "name": "stdout",
     "output_type": "stream",
     "text": [
      "Saved phenology_df to base/polygon_369\\phenology_df.csv\n",
      "Saved df_01 to base/polygon_369\\data_base.csv\n",
      "371 35\n"
     ]
    },
    {
     "name": "stderr",
     "output_type": "stream",
     "text": [
      "c:\\Users\\ander\\OneDrive\\Área de Trabalho\\msu\\phenologic_metrics\\src\\controllers\\metrics_bos_eso.py:37: SettingWithCopyWarning: \n",
      "A value is trying to be set on a copy of a slice from a DataFrame.\n",
      "Try using .loc[row_indexer,col_indexer] = value instead\n",
      "\n",
      "See the caveats in the documentation: https://pandas.pydata.org/pandas-docs/stable/user_guide/indexing.html#returning-a-view-versus-a-copy\n",
      "  self.interval_df['first_derivative'] = self.interval_df['savitzky_golay'].diff().fillna(0)\n"
     ]
    },
    {
     "name": "stdout",
     "output_type": "stream",
     "text": [
      "Saved phenology_df to base/polygon_371\\phenology_df.csv\n",
      "Saved df_01 to base/polygon_371\\data_base.csv\n",
      "372 36\n"
     ]
    },
    {
     "name": "stderr",
     "output_type": "stream",
     "text": [
      "c:\\Users\\ander\\OneDrive\\Área de Trabalho\\msu\\phenologic_metrics\\src\\controllers\\metrics_bos_eso.py:37: SettingWithCopyWarning: \n",
      "A value is trying to be set on a copy of a slice from a DataFrame.\n",
      "Try using .loc[row_indexer,col_indexer] = value instead\n",
      "\n",
      "See the caveats in the documentation: https://pandas.pydata.org/pandas-docs/stable/user_guide/indexing.html#returning-a-view-versus-a-copy\n",
      "  self.interval_df['first_derivative'] = self.interval_df['savitzky_golay'].diff().fillna(0)\n"
     ]
    },
    {
     "name": "stdout",
     "output_type": "stream",
     "text": [
      "Saved phenology_df to base/polygon_372\\phenology_df.csv\n",
      "Saved df_01 to base/polygon_372\\data_base.csv\n",
      "373 37\n"
     ]
    },
    {
     "name": "stderr",
     "output_type": "stream",
     "text": [
      "c:\\Users\\ander\\OneDrive\\Área de Trabalho\\msu\\phenologic_metrics\\src\\controllers\\metrics_bos_eso.py:37: SettingWithCopyWarning: \n",
      "A value is trying to be set on a copy of a slice from a DataFrame.\n",
      "Try using .loc[row_indexer,col_indexer] = value instead\n",
      "\n",
      "See the caveats in the documentation: https://pandas.pydata.org/pandas-docs/stable/user_guide/indexing.html#returning-a-view-versus-a-copy\n",
      "  self.interval_df['first_derivative'] = self.interval_df['savitzky_golay'].diff().fillna(0)\n"
     ]
    },
    {
     "name": "stdout",
     "output_type": "stream",
     "text": [
      "Saved phenology_df to base/polygon_373\\phenology_df.csv\n",
      "Saved df_01 to base/polygon_373\\data_base.csv\n",
      "374 38\n"
     ]
    },
    {
     "name": "stderr",
     "output_type": "stream",
     "text": [
      "c:\\Users\\ander\\OneDrive\\Área de Trabalho\\msu\\phenologic_metrics\\src\\controllers\\metrics_bos_eso.py:37: SettingWithCopyWarning: \n",
      "A value is trying to be set on a copy of a slice from a DataFrame.\n",
      "Try using .loc[row_indexer,col_indexer] = value instead\n",
      "\n",
      "See the caveats in the documentation: https://pandas.pydata.org/pandas-docs/stable/user_guide/indexing.html#returning-a-view-versus-a-copy\n",
      "  self.interval_df['first_derivative'] = self.interval_df['savitzky_golay'].diff().fillna(0)\n"
     ]
    },
    {
     "name": "stdout",
     "output_type": "stream",
     "text": [
      "Saved phenology_df to base/polygon_374\\phenology_df.csv\n",
      "Saved df_01 to base/polygon_374\\data_base.csv\n",
      "375 39\n"
     ]
    },
    {
     "name": "stderr",
     "output_type": "stream",
     "text": [
      "c:\\Users\\ander\\OneDrive\\Área de Trabalho\\msu\\phenologic_metrics\\src\\controllers\\metrics_bos_eso.py:37: SettingWithCopyWarning: \n",
      "A value is trying to be set on a copy of a slice from a DataFrame.\n",
      "Try using .loc[row_indexer,col_indexer] = value instead\n",
      "\n",
      "See the caveats in the documentation: https://pandas.pydata.org/pandas-docs/stable/user_guide/indexing.html#returning-a-view-versus-a-copy\n",
      "  self.interval_df['first_derivative'] = self.interval_df['savitzky_golay'].diff().fillna(0)\n"
     ]
    },
    {
     "name": "stdout",
     "output_type": "stream",
     "text": [
      "Saved phenology_df to base/polygon_375\\phenology_df.csv\n",
      "Saved df_01 to base/polygon_375\\data_base.csv\n",
      "376 40\n"
     ]
    },
    {
     "name": "stderr",
     "output_type": "stream",
     "text": [
      "c:\\Users\\ander\\OneDrive\\Área de Trabalho\\msu\\phenologic_metrics\\src\\controllers\\metrics_bos_eso.py:37: SettingWithCopyWarning: \n",
      "A value is trying to be set on a copy of a slice from a DataFrame.\n",
      "Try using .loc[row_indexer,col_indexer] = value instead\n",
      "\n",
      "See the caveats in the documentation: https://pandas.pydata.org/pandas-docs/stable/user_guide/indexing.html#returning-a-view-versus-a-copy\n",
      "  self.interval_df['first_derivative'] = self.interval_df['savitzky_golay'].diff().fillna(0)\n"
     ]
    },
    {
     "name": "stdout",
     "output_type": "stream",
     "text": [
      "Saved phenology_df to base/polygon_376\\phenology_df.csv\n",
      "Saved df_01 to base/polygon_376\\data_base.csv\n",
      "377 41\n"
     ]
    },
    {
     "name": "stderr",
     "output_type": "stream",
     "text": [
      "c:\\Users\\ander\\OneDrive\\Área de Trabalho\\msu\\phenologic_metrics\\src\\controllers\\metrics_bos_eso.py:37: SettingWithCopyWarning: \n",
      "A value is trying to be set on a copy of a slice from a DataFrame.\n",
      "Try using .loc[row_indexer,col_indexer] = value instead\n",
      "\n",
      "See the caveats in the documentation: https://pandas.pydata.org/pandas-docs/stable/user_guide/indexing.html#returning-a-view-versus-a-copy\n",
      "  self.interval_df['first_derivative'] = self.interval_df['savitzky_golay'].diff().fillna(0)\n"
     ]
    },
    {
     "name": "stdout",
     "output_type": "stream",
     "text": [
      "Saved phenology_df to base/polygon_377\\phenology_df.csv\n",
      "Saved df_01 to base/polygon_377\\data_base.csv\n",
      "378 42\n"
     ]
    },
    {
     "name": "stderr",
     "output_type": "stream",
     "text": [
      "c:\\Users\\ander\\OneDrive\\Área de Trabalho\\msu\\phenologic_metrics\\src\\controllers\\metrics_bos_eso.py:37: SettingWithCopyWarning: \n",
      "A value is trying to be set on a copy of a slice from a DataFrame.\n",
      "Try using .loc[row_indexer,col_indexer] = value instead\n",
      "\n",
      "See the caveats in the documentation: https://pandas.pydata.org/pandas-docs/stable/user_guide/indexing.html#returning-a-view-versus-a-copy\n",
      "  self.interval_df['first_derivative'] = self.interval_df['savitzky_golay'].diff().fillna(0)\n"
     ]
    },
    {
     "name": "stdout",
     "output_type": "stream",
     "text": [
      "Saved phenology_df to base/polygon_378\\phenology_df.csv\n",
      "Saved df_01 to base/polygon_378\\data_base.csv\n",
      "379 43\n"
     ]
    },
    {
     "name": "stderr",
     "output_type": "stream",
     "text": [
      "c:\\Users\\ander\\OneDrive\\Área de Trabalho\\msu\\phenologic_metrics\\src\\controllers\\metrics_bos_eso.py:37: SettingWithCopyWarning: \n",
      "A value is trying to be set on a copy of a slice from a DataFrame.\n",
      "Try using .loc[row_indexer,col_indexer] = value instead\n",
      "\n",
      "See the caveats in the documentation: https://pandas.pydata.org/pandas-docs/stable/user_guide/indexing.html#returning-a-view-versus-a-copy\n",
      "  self.interval_df['first_derivative'] = self.interval_df['savitzky_golay'].diff().fillna(0)\n"
     ]
    },
    {
     "name": "stdout",
     "output_type": "stream",
     "text": [
      "Saved phenology_df to base/polygon_379\\phenology_df.csv\n",
      "Saved df_01 to base/polygon_379\\data_base.csv\n",
      "380 44\n"
     ]
    },
    {
     "name": "stderr",
     "output_type": "stream",
     "text": [
      "c:\\Users\\ander\\OneDrive\\Área de Trabalho\\msu\\phenologic_metrics\\src\\controllers\\metrics_bos_eso.py:37: SettingWithCopyWarning: \n",
      "A value is trying to be set on a copy of a slice from a DataFrame.\n",
      "Try using .loc[row_indexer,col_indexer] = value instead\n",
      "\n",
      "See the caveats in the documentation: https://pandas.pydata.org/pandas-docs/stable/user_guide/indexing.html#returning-a-view-versus-a-copy\n",
      "  self.interval_df['first_derivative'] = self.interval_df['savitzky_golay'].diff().fillna(0)\n"
     ]
    },
    {
     "name": "stdout",
     "output_type": "stream",
     "text": [
      "Saved phenology_df to base/polygon_380\\phenology_df.csv\n",
      "Saved df_01 to base/polygon_380\\data_base.csv\n",
      "381 45\n"
     ]
    },
    {
     "name": "stderr",
     "output_type": "stream",
     "text": [
      "c:\\Users\\ander\\OneDrive\\Área de Trabalho\\msu\\phenologic_metrics\\src\\controllers\\metrics_bos_eso.py:37: SettingWithCopyWarning: \n",
      "A value is trying to be set on a copy of a slice from a DataFrame.\n",
      "Try using .loc[row_indexer,col_indexer] = value instead\n",
      "\n",
      "See the caveats in the documentation: https://pandas.pydata.org/pandas-docs/stable/user_guide/indexing.html#returning-a-view-versus-a-copy\n",
      "  self.interval_df['first_derivative'] = self.interval_df['savitzky_golay'].diff().fillna(0)\n"
     ]
    },
    {
     "name": "stdout",
     "output_type": "stream",
     "text": [
      "Saved phenology_df to base/polygon_381\\phenology_df.csv\n",
      "Saved df_01 to base/polygon_381\\data_base.csv\n",
      "382 46\n"
     ]
    },
    {
     "name": "stderr",
     "output_type": "stream",
     "text": [
      "c:\\Users\\ander\\OneDrive\\Área de Trabalho\\msu\\phenologic_metrics\\src\\controllers\\metrics_bos_eso.py:37: SettingWithCopyWarning: \n",
      "A value is trying to be set on a copy of a slice from a DataFrame.\n",
      "Try using .loc[row_indexer,col_indexer] = value instead\n",
      "\n",
      "See the caveats in the documentation: https://pandas.pydata.org/pandas-docs/stable/user_guide/indexing.html#returning-a-view-versus-a-copy\n",
      "  self.interval_df['first_derivative'] = self.interval_df['savitzky_golay'].diff().fillna(0)\n"
     ]
    },
    {
     "name": "stdout",
     "output_type": "stream",
     "text": [
      "Saved phenology_df to base/polygon_382\\phenology_df.csv\n",
      "Saved df_01 to base/polygon_382\\data_base.csv\n",
      "383 47\n"
     ]
    },
    {
     "name": "stderr",
     "output_type": "stream",
     "text": [
      "c:\\Users\\ander\\OneDrive\\Área de Trabalho\\msu\\phenologic_metrics\\src\\controllers\\metrics_bos_eso.py:37: SettingWithCopyWarning: \n",
      "A value is trying to be set on a copy of a slice from a DataFrame.\n",
      "Try using .loc[row_indexer,col_indexer] = value instead\n",
      "\n",
      "See the caveats in the documentation: https://pandas.pydata.org/pandas-docs/stable/user_guide/indexing.html#returning-a-view-versus-a-copy\n",
      "  self.interval_df['first_derivative'] = self.interval_df['savitzky_golay'].diff().fillna(0)\n"
     ]
    },
    {
     "name": "stdout",
     "output_type": "stream",
     "text": [
      "Saved phenology_df to base/polygon_383\\phenology_df.csv\n",
      "Saved df_01 to base/polygon_383\\data_base.csv\n",
      "384 48\n"
     ]
    },
    {
     "name": "stderr",
     "output_type": "stream",
     "text": [
      "c:\\Users\\ander\\OneDrive\\Área de Trabalho\\msu\\phenologic_metrics\\src\\controllers\\metrics_bos_eso.py:37: SettingWithCopyWarning: \n",
      "A value is trying to be set on a copy of a slice from a DataFrame.\n",
      "Try using .loc[row_indexer,col_indexer] = value instead\n",
      "\n",
      "See the caveats in the documentation: https://pandas.pydata.org/pandas-docs/stable/user_guide/indexing.html#returning-a-view-versus-a-copy\n",
      "  self.interval_df['first_derivative'] = self.interval_df['savitzky_golay'].diff().fillna(0)\n"
     ]
    },
    {
     "name": "stdout",
     "output_type": "stream",
     "text": [
      "Saved phenology_df to base/polygon_384\\phenology_df.csv\n",
      "Saved df_01 to base/polygon_384\\data_base.csv\n",
      "386 49\n"
     ]
    },
    {
     "name": "stderr",
     "output_type": "stream",
     "text": [
      "c:\\Users\\ander\\OneDrive\\Área de Trabalho\\msu\\phenologic_metrics\\src\\controllers\\metrics_bos_eso.py:37: SettingWithCopyWarning: \n",
      "A value is trying to be set on a copy of a slice from a DataFrame.\n",
      "Try using .loc[row_indexer,col_indexer] = value instead\n",
      "\n",
      "See the caveats in the documentation: https://pandas.pydata.org/pandas-docs/stable/user_guide/indexing.html#returning-a-view-versus-a-copy\n",
      "  self.interval_df['first_derivative'] = self.interval_df['savitzky_golay'].diff().fillna(0)\n"
     ]
    },
    {
     "name": "stdout",
     "output_type": "stream",
     "text": [
      "Saved phenology_df to base/polygon_386\\phenology_df.csv\n",
      "Saved df_01 to base/polygon_386\\data_base.csv\n",
      "388 50\n"
     ]
    },
    {
     "name": "stderr",
     "output_type": "stream",
     "text": [
      "c:\\Users\\ander\\OneDrive\\Área de Trabalho\\msu\\phenologic_metrics\\src\\controllers\\metrics_bos_eso.py:37: SettingWithCopyWarning: \n",
      "A value is trying to be set on a copy of a slice from a DataFrame.\n",
      "Try using .loc[row_indexer,col_indexer] = value instead\n",
      "\n",
      "See the caveats in the documentation: https://pandas.pydata.org/pandas-docs/stable/user_guide/indexing.html#returning-a-view-versus-a-copy\n",
      "  self.interval_df['first_derivative'] = self.interval_df['savitzky_golay'].diff().fillna(0)\n"
     ]
    },
    {
     "name": "stdout",
     "output_type": "stream",
     "text": [
      "Saved phenology_df to base/polygon_388\\phenology_df.csv\n",
      "Saved df_01 to base/polygon_388\\data_base.csv\n",
      "389 51\n"
     ]
    },
    {
     "name": "stderr",
     "output_type": "stream",
     "text": [
      "c:\\Users\\ander\\OneDrive\\Área de Trabalho\\msu\\phenologic_metrics\\src\\controllers\\metrics_bos_eso.py:37: SettingWithCopyWarning: \n",
      "A value is trying to be set on a copy of a slice from a DataFrame.\n",
      "Try using .loc[row_indexer,col_indexer] = value instead\n",
      "\n",
      "See the caveats in the documentation: https://pandas.pydata.org/pandas-docs/stable/user_guide/indexing.html#returning-a-view-versus-a-copy\n",
      "  self.interval_df['first_derivative'] = self.interval_df['savitzky_golay'].diff().fillna(0)\n"
     ]
    },
    {
     "name": "stdout",
     "output_type": "stream",
     "text": [
      "Saved phenology_df to base/polygon_389\\phenology_df.csv\n",
      "Saved df_01 to base/polygon_389\\data_base.csv\n",
      "390 52\n"
     ]
    },
    {
     "name": "stderr",
     "output_type": "stream",
     "text": [
      "c:\\Users\\ander\\OneDrive\\Área de Trabalho\\msu\\phenologic_metrics\\src\\controllers\\metrics_bos_eso.py:37: SettingWithCopyWarning: \n",
      "A value is trying to be set on a copy of a slice from a DataFrame.\n",
      "Try using .loc[row_indexer,col_indexer] = value instead\n",
      "\n",
      "See the caveats in the documentation: https://pandas.pydata.org/pandas-docs/stable/user_guide/indexing.html#returning-a-view-versus-a-copy\n",
      "  self.interval_df['first_derivative'] = self.interval_df['savitzky_golay'].diff().fillna(0)\n"
     ]
    },
    {
     "name": "stdout",
     "output_type": "stream",
     "text": [
      "Saved phenology_df to base/polygon_390\\phenology_df.csv\n",
      "Saved df_01 to base/polygon_390\\data_base.csv\n",
      "391 53\n"
     ]
    },
    {
     "name": "stderr",
     "output_type": "stream",
     "text": [
      "c:\\Users\\ander\\OneDrive\\Área de Trabalho\\msu\\phenologic_metrics\\src\\controllers\\metrics_bos_eso.py:37: SettingWithCopyWarning: \n",
      "A value is trying to be set on a copy of a slice from a DataFrame.\n",
      "Try using .loc[row_indexer,col_indexer] = value instead\n",
      "\n",
      "See the caveats in the documentation: https://pandas.pydata.org/pandas-docs/stable/user_guide/indexing.html#returning-a-view-versus-a-copy\n",
      "  self.interval_df['first_derivative'] = self.interval_df['savitzky_golay'].diff().fillna(0)\n"
     ]
    },
    {
     "name": "stdout",
     "output_type": "stream",
     "text": [
      "Saved phenology_df to base/polygon_391\\phenology_df.csv\n",
      "Saved df_01 to base/polygon_391\\data_base.csv\n",
      "392 54\n"
     ]
    },
    {
     "name": "stderr",
     "output_type": "stream",
     "text": [
      "c:\\Users\\ander\\OneDrive\\Área de Trabalho\\msu\\phenologic_metrics\\src\\controllers\\metrics_bos_eso.py:37: SettingWithCopyWarning: \n",
      "A value is trying to be set on a copy of a slice from a DataFrame.\n",
      "Try using .loc[row_indexer,col_indexer] = value instead\n",
      "\n",
      "See the caveats in the documentation: https://pandas.pydata.org/pandas-docs/stable/user_guide/indexing.html#returning-a-view-versus-a-copy\n",
      "  self.interval_df['first_derivative'] = self.interval_df['savitzky_golay'].diff().fillna(0)\n"
     ]
    },
    {
     "name": "stdout",
     "output_type": "stream",
     "text": [
      "Saved phenology_df to base/polygon_392\\phenology_df.csv\n",
      "Saved df_01 to base/polygon_392\\data_base.csv\n",
      "393 55\n"
     ]
    },
    {
     "name": "stderr",
     "output_type": "stream",
     "text": [
      "c:\\Users\\ander\\OneDrive\\Área de Trabalho\\msu\\phenologic_metrics\\src\\controllers\\metrics_bos_eso.py:37: SettingWithCopyWarning: \n",
      "A value is trying to be set on a copy of a slice from a DataFrame.\n",
      "Try using .loc[row_indexer,col_indexer] = value instead\n",
      "\n",
      "See the caveats in the documentation: https://pandas.pydata.org/pandas-docs/stable/user_guide/indexing.html#returning-a-view-versus-a-copy\n",
      "  self.interval_df['first_derivative'] = self.interval_df['savitzky_golay'].diff().fillna(0)\n"
     ]
    },
    {
     "name": "stdout",
     "output_type": "stream",
     "text": [
      "Saved phenology_df to base/polygon_393\\phenology_df.csv\n",
      "Saved df_01 to base/polygon_393\\data_base.csv\n",
      "394 56\n"
     ]
    },
    {
     "name": "stderr",
     "output_type": "stream",
     "text": [
      "c:\\Users\\ander\\OneDrive\\Área de Trabalho\\msu\\phenologic_metrics\\src\\controllers\\metrics_bos_eso.py:37: SettingWithCopyWarning: \n",
      "A value is trying to be set on a copy of a slice from a DataFrame.\n",
      "Try using .loc[row_indexer,col_indexer] = value instead\n",
      "\n",
      "See the caveats in the documentation: https://pandas.pydata.org/pandas-docs/stable/user_guide/indexing.html#returning-a-view-versus-a-copy\n",
      "  self.interval_df['first_derivative'] = self.interval_df['savitzky_golay'].diff().fillna(0)\n"
     ]
    },
    {
     "name": "stdout",
     "output_type": "stream",
     "text": [
      "Saved phenology_df to base/polygon_394\\phenology_df.csv\n",
      "Saved df_01 to base/polygon_394\\data_base.csv\n",
      "395 57\n"
     ]
    },
    {
     "name": "stderr",
     "output_type": "stream",
     "text": [
      "c:\\Users\\ander\\OneDrive\\Área de Trabalho\\msu\\phenologic_metrics\\src\\controllers\\metrics_bos_eso.py:37: SettingWithCopyWarning: \n",
      "A value is trying to be set on a copy of a slice from a DataFrame.\n",
      "Try using .loc[row_indexer,col_indexer] = value instead\n",
      "\n",
      "See the caveats in the documentation: https://pandas.pydata.org/pandas-docs/stable/user_guide/indexing.html#returning-a-view-versus-a-copy\n",
      "  self.interval_df['first_derivative'] = self.interval_df['savitzky_golay'].diff().fillna(0)\n"
     ]
    },
    {
     "name": "stdout",
     "output_type": "stream",
     "text": [
      "Saved phenology_df to base/polygon_395\\phenology_df.csv\n",
      "Saved df_01 to base/polygon_395\\data_base.csv\n",
      "396 58\n"
     ]
    },
    {
     "name": "stderr",
     "output_type": "stream",
     "text": [
      "c:\\Users\\ander\\OneDrive\\Área de Trabalho\\msu\\phenologic_metrics\\src\\controllers\\metrics_bos_eso.py:37: SettingWithCopyWarning: \n",
      "A value is trying to be set on a copy of a slice from a DataFrame.\n",
      "Try using .loc[row_indexer,col_indexer] = value instead\n",
      "\n",
      "See the caveats in the documentation: https://pandas.pydata.org/pandas-docs/stable/user_guide/indexing.html#returning-a-view-versus-a-copy\n",
      "  self.interval_df['first_derivative'] = self.interval_df['savitzky_golay'].diff().fillna(0)\n"
     ]
    },
    {
     "name": "stdout",
     "output_type": "stream",
     "text": [
      "Saved phenology_df to base/polygon_396\\phenology_df.csv\n",
      "Saved df_01 to base/polygon_396\\data_base.csv\n",
      "399 59\n"
     ]
    },
    {
     "name": "stderr",
     "output_type": "stream",
     "text": [
      "c:\\Users\\ander\\OneDrive\\Área de Trabalho\\msu\\phenologic_metrics\\src\\controllers\\metrics_bos_eso.py:37: SettingWithCopyWarning: \n",
      "A value is trying to be set on a copy of a slice from a DataFrame.\n",
      "Try using .loc[row_indexer,col_indexer] = value instead\n",
      "\n",
      "See the caveats in the documentation: https://pandas.pydata.org/pandas-docs/stable/user_guide/indexing.html#returning-a-view-versus-a-copy\n",
      "  self.interval_df['first_derivative'] = self.interval_df['savitzky_golay'].diff().fillna(0)\n"
     ]
    },
    {
     "name": "stdout",
     "output_type": "stream",
     "text": [
      "Saved phenology_df to base/polygon_399\\phenology_df.csv\n",
      "Saved df_01 to base/polygon_399\\data_base.csv\n",
      "400 60\n"
     ]
    },
    {
     "name": "stderr",
     "output_type": "stream",
     "text": [
      "c:\\Users\\ander\\OneDrive\\Área de Trabalho\\msu\\phenologic_metrics\\src\\controllers\\metrics_bos_eso.py:37: SettingWithCopyWarning: \n",
      "A value is trying to be set on a copy of a slice from a DataFrame.\n",
      "Try using .loc[row_indexer,col_indexer] = value instead\n",
      "\n",
      "See the caveats in the documentation: https://pandas.pydata.org/pandas-docs/stable/user_guide/indexing.html#returning-a-view-versus-a-copy\n",
      "  self.interval_df['first_derivative'] = self.interval_df['savitzky_golay'].diff().fillna(0)\n"
     ]
    },
    {
     "name": "stdout",
     "output_type": "stream",
     "text": [
      "Saved phenology_df to base/polygon_400\\phenology_df.csv\n",
      "Saved df_01 to base/polygon_400\\data_base.csv\n",
      "401 61\n"
     ]
    },
    {
     "name": "stderr",
     "output_type": "stream",
     "text": [
      "c:\\Users\\ander\\OneDrive\\Área de Trabalho\\msu\\phenologic_metrics\\src\\controllers\\metrics_bos_eso.py:37: SettingWithCopyWarning: \n",
      "A value is trying to be set on a copy of a slice from a DataFrame.\n",
      "Try using .loc[row_indexer,col_indexer] = value instead\n",
      "\n",
      "See the caveats in the documentation: https://pandas.pydata.org/pandas-docs/stable/user_guide/indexing.html#returning-a-view-versus-a-copy\n",
      "  self.interval_df['first_derivative'] = self.interval_df['savitzky_golay'].diff().fillna(0)\n"
     ]
    },
    {
     "name": "stdout",
     "output_type": "stream",
     "text": [
      "Saved phenology_df to base/polygon_401\\phenology_df.csv\n",
      "Saved df_01 to base/polygon_401\\data_base.csv\n",
      "402 62\n"
     ]
    },
    {
     "name": "stderr",
     "output_type": "stream",
     "text": [
      "c:\\Users\\ander\\OneDrive\\Área de Trabalho\\msu\\phenologic_metrics\\src\\controllers\\metrics_bos_eso.py:37: SettingWithCopyWarning: \n",
      "A value is trying to be set on a copy of a slice from a DataFrame.\n",
      "Try using .loc[row_indexer,col_indexer] = value instead\n",
      "\n",
      "See the caveats in the documentation: https://pandas.pydata.org/pandas-docs/stable/user_guide/indexing.html#returning-a-view-versus-a-copy\n",
      "  self.interval_df['first_derivative'] = self.interval_df['savitzky_golay'].diff().fillna(0)\n"
     ]
    },
    {
     "name": "stdout",
     "output_type": "stream",
     "text": [
      "Saved phenology_df to base/polygon_402\\phenology_df.csv\n",
      "Saved df_01 to base/polygon_402\\data_base.csv\n",
      "403 63\n"
     ]
    },
    {
     "name": "stderr",
     "output_type": "stream",
     "text": [
      "c:\\Users\\ander\\OneDrive\\Área de Trabalho\\msu\\phenologic_metrics\\src\\controllers\\metrics_bos_eso.py:37: SettingWithCopyWarning: \n",
      "A value is trying to be set on a copy of a slice from a DataFrame.\n",
      "Try using .loc[row_indexer,col_indexer] = value instead\n",
      "\n",
      "See the caveats in the documentation: https://pandas.pydata.org/pandas-docs/stable/user_guide/indexing.html#returning-a-view-versus-a-copy\n",
      "  self.interval_df['first_derivative'] = self.interval_df['savitzky_golay'].diff().fillna(0)\n"
     ]
    },
    {
     "name": "stdout",
     "output_type": "stream",
     "text": [
      "Saved phenology_df to base/polygon_403\\phenology_df.csv\n",
      "Saved df_01 to base/polygon_403\\data_base.csv\n",
      "404 64\n"
     ]
    },
    {
     "name": "stderr",
     "output_type": "stream",
     "text": [
      "c:\\Users\\ander\\OneDrive\\Área de Trabalho\\msu\\phenologic_metrics\\src\\controllers\\metrics_bos_eso.py:37: SettingWithCopyWarning: \n",
      "A value is trying to be set on a copy of a slice from a DataFrame.\n",
      "Try using .loc[row_indexer,col_indexer] = value instead\n",
      "\n",
      "See the caveats in the documentation: https://pandas.pydata.org/pandas-docs/stable/user_guide/indexing.html#returning-a-view-versus-a-copy\n",
      "  self.interval_df['first_derivative'] = self.interval_df['savitzky_golay'].diff().fillna(0)\n"
     ]
    },
    {
     "name": "stdout",
     "output_type": "stream",
     "text": [
      "Saved phenology_df to base/polygon_404\\phenology_df.csv\n",
      "Saved df_01 to base/polygon_404\\data_base.csv\n",
      "405 65\n"
     ]
    },
    {
     "name": "stderr",
     "output_type": "stream",
     "text": [
      "c:\\Users\\ander\\OneDrive\\Área de Trabalho\\msu\\phenologic_metrics\\src\\controllers\\metrics_bos_eso.py:37: SettingWithCopyWarning: \n",
      "A value is trying to be set on a copy of a slice from a DataFrame.\n",
      "Try using .loc[row_indexer,col_indexer] = value instead\n",
      "\n",
      "See the caveats in the documentation: https://pandas.pydata.org/pandas-docs/stable/user_guide/indexing.html#returning-a-view-versus-a-copy\n",
      "  self.interval_df['first_derivative'] = self.interval_df['savitzky_golay'].diff().fillna(0)\n"
     ]
    },
    {
     "name": "stdout",
     "output_type": "stream",
     "text": [
      "Saved phenology_df to base/polygon_405\\phenology_df.csv\n",
      "Saved df_01 to base/polygon_405\\data_base.csv\n",
      "406 66\n"
     ]
    },
    {
     "name": "stderr",
     "output_type": "stream",
     "text": [
      "c:\\Users\\ander\\OneDrive\\Área de Trabalho\\msu\\phenologic_metrics\\src\\controllers\\metrics_bos_eso.py:37: SettingWithCopyWarning: \n",
      "A value is trying to be set on a copy of a slice from a DataFrame.\n",
      "Try using .loc[row_indexer,col_indexer] = value instead\n",
      "\n",
      "See the caveats in the documentation: https://pandas.pydata.org/pandas-docs/stable/user_guide/indexing.html#returning-a-view-versus-a-copy\n",
      "  self.interval_df['first_derivative'] = self.interval_df['savitzky_golay'].diff().fillna(0)\n"
     ]
    },
    {
     "name": "stdout",
     "output_type": "stream",
     "text": [
      "Saved phenology_df to base/polygon_406\\phenology_df.csv\n",
      "Saved df_01 to base/polygon_406\\data_base.csv\n",
      "407 67\n"
     ]
    },
    {
     "name": "stderr",
     "output_type": "stream",
     "text": [
      "c:\\Users\\ander\\OneDrive\\Área de Trabalho\\msu\\phenologic_metrics\\src\\controllers\\metrics_bos_eso.py:37: SettingWithCopyWarning: \n",
      "A value is trying to be set on a copy of a slice from a DataFrame.\n",
      "Try using .loc[row_indexer,col_indexer] = value instead\n",
      "\n",
      "See the caveats in the documentation: https://pandas.pydata.org/pandas-docs/stable/user_guide/indexing.html#returning-a-view-versus-a-copy\n",
      "  self.interval_df['first_derivative'] = self.interval_df['savitzky_golay'].diff().fillna(0)\n"
     ]
    },
    {
     "name": "stdout",
     "output_type": "stream",
     "text": [
      "Saved phenology_df to base/polygon_407\\phenology_df.csv\n",
      "Saved df_01 to base/polygon_407\\data_base.csv\n",
      "408 68\n"
     ]
    },
    {
     "name": "stderr",
     "output_type": "stream",
     "text": [
      "c:\\Users\\ander\\OneDrive\\Área de Trabalho\\msu\\phenologic_metrics\\src\\controllers\\metrics_bos_eso.py:37: SettingWithCopyWarning: \n",
      "A value is trying to be set on a copy of a slice from a DataFrame.\n",
      "Try using .loc[row_indexer,col_indexer] = value instead\n",
      "\n",
      "See the caveats in the documentation: https://pandas.pydata.org/pandas-docs/stable/user_guide/indexing.html#returning-a-view-versus-a-copy\n",
      "  self.interval_df['first_derivative'] = self.interval_df['savitzky_golay'].diff().fillna(0)\n"
     ]
    },
    {
     "name": "stdout",
     "output_type": "stream",
     "text": [
      "Saved phenology_df to base/polygon_408\\phenology_df.csv\n",
      "Saved df_01 to base/polygon_408\\data_base.csv\n",
      "409 69\n"
     ]
    },
    {
     "name": "stderr",
     "output_type": "stream",
     "text": [
      "c:\\Users\\ander\\OneDrive\\Área de Trabalho\\msu\\phenologic_metrics\\src\\controllers\\metrics_bos_eso.py:37: SettingWithCopyWarning: \n",
      "A value is trying to be set on a copy of a slice from a DataFrame.\n",
      "Try using .loc[row_indexer,col_indexer] = value instead\n",
      "\n",
      "See the caveats in the documentation: https://pandas.pydata.org/pandas-docs/stable/user_guide/indexing.html#returning-a-view-versus-a-copy\n",
      "  self.interval_df['first_derivative'] = self.interval_df['savitzky_golay'].diff().fillna(0)\n"
     ]
    },
    {
     "name": "stdout",
     "output_type": "stream",
     "text": [
      "Saved phenology_df to base/polygon_409\\phenology_df.csv\n",
      "Saved df_01 to base/polygon_409\\data_base.csv\n",
      "410 70\n"
     ]
    },
    {
     "name": "stderr",
     "output_type": "stream",
     "text": [
      "c:\\Users\\ander\\OneDrive\\Área de Trabalho\\msu\\phenologic_metrics\\src\\controllers\\metrics_bos_eso.py:37: SettingWithCopyWarning: \n",
      "A value is trying to be set on a copy of a slice from a DataFrame.\n",
      "Try using .loc[row_indexer,col_indexer] = value instead\n",
      "\n",
      "See the caveats in the documentation: https://pandas.pydata.org/pandas-docs/stable/user_guide/indexing.html#returning-a-view-versus-a-copy\n",
      "  self.interval_df['first_derivative'] = self.interval_df['savitzky_golay'].diff().fillna(0)\n"
     ]
    },
    {
     "name": "stdout",
     "output_type": "stream",
     "text": [
      "Saved phenology_df to base/polygon_410\\phenology_df.csv\n",
      "Saved df_01 to base/polygon_410\\data_base.csv\n",
      "411 71\n"
     ]
    },
    {
     "name": "stderr",
     "output_type": "stream",
     "text": [
      "c:\\Users\\ander\\OneDrive\\Área de Trabalho\\msu\\phenologic_metrics\\src\\controllers\\metrics_bos_eso.py:37: SettingWithCopyWarning: \n",
      "A value is trying to be set on a copy of a slice from a DataFrame.\n",
      "Try using .loc[row_indexer,col_indexer] = value instead\n",
      "\n",
      "See the caveats in the documentation: https://pandas.pydata.org/pandas-docs/stable/user_guide/indexing.html#returning-a-view-versus-a-copy\n",
      "  self.interval_df['first_derivative'] = self.interval_df['savitzky_golay'].diff().fillna(0)\n"
     ]
    },
    {
     "name": "stdout",
     "output_type": "stream",
     "text": [
      "Saved phenology_df to base/polygon_411\\phenology_df.csv\n",
      "Saved df_01 to base/polygon_411\\data_base.csv\n",
      "412 72\n"
     ]
    },
    {
     "name": "stderr",
     "output_type": "stream",
     "text": [
      "c:\\Users\\ander\\OneDrive\\Área de Trabalho\\msu\\phenologic_metrics\\src\\controllers\\metrics_bos_eso.py:37: SettingWithCopyWarning: \n",
      "A value is trying to be set on a copy of a slice from a DataFrame.\n",
      "Try using .loc[row_indexer,col_indexer] = value instead\n",
      "\n",
      "See the caveats in the documentation: https://pandas.pydata.org/pandas-docs/stable/user_guide/indexing.html#returning-a-view-versus-a-copy\n",
      "  self.interval_df['first_derivative'] = self.interval_df['savitzky_golay'].diff().fillna(0)\n"
     ]
    },
    {
     "name": "stdout",
     "output_type": "stream",
     "text": [
      "Saved phenology_df to base/polygon_412\\phenology_df.csv\n",
      "Saved df_01 to base/polygon_412\\data_base.csv\n",
      "413 73\n"
     ]
    },
    {
     "name": "stderr",
     "output_type": "stream",
     "text": [
      "c:\\Users\\ander\\OneDrive\\Área de Trabalho\\msu\\phenologic_metrics\\src\\controllers\\metrics_bos_eso.py:37: SettingWithCopyWarning: \n",
      "A value is trying to be set on a copy of a slice from a DataFrame.\n",
      "Try using .loc[row_indexer,col_indexer] = value instead\n",
      "\n",
      "See the caveats in the documentation: https://pandas.pydata.org/pandas-docs/stable/user_guide/indexing.html#returning-a-view-versus-a-copy\n",
      "  self.interval_df['first_derivative'] = self.interval_df['savitzky_golay'].diff().fillna(0)\n"
     ]
    },
    {
     "name": "stdout",
     "output_type": "stream",
     "text": [
      "Saved phenology_df to base/polygon_413\\phenology_df.csv\n",
      "Saved df_01 to base/polygon_413\\data_base.csv\n",
      "414 74\n"
     ]
    },
    {
     "name": "stderr",
     "output_type": "stream",
     "text": [
      "c:\\Users\\ander\\OneDrive\\Área de Trabalho\\msu\\phenologic_metrics\\src\\controllers\\metrics_bos_eso.py:37: SettingWithCopyWarning: \n",
      "A value is trying to be set on a copy of a slice from a DataFrame.\n",
      "Try using .loc[row_indexer,col_indexer] = value instead\n",
      "\n",
      "See the caveats in the documentation: https://pandas.pydata.org/pandas-docs/stable/user_guide/indexing.html#returning-a-view-versus-a-copy\n",
      "  self.interval_df['first_derivative'] = self.interval_df['savitzky_golay'].diff().fillna(0)\n"
     ]
    },
    {
     "name": "stdout",
     "output_type": "stream",
     "text": [
      "Saved phenology_df to base/polygon_414\\phenology_df.csv\n",
      "Saved df_01 to base/polygon_414\\data_base.csv\n",
      "415 75\n"
     ]
    },
    {
     "name": "stderr",
     "output_type": "stream",
     "text": [
      "c:\\Users\\ander\\OneDrive\\Área de Trabalho\\msu\\phenologic_metrics\\src\\controllers\\metrics_bos_eso.py:37: SettingWithCopyWarning: \n",
      "A value is trying to be set on a copy of a slice from a DataFrame.\n",
      "Try using .loc[row_indexer,col_indexer] = value instead\n",
      "\n",
      "See the caveats in the documentation: https://pandas.pydata.org/pandas-docs/stable/user_guide/indexing.html#returning-a-view-versus-a-copy\n",
      "  self.interval_df['first_derivative'] = self.interval_df['savitzky_golay'].diff().fillna(0)\n"
     ]
    },
    {
     "name": "stdout",
     "output_type": "stream",
     "text": [
      "Saved phenology_df to base/polygon_415\\phenology_df.csv\n",
      "Saved df_01 to base/polygon_415\\data_base.csv\n",
      "416 76\n"
     ]
    },
    {
     "name": "stderr",
     "output_type": "stream",
     "text": [
      "c:\\Users\\ander\\OneDrive\\Área de Trabalho\\msu\\phenologic_metrics\\src\\controllers\\metrics_bos_eso.py:37: SettingWithCopyWarning: \n",
      "A value is trying to be set on a copy of a slice from a DataFrame.\n",
      "Try using .loc[row_indexer,col_indexer] = value instead\n",
      "\n",
      "See the caveats in the documentation: https://pandas.pydata.org/pandas-docs/stable/user_guide/indexing.html#returning-a-view-versus-a-copy\n",
      "  self.interval_df['first_derivative'] = self.interval_df['savitzky_golay'].diff().fillna(0)\n"
     ]
    },
    {
     "name": "stdout",
     "output_type": "stream",
     "text": [
      "Saved phenology_df to base/polygon_416\\phenology_df.csv\n",
      "Saved df_01 to base/polygon_416\\data_base.csv\n",
      "417 77\n"
     ]
    },
    {
     "name": "stderr",
     "output_type": "stream",
     "text": [
      "c:\\Users\\ander\\OneDrive\\Área de Trabalho\\msu\\phenologic_metrics\\src\\controllers\\metrics_bos_eso.py:37: SettingWithCopyWarning: \n",
      "A value is trying to be set on a copy of a slice from a DataFrame.\n",
      "Try using .loc[row_indexer,col_indexer] = value instead\n",
      "\n",
      "See the caveats in the documentation: https://pandas.pydata.org/pandas-docs/stable/user_guide/indexing.html#returning-a-view-versus-a-copy\n",
      "  self.interval_df['first_derivative'] = self.interval_df['savitzky_golay'].diff().fillna(0)\n"
     ]
    },
    {
     "name": "stdout",
     "output_type": "stream",
     "text": [
      "Saved phenology_df to base/polygon_417\\phenology_df.csv\n",
      "Saved df_01 to base/polygon_417\\data_base.csv\n",
      "418 78\n"
     ]
    },
    {
     "name": "stderr",
     "output_type": "stream",
     "text": [
      "c:\\Users\\ander\\OneDrive\\Área de Trabalho\\msu\\phenologic_metrics\\src\\controllers\\metrics_bos_eso.py:37: SettingWithCopyWarning: \n",
      "A value is trying to be set on a copy of a slice from a DataFrame.\n",
      "Try using .loc[row_indexer,col_indexer] = value instead\n",
      "\n",
      "See the caveats in the documentation: https://pandas.pydata.org/pandas-docs/stable/user_guide/indexing.html#returning-a-view-versus-a-copy\n",
      "  self.interval_df['first_derivative'] = self.interval_df['savitzky_golay'].diff().fillna(0)\n"
     ]
    },
    {
     "name": "stdout",
     "output_type": "stream",
     "text": [
      "Saved phenology_df to base/polygon_418\\phenology_df.csv\n",
      "Saved df_01 to base/polygon_418\\data_base.csv\n",
      "419 79\n"
     ]
    },
    {
     "name": "stderr",
     "output_type": "stream",
     "text": [
      "c:\\Users\\ander\\OneDrive\\Área de Trabalho\\msu\\phenologic_metrics\\src\\controllers\\metrics_bos_eso.py:37: SettingWithCopyWarning: \n",
      "A value is trying to be set on a copy of a slice from a DataFrame.\n",
      "Try using .loc[row_indexer,col_indexer] = value instead\n",
      "\n",
      "See the caveats in the documentation: https://pandas.pydata.org/pandas-docs/stable/user_guide/indexing.html#returning-a-view-versus-a-copy\n",
      "  self.interval_df['first_derivative'] = self.interval_df['savitzky_golay'].diff().fillna(0)\n"
     ]
    },
    {
     "name": "stdout",
     "output_type": "stream",
     "text": [
      "Saved phenology_df to base/polygon_419\\phenology_df.csv\n",
      "Saved df_01 to base/polygon_419\\data_base.csv\n",
      "420 80\n"
     ]
    },
    {
     "name": "stderr",
     "output_type": "stream",
     "text": [
      "c:\\Users\\ander\\OneDrive\\Área de Trabalho\\msu\\phenologic_metrics\\src\\controllers\\metrics_bos_eso.py:37: SettingWithCopyWarning: \n",
      "A value is trying to be set on a copy of a slice from a DataFrame.\n",
      "Try using .loc[row_indexer,col_indexer] = value instead\n",
      "\n",
      "See the caveats in the documentation: https://pandas.pydata.org/pandas-docs/stable/user_guide/indexing.html#returning-a-view-versus-a-copy\n",
      "  self.interval_df['first_derivative'] = self.interval_df['savitzky_golay'].diff().fillna(0)\n"
     ]
    },
    {
     "name": "stdout",
     "output_type": "stream",
     "text": [
      "Saved phenology_df to base/polygon_420\\phenology_df.csv\n",
      "Saved df_01 to base/polygon_420\\data_base.csv\n",
      "421 81\n"
     ]
    },
    {
     "name": "stderr",
     "output_type": "stream",
     "text": [
      "c:\\Users\\ander\\OneDrive\\Área de Trabalho\\msu\\phenologic_metrics\\src\\controllers\\metrics_bos_eso.py:37: SettingWithCopyWarning: \n",
      "A value is trying to be set on a copy of a slice from a DataFrame.\n",
      "Try using .loc[row_indexer,col_indexer] = value instead\n",
      "\n",
      "See the caveats in the documentation: https://pandas.pydata.org/pandas-docs/stable/user_guide/indexing.html#returning-a-view-versus-a-copy\n",
      "  self.interval_df['first_derivative'] = self.interval_df['savitzky_golay'].diff().fillna(0)\n"
     ]
    },
    {
     "name": "stdout",
     "output_type": "stream",
     "text": [
      "Saved phenology_df to base/polygon_421\\phenology_df.csv\n",
      "Saved df_01 to base/polygon_421\\data_base.csv\n",
      "422 82\n"
     ]
    },
    {
     "name": "stderr",
     "output_type": "stream",
     "text": [
      "c:\\Users\\ander\\OneDrive\\Área de Trabalho\\msu\\phenologic_metrics\\src\\controllers\\metrics_bos_eso.py:37: SettingWithCopyWarning: \n",
      "A value is trying to be set on a copy of a slice from a DataFrame.\n",
      "Try using .loc[row_indexer,col_indexer] = value instead\n",
      "\n",
      "See the caveats in the documentation: https://pandas.pydata.org/pandas-docs/stable/user_guide/indexing.html#returning-a-view-versus-a-copy\n",
      "  self.interval_df['first_derivative'] = self.interval_df['savitzky_golay'].diff().fillna(0)\n"
     ]
    },
    {
     "name": "stdout",
     "output_type": "stream",
     "text": [
      "Saved phenology_df to base/polygon_422\\phenology_df.csv\n",
      "Saved df_01 to base/polygon_422\\data_base.csv\n",
      "423 83\n"
     ]
    },
    {
     "name": "stderr",
     "output_type": "stream",
     "text": [
      "c:\\Users\\ander\\OneDrive\\Área de Trabalho\\msu\\phenologic_metrics\\src\\controllers\\metrics_bos_eso.py:37: SettingWithCopyWarning: \n",
      "A value is trying to be set on a copy of a slice from a DataFrame.\n",
      "Try using .loc[row_indexer,col_indexer] = value instead\n",
      "\n",
      "See the caveats in the documentation: https://pandas.pydata.org/pandas-docs/stable/user_guide/indexing.html#returning-a-view-versus-a-copy\n",
      "  self.interval_df['first_derivative'] = self.interval_df['savitzky_golay'].diff().fillna(0)\n"
     ]
    },
    {
     "name": "stdout",
     "output_type": "stream",
     "text": [
      "Saved phenology_df to base/polygon_423\\phenology_df.csv\n",
      "Saved df_01 to base/polygon_423\\data_base.csv\n",
      "424 84\n"
     ]
    },
    {
     "name": "stderr",
     "output_type": "stream",
     "text": [
      "c:\\Users\\ander\\OneDrive\\Área de Trabalho\\msu\\phenologic_metrics\\src\\controllers\\metrics_bos_eso.py:37: SettingWithCopyWarning: \n",
      "A value is trying to be set on a copy of a slice from a DataFrame.\n",
      "Try using .loc[row_indexer,col_indexer] = value instead\n",
      "\n",
      "See the caveats in the documentation: https://pandas.pydata.org/pandas-docs/stable/user_guide/indexing.html#returning-a-view-versus-a-copy\n",
      "  self.interval_df['first_derivative'] = self.interval_df['savitzky_golay'].diff().fillna(0)\n"
     ]
    },
    {
     "name": "stdout",
     "output_type": "stream",
     "text": [
      "Saved phenology_df to base/polygon_424\\phenology_df.csv\n",
      "Saved df_01 to base/polygon_424\\data_base.csv\n",
      "425 85\n"
     ]
    },
    {
     "name": "stderr",
     "output_type": "stream",
     "text": [
      "c:\\Users\\ander\\OneDrive\\Área de Trabalho\\msu\\phenologic_metrics\\src\\controllers\\metrics_bos_eso.py:37: SettingWithCopyWarning: \n",
      "A value is trying to be set on a copy of a slice from a DataFrame.\n",
      "Try using .loc[row_indexer,col_indexer] = value instead\n",
      "\n",
      "See the caveats in the documentation: https://pandas.pydata.org/pandas-docs/stable/user_guide/indexing.html#returning-a-view-versus-a-copy\n",
      "  self.interval_df['first_derivative'] = self.interval_df['savitzky_golay'].diff().fillna(0)\n"
     ]
    },
    {
     "name": "stdout",
     "output_type": "stream",
     "text": [
      "Saved phenology_df to base/polygon_425\\phenology_df.csv\n",
      "Saved df_01 to base/polygon_425\\data_base.csv\n",
      "426 86\n"
     ]
    },
    {
     "name": "stderr",
     "output_type": "stream",
     "text": [
      "c:\\Users\\ander\\OneDrive\\Área de Trabalho\\msu\\phenologic_metrics\\src\\controllers\\metrics_bos_eso.py:37: SettingWithCopyWarning: \n",
      "A value is trying to be set on a copy of a slice from a DataFrame.\n",
      "Try using .loc[row_indexer,col_indexer] = value instead\n",
      "\n",
      "See the caveats in the documentation: https://pandas.pydata.org/pandas-docs/stable/user_guide/indexing.html#returning-a-view-versus-a-copy\n",
      "  self.interval_df['first_derivative'] = self.interval_df['savitzky_golay'].diff().fillna(0)\n"
     ]
    },
    {
     "name": "stdout",
     "output_type": "stream",
     "text": [
      "Saved phenology_df to base/polygon_426\\phenology_df.csv\n",
      "Saved df_01 to base/polygon_426\\data_base.csv\n",
      "427 87\n"
     ]
    },
    {
     "name": "stderr",
     "output_type": "stream",
     "text": [
      "c:\\Users\\ander\\OneDrive\\Área de Trabalho\\msu\\phenologic_metrics\\src\\controllers\\metrics_bos_eso.py:37: SettingWithCopyWarning: \n",
      "A value is trying to be set on a copy of a slice from a DataFrame.\n",
      "Try using .loc[row_indexer,col_indexer] = value instead\n",
      "\n",
      "See the caveats in the documentation: https://pandas.pydata.org/pandas-docs/stable/user_guide/indexing.html#returning-a-view-versus-a-copy\n",
      "  self.interval_df['first_derivative'] = self.interval_df['savitzky_golay'].diff().fillna(0)\n"
     ]
    },
    {
     "name": "stdout",
     "output_type": "stream",
     "text": [
      "Saved phenology_df to base/polygon_427\\phenology_df.csv\n",
      "Saved df_01 to base/polygon_427\\data_base.csv\n",
      "428 88\n"
     ]
    },
    {
     "name": "stderr",
     "output_type": "stream",
     "text": [
      "c:\\Users\\ander\\OneDrive\\Área de Trabalho\\msu\\phenologic_metrics\\src\\controllers\\metrics_bos_eso.py:37: SettingWithCopyWarning: \n",
      "A value is trying to be set on a copy of a slice from a DataFrame.\n",
      "Try using .loc[row_indexer,col_indexer] = value instead\n",
      "\n",
      "See the caveats in the documentation: https://pandas.pydata.org/pandas-docs/stable/user_guide/indexing.html#returning-a-view-versus-a-copy\n",
      "  self.interval_df['first_derivative'] = self.interval_df['savitzky_golay'].diff().fillna(0)\n"
     ]
    },
    {
     "name": "stdout",
     "output_type": "stream",
     "text": [
      "Saved phenology_df to base/polygon_428\\phenology_df.csv\n",
      "Saved df_01 to base/polygon_428\\data_base.csv\n",
      "429 89\n"
     ]
    },
    {
     "name": "stderr",
     "output_type": "stream",
     "text": [
      "c:\\Users\\ander\\OneDrive\\Área de Trabalho\\msu\\phenologic_metrics\\src\\controllers\\metrics_bos_eso.py:37: SettingWithCopyWarning: \n",
      "A value is trying to be set on a copy of a slice from a DataFrame.\n",
      "Try using .loc[row_indexer,col_indexer] = value instead\n",
      "\n",
      "See the caveats in the documentation: https://pandas.pydata.org/pandas-docs/stable/user_guide/indexing.html#returning-a-view-versus-a-copy\n",
      "  self.interval_df['first_derivative'] = self.interval_df['savitzky_golay'].diff().fillna(0)\n"
     ]
    },
    {
     "name": "stdout",
     "output_type": "stream",
     "text": [
      "Saved phenology_df to base/polygon_429\\phenology_df.csv\n",
      "Saved df_01 to base/polygon_429\\data_base.csv\n",
      "430 90\n"
     ]
    },
    {
     "name": "stderr",
     "output_type": "stream",
     "text": [
      "c:\\Users\\ander\\OneDrive\\Área de Trabalho\\msu\\phenologic_metrics\\src\\controllers\\metrics_bos_eso.py:37: SettingWithCopyWarning: \n",
      "A value is trying to be set on a copy of a slice from a DataFrame.\n",
      "Try using .loc[row_indexer,col_indexer] = value instead\n",
      "\n",
      "See the caveats in the documentation: https://pandas.pydata.org/pandas-docs/stable/user_guide/indexing.html#returning-a-view-versus-a-copy\n",
      "  self.interval_df['first_derivative'] = self.interval_df['savitzky_golay'].diff().fillna(0)\n"
     ]
    },
    {
     "name": "stdout",
     "output_type": "stream",
     "text": [
      "Saved phenology_df to base/polygon_430\\phenology_df.csv\n",
      "Saved df_01 to base/polygon_430\\data_base.csv\n",
      "431 91\n"
     ]
    },
    {
     "name": "stderr",
     "output_type": "stream",
     "text": [
      "c:\\Users\\ander\\OneDrive\\Área de Trabalho\\msu\\phenologic_metrics\\src\\controllers\\metrics_bos_eso.py:37: SettingWithCopyWarning: \n",
      "A value is trying to be set on a copy of a slice from a DataFrame.\n",
      "Try using .loc[row_indexer,col_indexer] = value instead\n",
      "\n",
      "See the caveats in the documentation: https://pandas.pydata.org/pandas-docs/stable/user_guide/indexing.html#returning-a-view-versus-a-copy\n",
      "  self.interval_df['first_derivative'] = self.interval_df['savitzky_golay'].diff().fillna(0)\n"
     ]
    },
    {
     "name": "stdout",
     "output_type": "stream",
     "text": [
      "Saved phenology_df to base/polygon_431\\phenology_df.csv\n",
      "Saved df_01 to base/polygon_431\\data_base.csv\n",
      "432 92\n"
     ]
    },
    {
     "name": "stderr",
     "output_type": "stream",
     "text": [
      "c:\\Users\\ander\\OneDrive\\Área de Trabalho\\msu\\phenologic_metrics\\src\\controllers\\metrics_bos_eso.py:37: SettingWithCopyWarning: \n",
      "A value is trying to be set on a copy of a slice from a DataFrame.\n",
      "Try using .loc[row_indexer,col_indexer] = value instead\n",
      "\n",
      "See the caveats in the documentation: https://pandas.pydata.org/pandas-docs/stable/user_guide/indexing.html#returning-a-view-versus-a-copy\n",
      "  self.interval_df['first_derivative'] = self.interval_df['savitzky_golay'].diff().fillna(0)\n"
     ]
    },
    {
     "name": "stdout",
     "output_type": "stream",
     "text": [
      "Saved phenology_df to base/polygon_432\\phenology_df.csv\n",
      "Saved df_01 to base/polygon_432\\data_base.csv\n",
      "433 93\n"
     ]
    },
    {
     "name": "stderr",
     "output_type": "stream",
     "text": [
      "c:\\Users\\ander\\OneDrive\\Área de Trabalho\\msu\\phenologic_metrics\\src\\controllers\\metrics_bos_eso.py:37: SettingWithCopyWarning: \n",
      "A value is trying to be set on a copy of a slice from a DataFrame.\n",
      "Try using .loc[row_indexer,col_indexer] = value instead\n",
      "\n",
      "See the caveats in the documentation: https://pandas.pydata.org/pandas-docs/stable/user_guide/indexing.html#returning-a-view-versus-a-copy\n",
      "  self.interval_df['first_derivative'] = self.interval_df['savitzky_golay'].diff().fillna(0)\n"
     ]
    },
    {
     "name": "stdout",
     "output_type": "stream",
     "text": [
      "Saved phenology_df to base/polygon_433\\phenology_df.csv\n",
      "Saved df_01 to base/polygon_433\\data_base.csv\n",
      "434 94\n"
     ]
    },
    {
     "name": "stderr",
     "output_type": "stream",
     "text": [
      "c:\\Users\\ander\\OneDrive\\Área de Trabalho\\msu\\phenologic_metrics\\src\\controllers\\metrics_bos_eso.py:37: SettingWithCopyWarning: \n",
      "A value is trying to be set on a copy of a slice from a DataFrame.\n",
      "Try using .loc[row_indexer,col_indexer] = value instead\n",
      "\n",
      "See the caveats in the documentation: https://pandas.pydata.org/pandas-docs/stable/user_guide/indexing.html#returning-a-view-versus-a-copy\n",
      "  self.interval_df['first_derivative'] = self.interval_df['savitzky_golay'].diff().fillna(0)\n"
     ]
    },
    {
     "name": "stdout",
     "output_type": "stream",
     "text": [
      "Saved phenology_df to base/polygon_434\\phenology_df.csv\n",
      "Saved df_01 to base/polygon_434\\data_base.csv\n",
      "435 95\n"
     ]
    },
    {
     "name": "stderr",
     "output_type": "stream",
     "text": [
      "c:\\Users\\ander\\OneDrive\\Área de Trabalho\\msu\\phenologic_metrics\\src\\controllers\\metrics_bos_eso.py:37: SettingWithCopyWarning: \n",
      "A value is trying to be set on a copy of a slice from a DataFrame.\n",
      "Try using .loc[row_indexer,col_indexer] = value instead\n",
      "\n",
      "See the caveats in the documentation: https://pandas.pydata.org/pandas-docs/stable/user_guide/indexing.html#returning-a-view-versus-a-copy\n",
      "  self.interval_df['first_derivative'] = self.interval_df['savitzky_golay'].diff().fillna(0)\n"
     ]
    },
    {
     "name": "stdout",
     "output_type": "stream",
     "text": [
      "Saved phenology_df to base/polygon_435\\phenology_df.csv\n",
      "Saved df_01 to base/polygon_435\\data_base.csv\n",
      "436 96\n"
     ]
    },
    {
     "name": "stderr",
     "output_type": "stream",
     "text": [
      "c:\\Users\\ander\\OneDrive\\Área de Trabalho\\msu\\phenologic_metrics\\src\\controllers\\metrics_bos_eso.py:37: SettingWithCopyWarning: \n",
      "A value is trying to be set on a copy of a slice from a DataFrame.\n",
      "Try using .loc[row_indexer,col_indexer] = value instead\n",
      "\n",
      "See the caveats in the documentation: https://pandas.pydata.org/pandas-docs/stable/user_guide/indexing.html#returning-a-view-versus-a-copy\n",
      "  self.interval_df['first_derivative'] = self.interval_df['savitzky_golay'].diff().fillna(0)\n"
     ]
    },
    {
     "name": "stdout",
     "output_type": "stream",
     "text": [
      "Saved phenology_df to base/polygon_436\\phenology_df.csv\n",
      "Saved df_01 to base/polygon_436\\data_base.csv\n",
      "437 97\n"
     ]
    },
    {
     "name": "stderr",
     "output_type": "stream",
     "text": [
      "c:\\Users\\ander\\OneDrive\\Área de Trabalho\\msu\\phenologic_metrics\\src\\controllers\\metrics_bos_eso.py:37: SettingWithCopyWarning: \n",
      "A value is trying to be set on a copy of a slice from a DataFrame.\n",
      "Try using .loc[row_indexer,col_indexer] = value instead\n",
      "\n",
      "See the caveats in the documentation: https://pandas.pydata.org/pandas-docs/stable/user_guide/indexing.html#returning-a-view-versus-a-copy\n",
      "  self.interval_df['first_derivative'] = self.interval_df['savitzky_golay'].diff().fillna(0)\n"
     ]
    },
    {
     "name": "stdout",
     "output_type": "stream",
     "text": [
      "Saved phenology_df to base/polygon_437\\phenology_df.csv\n",
      "Saved df_01 to base/polygon_437\\data_base.csv\n",
      "438 98\n"
     ]
    },
    {
     "name": "stderr",
     "output_type": "stream",
     "text": [
      "c:\\Users\\ander\\OneDrive\\Área de Trabalho\\msu\\phenologic_metrics\\src\\controllers\\metrics_bos_eso.py:37: SettingWithCopyWarning: \n",
      "A value is trying to be set on a copy of a slice from a DataFrame.\n",
      "Try using .loc[row_indexer,col_indexer] = value instead\n",
      "\n",
      "See the caveats in the documentation: https://pandas.pydata.org/pandas-docs/stable/user_guide/indexing.html#returning-a-view-versus-a-copy\n",
      "  self.interval_df['first_derivative'] = self.interval_df['savitzky_golay'].diff().fillna(0)\n"
     ]
    },
    {
     "name": "stdout",
     "output_type": "stream",
     "text": [
      "Saved phenology_df to base/polygon_438\\phenology_df.csv\n",
      "Saved df_01 to base/polygon_438\\data_base.csv\n",
      "439 99\n",
      "440 100\n"
     ]
    },
    {
     "name": "stderr",
     "output_type": "stream",
     "text": [
      "c:\\Users\\ander\\OneDrive\\Área de Trabalho\\msu\\phenologic_metrics\\src\\controllers\\metrics_bos_eso.py:37: SettingWithCopyWarning: \n",
      "A value is trying to be set on a copy of a slice from a DataFrame.\n",
      "Try using .loc[row_indexer,col_indexer] = value instead\n",
      "\n",
      "See the caveats in the documentation: https://pandas.pydata.org/pandas-docs/stable/user_guide/indexing.html#returning-a-view-versus-a-copy\n",
      "  self.interval_df['first_derivative'] = self.interval_df['savitzky_golay'].diff().fillna(0)\n"
     ]
    },
    {
     "name": "stdout",
     "output_type": "stream",
     "text": [
      "Saved phenology_df to base/polygon_440\\phenology_df.csv\n",
      "Saved df_01 to base/polygon_440\\data_base.csv\n",
      "441 101\n"
     ]
    },
    {
     "name": "stderr",
     "output_type": "stream",
     "text": [
      "c:\\Users\\ander\\OneDrive\\Área de Trabalho\\msu\\phenologic_metrics\\src\\controllers\\metrics_bos_eso.py:37: SettingWithCopyWarning: \n",
      "A value is trying to be set on a copy of a slice from a DataFrame.\n",
      "Try using .loc[row_indexer,col_indexer] = value instead\n",
      "\n",
      "See the caveats in the documentation: https://pandas.pydata.org/pandas-docs/stable/user_guide/indexing.html#returning-a-view-versus-a-copy\n",
      "  self.interval_df['first_derivative'] = self.interval_df['savitzky_golay'].diff().fillna(0)\n"
     ]
    },
    {
     "name": "stdout",
     "output_type": "stream",
     "text": [
      "Saved phenology_df to base/polygon_441\\phenology_df.csv\n",
      "Saved df_01 to base/polygon_441\\data_base.csv\n",
      "442 102\n"
     ]
    },
    {
     "name": "stderr",
     "output_type": "stream",
     "text": [
      "c:\\Users\\ander\\OneDrive\\Área de Trabalho\\msu\\phenologic_metrics\\src\\controllers\\metrics_bos_eso.py:37: SettingWithCopyWarning: \n",
      "A value is trying to be set on a copy of a slice from a DataFrame.\n",
      "Try using .loc[row_indexer,col_indexer] = value instead\n",
      "\n",
      "See the caveats in the documentation: https://pandas.pydata.org/pandas-docs/stable/user_guide/indexing.html#returning-a-view-versus-a-copy\n",
      "  self.interval_df['first_derivative'] = self.interval_df['savitzky_golay'].diff().fillna(0)\n"
     ]
    },
    {
     "name": "stdout",
     "output_type": "stream",
     "text": [
      "Saved phenology_df to base/polygon_442\\phenology_df.csv\n",
      "Saved df_01 to base/polygon_442\\data_base.csv\n",
      "443 103\n"
     ]
    },
    {
     "name": "stderr",
     "output_type": "stream",
     "text": [
      "c:\\Users\\ander\\OneDrive\\Área de Trabalho\\msu\\phenologic_metrics\\src\\controllers\\metrics_bos_eso.py:37: SettingWithCopyWarning: \n",
      "A value is trying to be set on a copy of a slice from a DataFrame.\n",
      "Try using .loc[row_indexer,col_indexer] = value instead\n",
      "\n",
      "See the caveats in the documentation: https://pandas.pydata.org/pandas-docs/stable/user_guide/indexing.html#returning-a-view-versus-a-copy\n",
      "  self.interval_df['first_derivative'] = self.interval_df['savitzky_golay'].diff().fillna(0)\n"
     ]
    },
    {
     "name": "stdout",
     "output_type": "stream",
     "text": [
      "Saved phenology_df to base/polygon_443\\phenology_df.csv\n",
      "Saved df_01 to base/polygon_443\\data_base.csv\n",
      "444 104\n",
      "445 105\n"
     ]
    },
    {
     "name": "stderr",
     "output_type": "stream",
     "text": [
      "c:\\Users\\ander\\OneDrive\\Área de Trabalho\\msu\\phenologic_metrics\\src\\controllers\\metrics_bos_eso.py:37: SettingWithCopyWarning: \n",
      "A value is trying to be set on a copy of a slice from a DataFrame.\n",
      "Try using .loc[row_indexer,col_indexer] = value instead\n",
      "\n",
      "See the caveats in the documentation: https://pandas.pydata.org/pandas-docs/stable/user_guide/indexing.html#returning-a-view-versus-a-copy\n",
      "  self.interval_df['first_derivative'] = self.interval_df['savitzky_golay'].diff().fillna(0)\n"
     ]
    },
    {
     "name": "stdout",
     "output_type": "stream",
     "text": [
      "Saved phenology_df to base/polygon_445\\phenology_df.csv\n",
      "Saved df_01 to base/polygon_445\\data_base.csv\n",
      "446 106\n"
     ]
    },
    {
     "name": "stderr",
     "output_type": "stream",
     "text": [
      "c:\\Users\\ander\\OneDrive\\Área de Trabalho\\msu\\phenologic_metrics\\src\\controllers\\metrics_bos_eso.py:37: SettingWithCopyWarning: \n",
      "A value is trying to be set on a copy of a slice from a DataFrame.\n",
      "Try using .loc[row_indexer,col_indexer] = value instead\n",
      "\n",
      "See the caveats in the documentation: https://pandas.pydata.org/pandas-docs/stable/user_guide/indexing.html#returning-a-view-versus-a-copy\n",
      "  self.interval_df['first_derivative'] = self.interval_df['savitzky_golay'].diff().fillna(0)\n"
     ]
    },
    {
     "name": "stdout",
     "output_type": "stream",
     "text": [
      "Saved phenology_df to base/polygon_446\\phenology_df.csv\n",
      "Saved df_01 to base/polygon_446\\data_base.csv\n",
      "447 107\n"
     ]
    },
    {
     "name": "stderr",
     "output_type": "stream",
     "text": [
      "c:\\Users\\ander\\OneDrive\\Área de Trabalho\\msu\\phenologic_metrics\\src\\controllers\\metrics_bos_eso.py:37: SettingWithCopyWarning: \n",
      "A value is trying to be set on a copy of a slice from a DataFrame.\n",
      "Try using .loc[row_indexer,col_indexer] = value instead\n",
      "\n",
      "See the caveats in the documentation: https://pandas.pydata.org/pandas-docs/stable/user_guide/indexing.html#returning-a-view-versus-a-copy\n",
      "  self.interval_df['first_derivative'] = self.interval_df['savitzky_golay'].diff().fillna(0)\n"
     ]
    },
    {
     "name": "stdout",
     "output_type": "stream",
     "text": [
      "Saved phenology_df to base/polygon_447\\phenology_df.csv\n",
      "Saved df_01 to base/polygon_447\\data_base.csv\n",
      "448 108\n"
     ]
    },
    {
     "name": "stderr",
     "output_type": "stream",
     "text": [
      "c:\\Users\\ander\\OneDrive\\Área de Trabalho\\msu\\phenologic_metrics\\src\\controllers\\metrics_bos_eso.py:37: SettingWithCopyWarning: \n",
      "A value is trying to be set on a copy of a slice from a DataFrame.\n",
      "Try using .loc[row_indexer,col_indexer] = value instead\n",
      "\n",
      "See the caveats in the documentation: https://pandas.pydata.org/pandas-docs/stable/user_guide/indexing.html#returning-a-view-versus-a-copy\n",
      "  self.interval_df['first_derivative'] = self.interval_df['savitzky_golay'].diff().fillna(0)\n"
     ]
    },
    {
     "name": "stdout",
     "output_type": "stream",
     "text": [
      "Saved phenology_df to base/polygon_448\\phenology_df.csv\n",
      "Saved df_01 to base/polygon_448\\data_base.csv\n",
      "449 109\n"
     ]
    },
    {
     "name": "stderr",
     "output_type": "stream",
     "text": [
      "c:\\Users\\ander\\OneDrive\\Área de Trabalho\\msu\\phenologic_metrics\\src\\controllers\\metrics_bos_eso.py:37: SettingWithCopyWarning: \n",
      "A value is trying to be set on a copy of a slice from a DataFrame.\n",
      "Try using .loc[row_indexer,col_indexer] = value instead\n",
      "\n",
      "See the caveats in the documentation: https://pandas.pydata.org/pandas-docs/stable/user_guide/indexing.html#returning-a-view-versus-a-copy\n",
      "  self.interval_df['first_derivative'] = self.interval_df['savitzky_golay'].diff().fillna(0)\n"
     ]
    },
    {
     "name": "stdout",
     "output_type": "stream",
     "text": [
      "Saved phenology_df to base/polygon_449\\phenology_df.csv\n",
      "Saved df_01 to base/polygon_449\\data_base.csv\n",
      "450 110\n"
     ]
    },
    {
     "name": "stderr",
     "output_type": "stream",
     "text": [
      "c:\\Users\\ander\\OneDrive\\Área de Trabalho\\msu\\phenologic_metrics\\src\\controllers\\metrics_bos_eso.py:37: SettingWithCopyWarning: \n",
      "A value is trying to be set on a copy of a slice from a DataFrame.\n",
      "Try using .loc[row_indexer,col_indexer] = value instead\n",
      "\n",
      "See the caveats in the documentation: https://pandas.pydata.org/pandas-docs/stable/user_guide/indexing.html#returning-a-view-versus-a-copy\n",
      "  self.interval_df['first_derivative'] = self.interval_df['savitzky_golay'].diff().fillna(0)\n"
     ]
    },
    {
     "name": "stdout",
     "output_type": "stream",
     "text": [
      "Saved phenology_df to base/polygon_450\\phenology_df.csv\n",
      "Saved df_01 to base/polygon_450\\data_base.csv\n",
      "451 111\n"
     ]
    },
    {
     "name": "stderr",
     "output_type": "stream",
     "text": [
      "c:\\Users\\ander\\OneDrive\\Área de Trabalho\\msu\\phenologic_metrics\\src\\controllers\\metrics_bos_eso.py:37: SettingWithCopyWarning: \n",
      "A value is trying to be set on a copy of a slice from a DataFrame.\n",
      "Try using .loc[row_indexer,col_indexer] = value instead\n",
      "\n",
      "See the caveats in the documentation: https://pandas.pydata.org/pandas-docs/stable/user_guide/indexing.html#returning-a-view-versus-a-copy\n",
      "  self.interval_df['first_derivative'] = self.interval_df['savitzky_golay'].diff().fillna(0)\n"
     ]
    },
    {
     "name": "stdout",
     "output_type": "stream",
     "text": [
      "Saved phenology_df to base/polygon_451\\phenology_df.csv\n",
      "Saved df_01 to base/polygon_451\\data_base.csv\n",
      "452 112\n"
     ]
    },
    {
     "name": "stderr",
     "output_type": "stream",
     "text": [
      "c:\\Users\\ander\\OneDrive\\Área de Trabalho\\msu\\phenologic_metrics\\src\\controllers\\metrics_bos_eso.py:37: SettingWithCopyWarning: \n",
      "A value is trying to be set on a copy of a slice from a DataFrame.\n",
      "Try using .loc[row_indexer,col_indexer] = value instead\n",
      "\n",
      "See the caveats in the documentation: https://pandas.pydata.org/pandas-docs/stable/user_guide/indexing.html#returning-a-view-versus-a-copy\n",
      "  self.interval_df['first_derivative'] = self.interval_df['savitzky_golay'].diff().fillna(0)\n"
     ]
    },
    {
     "name": "stdout",
     "output_type": "stream",
     "text": [
      "Saved phenology_df to base/polygon_452\\phenology_df.csv\n",
      "Saved df_01 to base/polygon_452\\data_base.csv\n",
      "453 113\n"
     ]
    },
    {
     "name": "stderr",
     "output_type": "stream",
     "text": [
      "c:\\Users\\ander\\OneDrive\\Área de Trabalho\\msu\\phenologic_metrics\\src\\controllers\\metrics_bos_eso.py:37: SettingWithCopyWarning: \n",
      "A value is trying to be set on a copy of a slice from a DataFrame.\n",
      "Try using .loc[row_indexer,col_indexer] = value instead\n",
      "\n",
      "See the caveats in the documentation: https://pandas.pydata.org/pandas-docs/stable/user_guide/indexing.html#returning-a-view-versus-a-copy\n",
      "  self.interval_df['first_derivative'] = self.interval_df['savitzky_golay'].diff().fillna(0)\n"
     ]
    },
    {
     "name": "stdout",
     "output_type": "stream",
     "text": [
      "Saved phenology_df to base/polygon_453\\phenology_df.csv\n",
      "Saved df_01 to base/polygon_453\\data_base.csv\n",
      "454 114\n"
     ]
    },
    {
     "name": "stderr",
     "output_type": "stream",
     "text": [
      "c:\\Users\\ander\\OneDrive\\Área de Trabalho\\msu\\phenologic_metrics\\src\\controllers\\metrics_bos_eso.py:37: SettingWithCopyWarning: \n",
      "A value is trying to be set on a copy of a slice from a DataFrame.\n",
      "Try using .loc[row_indexer,col_indexer] = value instead\n",
      "\n",
      "See the caveats in the documentation: https://pandas.pydata.org/pandas-docs/stable/user_guide/indexing.html#returning-a-view-versus-a-copy\n",
      "  self.interval_df['first_derivative'] = self.interval_df['savitzky_golay'].diff().fillna(0)\n"
     ]
    },
    {
     "name": "stdout",
     "output_type": "stream",
     "text": [
      "Saved phenology_df to base/polygon_454\\phenology_df.csv\n",
      "Saved df_01 to base/polygon_454\\data_base.csv\n",
      "455 115\n"
     ]
    },
    {
     "name": "stderr",
     "output_type": "stream",
     "text": [
      "c:\\Users\\ander\\OneDrive\\Área de Trabalho\\msu\\phenologic_metrics\\src\\controllers\\metrics_bos_eso.py:37: SettingWithCopyWarning: \n",
      "A value is trying to be set on a copy of a slice from a DataFrame.\n",
      "Try using .loc[row_indexer,col_indexer] = value instead\n",
      "\n",
      "See the caveats in the documentation: https://pandas.pydata.org/pandas-docs/stable/user_guide/indexing.html#returning-a-view-versus-a-copy\n",
      "  self.interval_df['first_derivative'] = self.interval_df['savitzky_golay'].diff().fillna(0)\n"
     ]
    },
    {
     "name": "stdout",
     "output_type": "stream",
     "text": [
      "Saved phenology_df to base/polygon_455\\phenology_df.csv\n",
      "Saved df_01 to base/polygon_455\\data_base.csv\n",
      "456 116\n"
     ]
    },
    {
     "name": "stderr",
     "output_type": "stream",
     "text": [
      "c:\\Users\\ander\\OneDrive\\Área de Trabalho\\msu\\phenologic_metrics\\src\\controllers\\metrics_bos_eso.py:37: SettingWithCopyWarning: \n",
      "A value is trying to be set on a copy of a slice from a DataFrame.\n",
      "Try using .loc[row_indexer,col_indexer] = value instead\n",
      "\n",
      "See the caveats in the documentation: https://pandas.pydata.org/pandas-docs/stable/user_guide/indexing.html#returning-a-view-versus-a-copy\n",
      "  self.interval_df['first_derivative'] = self.interval_df['savitzky_golay'].diff().fillna(0)\n"
     ]
    },
    {
     "name": "stdout",
     "output_type": "stream",
     "text": [
      "Saved phenology_df to base/polygon_456\\phenology_df.csv\n",
      "Saved df_01 to base/polygon_456\\data_base.csv\n",
      "457 117\n"
     ]
    },
    {
     "name": "stderr",
     "output_type": "stream",
     "text": [
      "c:\\Users\\ander\\OneDrive\\Área de Trabalho\\msu\\phenologic_metrics\\src\\controllers\\metrics_bos_eso.py:37: SettingWithCopyWarning: \n",
      "A value is trying to be set on a copy of a slice from a DataFrame.\n",
      "Try using .loc[row_indexer,col_indexer] = value instead\n",
      "\n",
      "See the caveats in the documentation: https://pandas.pydata.org/pandas-docs/stable/user_guide/indexing.html#returning-a-view-versus-a-copy\n",
      "  self.interval_df['first_derivative'] = self.interval_df['savitzky_golay'].diff().fillna(0)\n"
     ]
    },
    {
     "name": "stdout",
     "output_type": "stream",
     "text": [
      "Saved phenology_df to base/polygon_457\\phenology_df.csv\n",
      "Saved df_01 to base/polygon_457\\data_base.csv\n",
      "458 118\n"
     ]
    },
    {
     "name": "stderr",
     "output_type": "stream",
     "text": [
      "c:\\Users\\ander\\OneDrive\\Área de Trabalho\\msu\\phenologic_metrics\\src\\controllers\\metrics_bos_eso.py:37: SettingWithCopyWarning: \n",
      "A value is trying to be set on a copy of a slice from a DataFrame.\n",
      "Try using .loc[row_indexer,col_indexer] = value instead\n",
      "\n",
      "See the caveats in the documentation: https://pandas.pydata.org/pandas-docs/stable/user_guide/indexing.html#returning-a-view-versus-a-copy\n",
      "  self.interval_df['first_derivative'] = self.interval_df['savitzky_golay'].diff().fillna(0)\n"
     ]
    },
    {
     "name": "stdout",
     "output_type": "stream",
     "text": [
      "Saved phenology_df to base/polygon_458\\phenology_df.csv\n",
      "Saved df_01 to base/polygon_458\\data_base.csv\n",
      "459 119\n"
     ]
    },
    {
     "name": "stderr",
     "output_type": "stream",
     "text": [
      "c:\\Users\\ander\\OneDrive\\Área de Trabalho\\msu\\phenologic_metrics\\src\\controllers\\metrics_bos_eso.py:37: SettingWithCopyWarning: \n",
      "A value is trying to be set on a copy of a slice from a DataFrame.\n",
      "Try using .loc[row_indexer,col_indexer] = value instead\n",
      "\n",
      "See the caveats in the documentation: https://pandas.pydata.org/pandas-docs/stable/user_guide/indexing.html#returning-a-view-versus-a-copy\n",
      "  self.interval_df['first_derivative'] = self.interval_df['savitzky_golay'].diff().fillna(0)\n"
     ]
    },
    {
     "name": "stdout",
     "output_type": "stream",
     "text": [
      "Saved phenology_df to base/polygon_459\\phenology_df.csv\n",
      "Saved df_01 to base/polygon_459\\data_base.csv\n",
      "460 120\n"
     ]
    },
    {
     "name": "stderr",
     "output_type": "stream",
     "text": [
      "c:\\Users\\ander\\OneDrive\\Área de Trabalho\\msu\\phenologic_metrics\\src\\controllers\\metrics_bos_eso.py:37: SettingWithCopyWarning: \n",
      "A value is trying to be set on a copy of a slice from a DataFrame.\n",
      "Try using .loc[row_indexer,col_indexer] = value instead\n",
      "\n",
      "See the caveats in the documentation: https://pandas.pydata.org/pandas-docs/stable/user_guide/indexing.html#returning-a-view-versus-a-copy\n",
      "  self.interval_df['first_derivative'] = self.interval_df['savitzky_golay'].diff().fillna(0)\n"
     ]
    },
    {
     "name": "stdout",
     "output_type": "stream",
     "text": [
      "Saved phenology_df to base/polygon_460\\phenology_df.csv\n",
      "Saved df_01 to base/polygon_460\\data_base.csv\n",
      "461 121\n"
     ]
    },
    {
     "name": "stderr",
     "output_type": "stream",
     "text": [
      "c:\\Users\\ander\\OneDrive\\Área de Trabalho\\msu\\phenologic_metrics\\src\\controllers\\metrics_bos_eso.py:37: SettingWithCopyWarning: \n",
      "A value is trying to be set on a copy of a slice from a DataFrame.\n",
      "Try using .loc[row_indexer,col_indexer] = value instead\n",
      "\n",
      "See the caveats in the documentation: https://pandas.pydata.org/pandas-docs/stable/user_guide/indexing.html#returning-a-view-versus-a-copy\n",
      "  self.interval_df['first_derivative'] = self.interval_df['savitzky_golay'].diff().fillna(0)\n"
     ]
    },
    {
     "name": "stdout",
     "output_type": "stream",
     "text": [
      "Saved phenology_df to base/polygon_461\\phenology_df.csv\n",
      "Saved df_01 to base/polygon_461\\data_base.csv\n",
      "462 122\n"
     ]
    },
    {
     "name": "stderr",
     "output_type": "stream",
     "text": [
      "c:\\Users\\ander\\OneDrive\\Área de Trabalho\\msu\\phenologic_metrics\\src\\controllers\\metrics_bos_eso.py:37: SettingWithCopyWarning: \n",
      "A value is trying to be set on a copy of a slice from a DataFrame.\n",
      "Try using .loc[row_indexer,col_indexer] = value instead\n",
      "\n",
      "See the caveats in the documentation: https://pandas.pydata.org/pandas-docs/stable/user_guide/indexing.html#returning-a-view-versus-a-copy\n",
      "  self.interval_df['first_derivative'] = self.interval_df['savitzky_golay'].diff().fillna(0)\n"
     ]
    },
    {
     "name": "stdout",
     "output_type": "stream",
     "text": [
      "Saved phenology_df to base/polygon_462\\phenology_df.csv\n",
      "Saved df_01 to base/polygon_462\\data_base.csv\n",
      "463 123\n"
     ]
    },
    {
     "name": "stderr",
     "output_type": "stream",
     "text": [
      "c:\\Users\\ander\\OneDrive\\Área de Trabalho\\msu\\phenologic_metrics\\src\\controllers\\metrics_bos_eso.py:37: SettingWithCopyWarning: \n",
      "A value is trying to be set on a copy of a slice from a DataFrame.\n",
      "Try using .loc[row_indexer,col_indexer] = value instead\n",
      "\n",
      "See the caveats in the documentation: https://pandas.pydata.org/pandas-docs/stable/user_guide/indexing.html#returning-a-view-versus-a-copy\n",
      "  self.interval_df['first_derivative'] = self.interval_df['savitzky_golay'].diff().fillna(0)\n"
     ]
    },
    {
     "name": "stdout",
     "output_type": "stream",
     "text": [
      "Saved phenology_df to base/polygon_463\\phenology_df.csv\n",
      "Saved df_01 to base/polygon_463\\data_base.csv\n",
      "464 124\n"
     ]
    },
    {
     "name": "stderr",
     "output_type": "stream",
     "text": [
      "c:\\Users\\ander\\OneDrive\\Área de Trabalho\\msu\\phenologic_metrics\\src\\controllers\\metrics_bos_eso.py:37: SettingWithCopyWarning: \n",
      "A value is trying to be set on a copy of a slice from a DataFrame.\n",
      "Try using .loc[row_indexer,col_indexer] = value instead\n",
      "\n",
      "See the caveats in the documentation: https://pandas.pydata.org/pandas-docs/stable/user_guide/indexing.html#returning-a-view-versus-a-copy\n",
      "  self.interval_df['first_derivative'] = self.interval_df['savitzky_golay'].diff().fillna(0)\n"
     ]
    },
    {
     "name": "stdout",
     "output_type": "stream",
     "text": [
      "Saved phenology_df to base/polygon_464\\phenology_df.csv\n",
      "Saved df_01 to base/polygon_464\\data_base.csv\n",
      "465 125\n"
     ]
    },
    {
     "name": "stderr",
     "output_type": "stream",
     "text": [
      "c:\\Users\\ander\\OneDrive\\Área de Trabalho\\msu\\phenologic_metrics\\src\\controllers\\metrics_bos_eso.py:37: SettingWithCopyWarning: \n",
      "A value is trying to be set on a copy of a slice from a DataFrame.\n",
      "Try using .loc[row_indexer,col_indexer] = value instead\n",
      "\n",
      "See the caveats in the documentation: https://pandas.pydata.org/pandas-docs/stable/user_guide/indexing.html#returning-a-view-versus-a-copy\n",
      "  self.interval_df['first_derivative'] = self.interval_df['savitzky_golay'].diff().fillna(0)\n"
     ]
    },
    {
     "name": "stdout",
     "output_type": "stream",
     "text": [
      "Saved phenology_df to base/polygon_465\\phenology_df.csv\n",
      "Saved df_01 to base/polygon_465\\data_base.csv\n",
      "466 126\n"
     ]
    },
    {
     "name": "stderr",
     "output_type": "stream",
     "text": [
      "c:\\Users\\ander\\OneDrive\\Área de Trabalho\\msu\\phenologic_metrics\\src\\controllers\\metrics_bos_eso.py:37: SettingWithCopyWarning: \n",
      "A value is trying to be set on a copy of a slice from a DataFrame.\n",
      "Try using .loc[row_indexer,col_indexer] = value instead\n",
      "\n",
      "See the caveats in the documentation: https://pandas.pydata.org/pandas-docs/stable/user_guide/indexing.html#returning-a-view-versus-a-copy\n",
      "  self.interval_df['first_derivative'] = self.interval_df['savitzky_golay'].diff().fillna(0)\n"
     ]
    },
    {
     "name": "stdout",
     "output_type": "stream",
     "text": [
      "Saved phenology_df to base/polygon_466\\phenology_df.csv\n",
      "Saved df_01 to base/polygon_466\\data_base.csv\n",
      "467 127\n"
     ]
    },
    {
     "name": "stderr",
     "output_type": "stream",
     "text": [
      "c:\\Users\\ander\\OneDrive\\Área de Trabalho\\msu\\phenologic_metrics\\src\\controllers\\metrics_bos_eso.py:37: SettingWithCopyWarning: \n",
      "A value is trying to be set on a copy of a slice from a DataFrame.\n",
      "Try using .loc[row_indexer,col_indexer] = value instead\n",
      "\n",
      "See the caveats in the documentation: https://pandas.pydata.org/pandas-docs/stable/user_guide/indexing.html#returning-a-view-versus-a-copy\n",
      "  self.interval_df['first_derivative'] = self.interval_df['savitzky_golay'].diff().fillna(0)\n"
     ]
    },
    {
     "name": "stdout",
     "output_type": "stream",
     "text": [
      "Saved phenology_df to base/polygon_467\\phenology_df.csv\n",
      "Saved df_01 to base/polygon_467\\data_base.csv\n",
      "468 128\n"
     ]
    },
    {
     "name": "stderr",
     "output_type": "stream",
     "text": [
      "c:\\Users\\ander\\OneDrive\\Área de Trabalho\\msu\\phenologic_metrics\\src\\controllers\\metrics_bos_eso.py:37: SettingWithCopyWarning: \n",
      "A value is trying to be set on a copy of a slice from a DataFrame.\n",
      "Try using .loc[row_indexer,col_indexer] = value instead\n",
      "\n",
      "See the caveats in the documentation: https://pandas.pydata.org/pandas-docs/stable/user_guide/indexing.html#returning-a-view-versus-a-copy\n",
      "  self.interval_df['first_derivative'] = self.interval_df['savitzky_golay'].diff().fillna(0)\n"
     ]
    },
    {
     "name": "stdout",
     "output_type": "stream",
     "text": [
      "Saved phenology_df to base/polygon_468\\phenology_df.csv\n",
      "Saved df_01 to base/polygon_468\\data_base.csv\n",
      "469 129\n"
     ]
    },
    {
     "name": "stderr",
     "output_type": "stream",
     "text": [
      "c:\\Users\\ander\\OneDrive\\Área de Trabalho\\msu\\phenologic_metrics\\src\\controllers\\metrics_bos_eso.py:37: SettingWithCopyWarning: \n",
      "A value is trying to be set on a copy of a slice from a DataFrame.\n",
      "Try using .loc[row_indexer,col_indexer] = value instead\n",
      "\n",
      "See the caveats in the documentation: https://pandas.pydata.org/pandas-docs/stable/user_guide/indexing.html#returning-a-view-versus-a-copy\n",
      "  self.interval_df['first_derivative'] = self.interval_df['savitzky_golay'].diff().fillna(0)\n"
     ]
    },
    {
     "name": "stdout",
     "output_type": "stream",
     "text": [
      "Saved phenology_df to base/polygon_469\\phenology_df.csv\n",
      "Saved df_01 to base/polygon_469\\data_base.csv\n",
      "470 130\n"
     ]
    },
    {
     "name": "stderr",
     "output_type": "stream",
     "text": [
      "c:\\Users\\ander\\OneDrive\\Área de Trabalho\\msu\\phenologic_metrics\\src\\controllers\\metrics_bos_eso.py:37: SettingWithCopyWarning: \n",
      "A value is trying to be set on a copy of a slice from a DataFrame.\n",
      "Try using .loc[row_indexer,col_indexer] = value instead\n",
      "\n",
      "See the caveats in the documentation: https://pandas.pydata.org/pandas-docs/stable/user_guide/indexing.html#returning-a-view-versus-a-copy\n",
      "  self.interval_df['first_derivative'] = self.interval_df['savitzky_golay'].diff().fillna(0)\n"
     ]
    },
    {
     "name": "stdout",
     "output_type": "stream",
     "text": [
      "Saved phenology_df to base/polygon_470\\phenology_df.csv\n",
      "Saved df_01 to base/polygon_470\\data_base.csv\n",
      "471 131\n"
     ]
    },
    {
     "name": "stderr",
     "output_type": "stream",
     "text": [
      "c:\\Users\\ander\\OneDrive\\Área de Trabalho\\msu\\phenologic_metrics\\src\\controllers\\metrics_bos_eso.py:37: SettingWithCopyWarning: \n",
      "A value is trying to be set on a copy of a slice from a DataFrame.\n",
      "Try using .loc[row_indexer,col_indexer] = value instead\n",
      "\n",
      "See the caveats in the documentation: https://pandas.pydata.org/pandas-docs/stable/user_guide/indexing.html#returning-a-view-versus-a-copy\n",
      "  self.interval_df['first_derivative'] = self.interval_df['savitzky_golay'].diff().fillna(0)\n"
     ]
    },
    {
     "name": "stdout",
     "output_type": "stream",
     "text": [
      "Saved phenology_df to base/polygon_471\\phenology_df.csv\n",
      "Saved df_01 to base/polygon_471\\data_base.csv\n",
      "472 132\n"
     ]
    },
    {
     "name": "stderr",
     "output_type": "stream",
     "text": [
      "c:\\Users\\ander\\OneDrive\\Área de Trabalho\\msu\\phenologic_metrics\\src\\controllers\\metrics_bos_eso.py:37: SettingWithCopyWarning: \n",
      "A value is trying to be set on a copy of a slice from a DataFrame.\n",
      "Try using .loc[row_indexer,col_indexer] = value instead\n",
      "\n",
      "See the caveats in the documentation: https://pandas.pydata.org/pandas-docs/stable/user_guide/indexing.html#returning-a-view-versus-a-copy\n",
      "  self.interval_df['first_derivative'] = self.interval_df['savitzky_golay'].diff().fillna(0)\n"
     ]
    },
    {
     "name": "stdout",
     "output_type": "stream",
     "text": [
      "Saved phenology_df to base/polygon_472\\phenology_df.csv\n",
      "Saved df_01 to base/polygon_472\\data_base.csv\n",
      "473 133\n"
     ]
    },
    {
     "name": "stderr",
     "output_type": "stream",
     "text": [
      "c:\\Users\\ander\\OneDrive\\Área de Trabalho\\msu\\phenologic_metrics\\src\\controllers\\metrics_bos_eso.py:37: SettingWithCopyWarning: \n",
      "A value is trying to be set on a copy of a slice from a DataFrame.\n",
      "Try using .loc[row_indexer,col_indexer] = value instead\n",
      "\n",
      "See the caveats in the documentation: https://pandas.pydata.org/pandas-docs/stable/user_guide/indexing.html#returning-a-view-versus-a-copy\n",
      "  self.interval_df['first_derivative'] = self.interval_df['savitzky_golay'].diff().fillna(0)\n"
     ]
    },
    {
     "name": "stdout",
     "output_type": "stream",
     "text": [
      "Saved phenology_df to base/polygon_473\\phenology_df.csv\n",
      "Saved df_01 to base/polygon_473\\data_base.csv\n",
      "474 134\n"
     ]
    },
    {
     "name": "stderr",
     "output_type": "stream",
     "text": [
      "c:\\Users\\ander\\OneDrive\\Área de Trabalho\\msu\\phenologic_metrics\\src\\controllers\\metrics_bos_eso.py:37: SettingWithCopyWarning: \n",
      "A value is trying to be set on a copy of a slice from a DataFrame.\n",
      "Try using .loc[row_indexer,col_indexer] = value instead\n",
      "\n",
      "See the caveats in the documentation: https://pandas.pydata.org/pandas-docs/stable/user_guide/indexing.html#returning-a-view-versus-a-copy\n",
      "  self.interval_df['first_derivative'] = self.interval_df['savitzky_golay'].diff().fillna(0)\n"
     ]
    },
    {
     "name": "stdout",
     "output_type": "stream",
     "text": [
      "Saved phenology_df to base/polygon_474\\phenology_df.csv\n",
      "Saved df_01 to base/polygon_474\\data_base.csv\n",
      "475 135\n"
     ]
    },
    {
     "name": "stderr",
     "output_type": "stream",
     "text": [
      "c:\\Users\\ander\\OneDrive\\Área de Trabalho\\msu\\phenologic_metrics\\src\\controllers\\metrics_bos_eso.py:37: SettingWithCopyWarning: \n",
      "A value is trying to be set on a copy of a slice from a DataFrame.\n",
      "Try using .loc[row_indexer,col_indexer] = value instead\n",
      "\n",
      "See the caveats in the documentation: https://pandas.pydata.org/pandas-docs/stable/user_guide/indexing.html#returning-a-view-versus-a-copy\n",
      "  self.interval_df['first_derivative'] = self.interval_df['savitzky_golay'].diff().fillna(0)\n"
     ]
    },
    {
     "name": "stdout",
     "output_type": "stream",
     "text": [
      "Saved phenology_df to base/polygon_475\\phenology_df.csv\n",
      "Saved df_01 to base/polygon_475\\data_base.csv\n",
      "476 136\n"
     ]
    },
    {
     "name": "stderr",
     "output_type": "stream",
     "text": [
      "c:\\Users\\ander\\OneDrive\\Área de Trabalho\\msu\\phenologic_metrics\\src\\controllers\\metrics_bos_eso.py:37: SettingWithCopyWarning: \n",
      "A value is trying to be set on a copy of a slice from a DataFrame.\n",
      "Try using .loc[row_indexer,col_indexer] = value instead\n",
      "\n",
      "See the caveats in the documentation: https://pandas.pydata.org/pandas-docs/stable/user_guide/indexing.html#returning-a-view-versus-a-copy\n",
      "  self.interval_df['first_derivative'] = self.interval_df['savitzky_golay'].diff().fillna(0)\n"
     ]
    },
    {
     "name": "stdout",
     "output_type": "stream",
     "text": [
      "Saved phenology_df to base/polygon_476\\phenology_df.csv\n",
      "Saved df_01 to base/polygon_476\\data_base.csv\n",
      "477 137\n"
     ]
    },
    {
     "name": "stderr",
     "output_type": "stream",
     "text": [
      "c:\\Users\\ander\\OneDrive\\Área de Trabalho\\msu\\phenologic_metrics\\src\\controllers\\metrics_bos_eso.py:37: SettingWithCopyWarning: \n",
      "A value is trying to be set on a copy of a slice from a DataFrame.\n",
      "Try using .loc[row_indexer,col_indexer] = value instead\n",
      "\n",
      "See the caveats in the documentation: https://pandas.pydata.org/pandas-docs/stable/user_guide/indexing.html#returning-a-view-versus-a-copy\n",
      "  self.interval_df['first_derivative'] = self.interval_df['savitzky_golay'].diff().fillna(0)\n"
     ]
    },
    {
     "name": "stdout",
     "output_type": "stream",
     "text": [
      "Saved phenology_df to base/polygon_477\\phenology_df.csv\n",
      "Saved df_01 to base/polygon_477\\data_base.csv\n",
      "501 138\n"
     ]
    },
    {
     "name": "stderr",
     "output_type": "stream",
     "text": [
      "c:\\Users\\ander\\OneDrive\\Área de Trabalho\\msu\\phenologic_metrics\\src\\controllers\\metrics_bos_eso.py:37: SettingWithCopyWarning: \n",
      "A value is trying to be set on a copy of a slice from a DataFrame.\n",
      "Try using .loc[row_indexer,col_indexer] = value instead\n",
      "\n",
      "See the caveats in the documentation: https://pandas.pydata.org/pandas-docs/stable/user_guide/indexing.html#returning-a-view-versus-a-copy\n",
      "  self.interval_df['first_derivative'] = self.interval_df['savitzky_golay'].diff().fillna(0)\n"
     ]
    },
    {
     "name": "stdout",
     "output_type": "stream",
     "text": [
      "Saved phenology_df to base/polygon_501\\phenology_df.csv\n",
      "Saved df_01 to base/polygon_501\\data_base.csv\n",
      "502 139\n"
     ]
    },
    {
     "name": "stderr",
     "output_type": "stream",
     "text": [
      "c:\\Users\\ander\\OneDrive\\Área de Trabalho\\msu\\phenologic_metrics\\src\\controllers\\metrics_bos_eso.py:37: SettingWithCopyWarning: \n",
      "A value is trying to be set on a copy of a slice from a DataFrame.\n",
      "Try using .loc[row_indexer,col_indexer] = value instead\n",
      "\n",
      "See the caveats in the documentation: https://pandas.pydata.org/pandas-docs/stable/user_guide/indexing.html#returning-a-view-versus-a-copy\n",
      "  self.interval_df['first_derivative'] = self.interval_df['savitzky_golay'].diff().fillna(0)\n"
     ]
    },
    {
     "name": "stdout",
     "output_type": "stream",
     "text": [
      "Saved phenology_df to base/polygon_502\\phenology_df.csv\n",
      "Saved df_01 to base/polygon_502\\data_base.csv\n",
      "507 140\n"
     ]
    },
    {
     "name": "stderr",
     "output_type": "stream",
     "text": [
      "c:\\Users\\ander\\OneDrive\\Área de Trabalho\\msu\\phenologic_metrics\\src\\controllers\\metrics_bos_eso.py:37: SettingWithCopyWarning: \n",
      "A value is trying to be set on a copy of a slice from a DataFrame.\n",
      "Try using .loc[row_indexer,col_indexer] = value instead\n",
      "\n",
      "See the caveats in the documentation: https://pandas.pydata.org/pandas-docs/stable/user_guide/indexing.html#returning-a-view-versus-a-copy\n",
      "  self.interval_df['first_derivative'] = self.interval_df['savitzky_golay'].diff().fillna(0)\n"
     ]
    },
    {
     "name": "stdout",
     "output_type": "stream",
     "text": [
      "Saved phenology_df to base/polygon_507\\phenology_df.csv\n",
      "Saved df_01 to base/polygon_507\\data_base.csv\n",
      "512 141\n"
     ]
    },
    {
     "name": "stderr",
     "output_type": "stream",
     "text": [
      "c:\\Users\\ander\\OneDrive\\Área de Trabalho\\msu\\phenologic_metrics\\src\\controllers\\metrics_bos_eso.py:37: SettingWithCopyWarning: \n",
      "A value is trying to be set on a copy of a slice from a DataFrame.\n",
      "Try using .loc[row_indexer,col_indexer] = value instead\n",
      "\n",
      "See the caveats in the documentation: https://pandas.pydata.org/pandas-docs/stable/user_guide/indexing.html#returning-a-view-versus-a-copy\n",
      "  self.interval_df['first_derivative'] = self.interval_df['savitzky_golay'].diff().fillna(0)\n"
     ]
    },
    {
     "name": "stdout",
     "output_type": "stream",
     "text": [
      "Saved phenology_df to base/polygon_512\\phenology_df.csv\n",
      "Saved df_01 to base/polygon_512\\data_base.csv\n",
      "513 142\n"
     ]
    },
    {
     "name": "stderr",
     "output_type": "stream",
     "text": [
      "c:\\Users\\ander\\OneDrive\\Área de Trabalho\\msu\\phenologic_metrics\\src\\controllers\\metrics_bos_eso.py:37: SettingWithCopyWarning: \n",
      "A value is trying to be set on a copy of a slice from a DataFrame.\n",
      "Try using .loc[row_indexer,col_indexer] = value instead\n",
      "\n",
      "See the caveats in the documentation: https://pandas.pydata.org/pandas-docs/stable/user_guide/indexing.html#returning-a-view-versus-a-copy\n",
      "  self.interval_df['first_derivative'] = self.interval_df['savitzky_golay'].diff().fillna(0)\n"
     ]
    },
    {
     "name": "stdout",
     "output_type": "stream",
     "text": [
      "Saved phenology_df to base/polygon_513\\phenology_df.csv\n",
      "Saved df_01 to base/polygon_513\\data_base.csv\n",
      "514 143\n"
     ]
    },
    {
     "name": "stderr",
     "output_type": "stream",
     "text": [
      "c:\\Users\\ander\\OneDrive\\Área de Trabalho\\msu\\phenologic_metrics\\src\\controllers\\metrics_bos_eso.py:37: SettingWithCopyWarning: \n",
      "A value is trying to be set on a copy of a slice from a DataFrame.\n",
      "Try using .loc[row_indexer,col_indexer] = value instead\n",
      "\n",
      "See the caveats in the documentation: https://pandas.pydata.org/pandas-docs/stable/user_guide/indexing.html#returning-a-view-versus-a-copy\n",
      "  self.interval_df['first_derivative'] = self.interval_df['savitzky_golay'].diff().fillna(0)\n"
     ]
    },
    {
     "name": "stdout",
     "output_type": "stream",
     "text": [
      "Saved phenology_df to base/polygon_514\\phenology_df.csv\n",
      "Saved df_01 to base/polygon_514\\data_base.csv\n",
      "515 144\n"
     ]
    },
    {
     "name": "stderr",
     "output_type": "stream",
     "text": [
      "c:\\Users\\ander\\OneDrive\\Área de Trabalho\\msu\\phenologic_metrics\\src\\controllers\\metrics_bos_eso.py:37: SettingWithCopyWarning: \n",
      "A value is trying to be set on a copy of a slice from a DataFrame.\n",
      "Try using .loc[row_indexer,col_indexer] = value instead\n",
      "\n",
      "See the caveats in the documentation: https://pandas.pydata.org/pandas-docs/stable/user_guide/indexing.html#returning-a-view-versus-a-copy\n",
      "  self.interval_df['first_derivative'] = self.interval_df['savitzky_golay'].diff().fillna(0)\n"
     ]
    },
    {
     "name": "stdout",
     "output_type": "stream",
     "text": [
      "Saved phenology_df to base/polygon_515\\phenology_df.csv\n",
      "Saved df_01 to base/polygon_515\\data_base.csv\n",
      "517 145\n"
     ]
    },
    {
     "name": "stderr",
     "output_type": "stream",
     "text": [
      "c:\\Users\\ander\\OneDrive\\Área de Trabalho\\msu\\phenologic_metrics\\src\\controllers\\metrics_bos_eso.py:37: SettingWithCopyWarning: \n",
      "A value is trying to be set on a copy of a slice from a DataFrame.\n",
      "Try using .loc[row_indexer,col_indexer] = value instead\n",
      "\n",
      "See the caveats in the documentation: https://pandas.pydata.org/pandas-docs/stable/user_guide/indexing.html#returning-a-view-versus-a-copy\n",
      "  self.interval_df['first_derivative'] = self.interval_df['savitzky_golay'].diff().fillna(0)\n"
     ]
    },
    {
     "name": "stdout",
     "output_type": "stream",
     "text": [
      "Saved phenology_df to base/polygon_517\\phenology_df.csv\n",
      "Saved df_01 to base/polygon_517\\data_base.csv\n",
      "1030 146\n"
     ]
    },
    {
     "name": "stderr",
     "output_type": "stream",
     "text": [
      "c:\\Users\\ander\\OneDrive\\Área de Trabalho\\msu\\phenologic_metrics\\src\\controllers\\metrics_bos_eso.py:37: SettingWithCopyWarning: \n",
      "A value is trying to be set on a copy of a slice from a DataFrame.\n",
      "Try using .loc[row_indexer,col_indexer] = value instead\n",
      "\n",
      "See the caveats in the documentation: https://pandas.pydata.org/pandas-docs/stable/user_guide/indexing.html#returning-a-view-versus-a-copy\n",
      "  self.interval_df['first_derivative'] = self.interval_df['savitzky_golay'].diff().fillna(0)\n"
     ]
    },
    {
     "name": "stdout",
     "output_type": "stream",
     "text": [
      "Saved phenology_df to base/polygon_1030\\phenology_df.csv\n",
      "Saved df_01 to base/polygon_1030\\data_base.csv\n",
      "1087 147\n"
     ]
    },
    {
     "name": "stderr",
     "output_type": "stream",
     "text": [
      "c:\\Users\\ander\\OneDrive\\Área de Trabalho\\msu\\phenologic_metrics\\src\\controllers\\metrics_bos_eso.py:37: SettingWithCopyWarning: \n",
      "A value is trying to be set on a copy of a slice from a DataFrame.\n",
      "Try using .loc[row_indexer,col_indexer] = value instead\n",
      "\n",
      "See the caveats in the documentation: https://pandas.pydata.org/pandas-docs/stable/user_guide/indexing.html#returning-a-view-versus-a-copy\n",
      "  self.interval_df['first_derivative'] = self.interval_df['savitzky_golay'].diff().fillna(0)\n"
     ]
    },
    {
     "name": "stdout",
     "output_type": "stream",
     "text": [
      "Saved phenology_df to base/polygon_1087\\phenology_df.csv\n",
      "Saved df_01 to base/polygon_1087\\data_base.csv\n",
      "1094 148\n"
     ]
    },
    {
     "name": "stderr",
     "output_type": "stream",
     "text": [
      "c:\\Users\\ander\\OneDrive\\Área de Trabalho\\msu\\phenologic_metrics\\src\\controllers\\metrics_bos_eso.py:37: SettingWithCopyWarning: \n",
      "A value is trying to be set on a copy of a slice from a DataFrame.\n",
      "Try using .loc[row_indexer,col_indexer] = value instead\n",
      "\n",
      "See the caveats in the documentation: https://pandas.pydata.org/pandas-docs/stable/user_guide/indexing.html#returning-a-view-versus-a-copy\n",
      "  self.interval_df['first_derivative'] = self.interval_df['savitzky_golay'].diff().fillna(0)\n"
     ]
    },
    {
     "name": "stdout",
     "output_type": "stream",
     "text": [
      "Saved phenology_df to base/polygon_1094\\phenology_df.csv\n",
      "Saved df_01 to base/polygon_1094\\data_base.csv\n",
      "1116 149\n"
     ]
    },
    {
     "name": "stderr",
     "output_type": "stream",
     "text": [
      "c:\\Users\\ander\\OneDrive\\Área de Trabalho\\msu\\phenologic_metrics\\src\\controllers\\metrics_bos_eso.py:37: SettingWithCopyWarning: \n",
      "A value is trying to be set on a copy of a slice from a DataFrame.\n",
      "Try using .loc[row_indexer,col_indexer] = value instead\n",
      "\n",
      "See the caveats in the documentation: https://pandas.pydata.org/pandas-docs/stable/user_guide/indexing.html#returning-a-view-versus-a-copy\n",
      "  self.interval_df['first_derivative'] = self.interval_df['savitzky_golay'].diff().fillna(0)\n"
     ]
    },
    {
     "name": "stdout",
     "output_type": "stream",
     "text": [
      "Saved phenology_df to base/polygon_1116\\phenology_df.csv\n",
      "Saved df_01 to base/polygon_1116\\data_base.csv\n",
      "1117 150\n"
     ]
    },
    {
     "name": "stderr",
     "output_type": "stream",
     "text": [
      "c:\\Users\\ander\\OneDrive\\Área de Trabalho\\msu\\phenologic_metrics\\src\\controllers\\metrics_bos_eso.py:37: SettingWithCopyWarning: \n",
      "A value is trying to be set on a copy of a slice from a DataFrame.\n",
      "Try using .loc[row_indexer,col_indexer] = value instead\n",
      "\n",
      "See the caveats in the documentation: https://pandas.pydata.org/pandas-docs/stable/user_guide/indexing.html#returning-a-view-versus-a-copy\n",
      "  self.interval_df['first_derivative'] = self.interval_df['savitzky_golay'].diff().fillna(0)\n"
     ]
    },
    {
     "name": "stdout",
     "output_type": "stream",
     "text": [
      "Saved phenology_df to base/polygon_1117\\phenology_df.csv\n",
      "Saved df_01 to base/polygon_1117\\data_base.csv\n",
      "1118 151\n"
     ]
    },
    {
     "name": "stderr",
     "output_type": "stream",
     "text": [
      "c:\\Users\\ander\\OneDrive\\Área de Trabalho\\msu\\phenologic_metrics\\src\\controllers\\metrics_bos_eso.py:37: SettingWithCopyWarning: \n",
      "A value is trying to be set on a copy of a slice from a DataFrame.\n",
      "Try using .loc[row_indexer,col_indexer] = value instead\n",
      "\n",
      "See the caveats in the documentation: https://pandas.pydata.org/pandas-docs/stable/user_guide/indexing.html#returning-a-view-versus-a-copy\n",
      "  self.interval_df['first_derivative'] = self.interval_df['savitzky_golay'].diff().fillna(0)\n"
     ]
    },
    {
     "name": "stdout",
     "output_type": "stream",
     "text": [
      "Saved phenology_df to base/polygon_1118\\phenology_df.csv\n",
      "Saved df_01 to base/polygon_1118\\data_base.csv\n",
      "1120 152\n"
     ]
    },
    {
     "name": "stderr",
     "output_type": "stream",
     "text": [
      "c:\\Users\\ander\\OneDrive\\Área de Trabalho\\msu\\phenologic_metrics\\src\\controllers\\metrics_bos_eso.py:37: SettingWithCopyWarning: \n",
      "A value is trying to be set on a copy of a slice from a DataFrame.\n",
      "Try using .loc[row_indexer,col_indexer] = value instead\n",
      "\n",
      "See the caveats in the documentation: https://pandas.pydata.org/pandas-docs/stable/user_guide/indexing.html#returning-a-view-versus-a-copy\n",
      "  self.interval_df['first_derivative'] = self.interval_df['savitzky_golay'].diff().fillna(0)\n"
     ]
    },
    {
     "name": "stdout",
     "output_type": "stream",
     "text": [
      "Saved phenology_df to base/polygon_1120\\phenology_df.csv\n",
      "Saved df_01 to base/polygon_1120\\data_base.csv\n",
      "1121 153\n"
     ]
    },
    {
     "name": "stderr",
     "output_type": "stream",
     "text": [
      "c:\\Users\\ander\\OneDrive\\Área de Trabalho\\msu\\phenologic_metrics\\src\\controllers\\metrics_bos_eso.py:37: SettingWithCopyWarning: \n",
      "A value is trying to be set on a copy of a slice from a DataFrame.\n",
      "Try using .loc[row_indexer,col_indexer] = value instead\n",
      "\n",
      "See the caveats in the documentation: https://pandas.pydata.org/pandas-docs/stable/user_guide/indexing.html#returning-a-view-versus-a-copy\n",
      "  self.interval_df['first_derivative'] = self.interval_df['savitzky_golay'].diff().fillna(0)\n"
     ]
    },
    {
     "name": "stdout",
     "output_type": "stream",
     "text": [
      "Saved phenology_df to base/polygon_1121\\phenology_df.csv\n",
      "Saved df_01 to base/polygon_1121\\data_base.csv\n",
      "1123 154\n"
     ]
    },
    {
     "name": "stderr",
     "output_type": "stream",
     "text": [
      "c:\\Users\\ander\\OneDrive\\Área de Trabalho\\msu\\phenologic_metrics\\src\\controllers\\metrics_bos_eso.py:37: SettingWithCopyWarning: \n",
      "A value is trying to be set on a copy of a slice from a DataFrame.\n",
      "Try using .loc[row_indexer,col_indexer] = value instead\n",
      "\n",
      "See the caveats in the documentation: https://pandas.pydata.org/pandas-docs/stable/user_guide/indexing.html#returning-a-view-versus-a-copy\n",
      "  self.interval_df['first_derivative'] = self.interval_df['savitzky_golay'].diff().fillna(0)\n"
     ]
    },
    {
     "name": "stdout",
     "output_type": "stream",
     "text": [
      "Saved phenology_df to base/polygon_1123\\phenology_df.csv\n",
      "Saved df_01 to base/polygon_1123\\data_base.csv\n",
      "1125 155\n"
     ]
    },
    {
     "name": "stderr",
     "output_type": "stream",
     "text": [
      "c:\\Users\\ander\\OneDrive\\Área de Trabalho\\msu\\phenologic_metrics\\src\\controllers\\metrics_bos_eso.py:37: SettingWithCopyWarning: \n",
      "A value is trying to be set on a copy of a slice from a DataFrame.\n",
      "Try using .loc[row_indexer,col_indexer] = value instead\n",
      "\n",
      "See the caveats in the documentation: https://pandas.pydata.org/pandas-docs/stable/user_guide/indexing.html#returning-a-view-versus-a-copy\n",
      "  self.interval_df['first_derivative'] = self.interval_df['savitzky_golay'].diff().fillna(0)\n"
     ]
    },
    {
     "name": "stdout",
     "output_type": "stream",
     "text": [
      "Saved phenology_df to base/polygon_1125\\phenology_df.csv\n",
      "Saved df_01 to base/polygon_1125\\data_base.csv\n",
      "1126 156\n"
     ]
    },
    {
     "name": "stderr",
     "output_type": "stream",
     "text": [
      "c:\\Users\\ander\\OneDrive\\Área de Trabalho\\msu\\phenologic_metrics\\src\\controllers\\metrics_bos_eso.py:37: SettingWithCopyWarning: \n",
      "A value is trying to be set on a copy of a slice from a DataFrame.\n",
      "Try using .loc[row_indexer,col_indexer] = value instead\n",
      "\n",
      "See the caveats in the documentation: https://pandas.pydata.org/pandas-docs/stable/user_guide/indexing.html#returning-a-view-versus-a-copy\n",
      "  self.interval_df['first_derivative'] = self.interval_df['savitzky_golay'].diff().fillna(0)\n"
     ]
    },
    {
     "name": "stdout",
     "output_type": "stream",
     "text": [
      "Saved phenology_df to base/polygon_1126\\phenology_df.csv\n",
      "Saved df_01 to base/polygon_1126\\data_base.csv\n",
      "1127 157\n"
     ]
    },
    {
     "name": "stderr",
     "output_type": "stream",
     "text": [
      "c:\\Users\\ander\\OneDrive\\Área de Trabalho\\msu\\phenologic_metrics\\src\\controllers\\metrics_bos_eso.py:37: SettingWithCopyWarning: \n",
      "A value is trying to be set on a copy of a slice from a DataFrame.\n",
      "Try using .loc[row_indexer,col_indexer] = value instead\n",
      "\n",
      "See the caveats in the documentation: https://pandas.pydata.org/pandas-docs/stable/user_guide/indexing.html#returning-a-view-versus-a-copy\n",
      "  self.interval_df['first_derivative'] = self.interval_df['savitzky_golay'].diff().fillna(0)\n"
     ]
    },
    {
     "name": "stdout",
     "output_type": "stream",
     "text": [
      "Saved phenology_df to base/polygon_1127\\phenology_df.csv\n",
      "Saved df_01 to base/polygon_1127\\data_base.csv\n",
      "1128 158\n"
     ]
    },
    {
     "name": "stderr",
     "output_type": "stream",
     "text": [
      "c:\\Users\\ander\\OneDrive\\Área de Trabalho\\msu\\phenologic_metrics\\src\\controllers\\metrics_bos_eso.py:37: SettingWithCopyWarning: \n",
      "A value is trying to be set on a copy of a slice from a DataFrame.\n",
      "Try using .loc[row_indexer,col_indexer] = value instead\n",
      "\n",
      "See the caveats in the documentation: https://pandas.pydata.org/pandas-docs/stable/user_guide/indexing.html#returning-a-view-versus-a-copy\n",
      "  self.interval_df['first_derivative'] = self.interval_df['savitzky_golay'].diff().fillna(0)\n"
     ]
    },
    {
     "name": "stdout",
     "output_type": "stream",
     "text": [
      "Saved phenology_df to base/polygon_1128\\phenology_df.csv\n",
      "Saved df_01 to base/polygon_1128\\data_base.csv\n",
      "1129 159\n"
     ]
    },
    {
     "name": "stderr",
     "output_type": "stream",
     "text": [
      "c:\\Users\\ander\\OneDrive\\Área de Trabalho\\msu\\phenologic_metrics\\src\\controllers\\metrics_bos_eso.py:37: SettingWithCopyWarning: \n",
      "A value is trying to be set on a copy of a slice from a DataFrame.\n",
      "Try using .loc[row_indexer,col_indexer] = value instead\n",
      "\n",
      "See the caveats in the documentation: https://pandas.pydata.org/pandas-docs/stable/user_guide/indexing.html#returning-a-view-versus-a-copy\n",
      "  self.interval_df['first_derivative'] = self.interval_df['savitzky_golay'].diff().fillna(0)\n"
     ]
    },
    {
     "name": "stdout",
     "output_type": "stream",
     "text": [
      "Saved phenology_df to base/polygon_1129\\phenology_df.csv\n",
      "Saved df_01 to base/polygon_1129\\data_base.csv\n",
      "1130 160\n"
     ]
    },
    {
     "name": "stderr",
     "output_type": "stream",
     "text": [
      "c:\\Users\\ander\\OneDrive\\Área de Trabalho\\msu\\phenologic_metrics\\src\\controllers\\metrics_bos_eso.py:37: SettingWithCopyWarning: \n",
      "A value is trying to be set on a copy of a slice from a DataFrame.\n",
      "Try using .loc[row_indexer,col_indexer] = value instead\n",
      "\n",
      "See the caveats in the documentation: https://pandas.pydata.org/pandas-docs/stable/user_guide/indexing.html#returning-a-view-versus-a-copy\n",
      "  self.interval_df['first_derivative'] = self.interval_df['savitzky_golay'].diff().fillna(0)\n"
     ]
    },
    {
     "name": "stdout",
     "output_type": "stream",
     "text": [
      "Saved phenology_df to base/polygon_1130\\phenology_df.csv\n",
      "Saved df_01 to base/polygon_1130\\data_base.csv\n",
      "1131 161\n"
     ]
    },
    {
     "name": "stderr",
     "output_type": "stream",
     "text": [
      "c:\\Users\\ander\\OneDrive\\Área de Trabalho\\msu\\phenologic_metrics\\src\\controllers\\metrics_bos_eso.py:37: SettingWithCopyWarning: \n",
      "A value is trying to be set on a copy of a slice from a DataFrame.\n",
      "Try using .loc[row_indexer,col_indexer] = value instead\n",
      "\n",
      "See the caveats in the documentation: https://pandas.pydata.org/pandas-docs/stable/user_guide/indexing.html#returning-a-view-versus-a-copy\n",
      "  self.interval_df['first_derivative'] = self.interval_df['savitzky_golay'].diff().fillna(0)\n"
     ]
    },
    {
     "name": "stdout",
     "output_type": "stream",
     "text": [
      "Saved phenology_df to base/polygon_1131\\phenology_df.csv\n",
      "Saved df_01 to base/polygon_1131\\data_base.csv\n",
      "1132 162\n"
     ]
    },
    {
     "name": "stderr",
     "output_type": "stream",
     "text": [
      "c:\\Users\\ander\\OneDrive\\Área de Trabalho\\msu\\phenologic_metrics\\src\\controllers\\metrics_bos_eso.py:37: SettingWithCopyWarning: \n",
      "A value is trying to be set on a copy of a slice from a DataFrame.\n",
      "Try using .loc[row_indexer,col_indexer] = value instead\n",
      "\n",
      "See the caveats in the documentation: https://pandas.pydata.org/pandas-docs/stable/user_guide/indexing.html#returning-a-view-versus-a-copy\n",
      "  self.interval_df['first_derivative'] = self.interval_df['savitzky_golay'].diff().fillna(0)\n"
     ]
    },
    {
     "name": "stdout",
     "output_type": "stream",
     "text": [
      "Saved phenology_df to base/polygon_1132\\phenology_df.csv\n",
      "Saved df_01 to base/polygon_1132\\data_base.csv\n",
      "1133 163\n"
     ]
    },
    {
     "name": "stderr",
     "output_type": "stream",
     "text": [
      "c:\\Users\\ander\\OneDrive\\Área de Trabalho\\msu\\phenologic_metrics\\src\\controllers\\metrics_bos_eso.py:37: SettingWithCopyWarning: \n",
      "A value is trying to be set on a copy of a slice from a DataFrame.\n",
      "Try using .loc[row_indexer,col_indexer] = value instead\n",
      "\n",
      "See the caveats in the documentation: https://pandas.pydata.org/pandas-docs/stable/user_guide/indexing.html#returning-a-view-versus-a-copy\n",
      "  self.interval_df['first_derivative'] = self.interval_df['savitzky_golay'].diff().fillna(0)\n"
     ]
    },
    {
     "name": "stdout",
     "output_type": "stream",
     "text": [
      "Saved phenology_df to base/polygon_1133\\phenology_df.csv\n",
      "Saved df_01 to base/polygon_1133\\data_base.csv\n",
      "1134 164\n"
     ]
    },
    {
     "name": "stderr",
     "output_type": "stream",
     "text": [
      "c:\\Users\\ander\\OneDrive\\Área de Trabalho\\msu\\phenologic_metrics\\src\\controllers\\metrics_bos_eso.py:37: SettingWithCopyWarning: \n",
      "A value is trying to be set on a copy of a slice from a DataFrame.\n",
      "Try using .loc[row_indexer,col_indexer] = value instead\n",
      "\n",
      "See the caveats in the documentation: https://pandas.pydata.org/pandas-docs/stable/user_guide/indexing.html#returning-a-view-versus-a-copy\n",
      "  self.interval_df['first_derivative'] = self.interval_df['savitzky_golay'].diff().fillna(0)\n"
     ]
    },
    {
     "name": "stdout",
     "output_type": "stream",
     "text": [
      "Saved phenology_df to base/polygon_1134\\phenology_df.csv\n",
      "Saved df_01 to base/polygon_1134\\data_base.csv\n",
      "1135 165\n"
     ]
    },
    {
     "name": "stderr",
     "output_type": "stream",
     "text": [
      "c:\\Users\\ander\\OneDrive\\Área de Trabalho\\msu\\phenologic_metrics\\src\\controllers\\metrics_bos_eso.py:37: SettingWithCopyWarning: \n",
      "A value is trying to be set on a copy of a slice from a DataFrame.\n",
      "Try using .loc[row_indexer,col_indexer] = value instead\n",
      "\n",
      "See the caveats in the documentation: https://pandas.pydata.org/pandas-docs/stable/user_guide/indexing.html#returning-a-view-versus-a-copy\n",
      "  self.interval_df['first_derivative'] = self.interval_df['savitzky_golay'].diff().fillna(0)\n"
     ]
    },
    {
     "name": "stdout",
     "output_type": "stream",
     "text": [
      "Saved phenology_df to base/polygon_1135\\phenology_df.csv\n",
      "Saved df_01 to base/polygon_1135\\data_base.csv\n",
      "1136 166\n"
     ]
    },
    {
     "name": "stderr",
     "output_type": "stream",
     "text": [
      "c:\\Users\\ander\\OneDrive\\Área de Trabalho\\msu\\phenologic_metrics\\src\\controllers\\metrics_bos_eso.py:37: SettingWithCopyWarning: \n",
      "A value is trying to be set on a copy of a slice from a DataFrame.\n",
      "Try using .loc[row_indexer,col_indexer] = value instead\n",
      "\n",
      "See the caveats in the documentation: https://pandas.pydata.org/pandas-docs/stable/user_guide/indexing.html#returning-a-view-versus-a-copy\n",
      "  self.interval_df['first_derivative'] = self.interval_df['savitzky_golay'].diff().fillna(0)\n"
     ]
    },
    {
     "name": "stdout",
     "output_type": "stream",
     "text": [
      "Saved phenology_df to base/polygon_1136\\phenology_df.csv\n",
      "Saved df_01 to base/polygon_1136\\data_base.csv\n",
      "1137 167\n"
     ]
    },
    {
     "name": "stderr",
     "output_type": "stream",
     "text": [
      "c:\\Users\\ander\\OneDrive\\Área de Trabalho\\msu\\phenologic_metrics\\src\\controllers\\metrics_bos_eso.py:37: SettingWithCopyWarning: \n",
      "A value is trying to be set on a copy of a slice from a DataFrame.\n",
      "Try using .loc[row_indexer,col_indexer] = value instead\n",
      "\n",
      "See the caveats in the documentation: https://pandas.pydata.org/pandas-docs/stable/user_guide/indexing.html#returning-a-view-versus-a-copy\n",
      "  self.interval_df['first_derivative'] = self.interval_df['savitzky_golay'].diff().fillna(0)\n"
     ]
    },
    {
     "name": "stdout",
     "output_type": "stream",
     "text": [
      "Saved phenology_df to base/polygon_1137\\phenology_df.csv\n",
      "Saved df_01 to base/polygon_1137\\data_base.csv\n",
      "1141 168\n"
     ]
    },
    {
     "name": "stderr",
     "output_type": "stream",
     "text": [
      "c:\\Users\\ander\\OneDrive\\Área de Trabalho\\msu\\phenologic_metrics\\src\\controllers\\metrics_bos_eso.py:37: SettingWithCopyWarning: \n",
      "A value is trying to be set on a copy of a slice from a DataFrame.\n",
      "Try using .loc[row_indexer,col_indexer] = value instead\n",
      "\n",
      "See the caveats in the documentation: https://pandas.pydata.org/pandas-docs/stable/user_guide/indexing.html#returning-a-view-versus-a-copy\n",
      "  self.interval_df['first_derivative'] = self.interval_df['savitzky_golay'].diff().fillna(0)\n"
     ]
    },
    {
     "name": "stdout",
     "output_type": "stream",
     "text": [
      "Saved phenology_df to base/polygon_1141\\phenology_df.csv\n",
      "Saved df_01 to base/polygon_1141\\data_base.csv\n",
      "1142 169\n"
     ]
    },
    {
     "name": "stderr",
     "output_type": "stream",
     "text": [
      "c:\\Users\\ander\\OneDrive\\Área de Trabalho\\msu\\phenologic_metrics\\src\\controllers\\metrics_bos_eso.py:37: SettingWithCopyWarning: \n",
      "A value is trying to be set on a copy of a slice from a DataFrame.\n",
      "Try using .loc[row_indexer,col_indexer] = value instead\n",
      "\n",
      "See the caveats in the documentation: https://pandas.pydata.org/pandas-docs/stable/user_guide/indexing.html#returning-a-view-versus-a-copy\n",
      "  self.interval_df['first_derivative'] = self.interval_df['savitzky_golay'].diff().fillna(0)\n"
     ]
    },
    {
     "name": "stdout",
     "output_type": "stream",
     "text": [
      "Saved phenology_df to base/polygon_1142\\phenology_df.csv\n",
      "Saved df_01 to base/polygon_1142\\data_base.csv\n",
      "1143 170\n"
     ]
    },
    {
     "name": "stderr",
     "output_type": "stream",
     "text": [
      "c:\\Users\\ander\\OneDrive\\Área de Trabalho\\msu\\phenologic_metrics\\src\\controllers\\metrics_bos_eso.py:37: SettingWithCopyWarning: \n",
      "A value is trying to be set on a copy of a slice from a DataFrame.\n",
      "Try using .loc[row_indexer,col_indexer] = value instead\n",
      "\n",
      "See the caveats in the documentation: https://pandas.pydata.org/pandas-docs/stable/user_guide/indexing.html#returning-a-view-versus-a-copy\n",
      "  self.interval_df['first_derivative'] = self.interval_df['savitzky_golay'].diff().fillna(0)\n"
     ]
    },
    {
     "name": "stdout",
     "output_type": "stream",
     "text": [
      "Saved phenology_df to base/polygon_1143\\phenology_df.csv\n",
      "Saved df_01 to base/polygon_1143\\data_base.csv\n",
      "1146 171\n"
     ]
    },
    {
     "name": "stderr",
     "output_type": "stream",
     "text": [
      "c:\\Users\\ander\\OneDrive\\Área de Trabalho\\msu\\phenologic_metrics\\src\\controllers\\metrics_bos_eso.py:37: SettingWithCopyWarning: \n",
      "A value is trying to be set on a copy of a slice from a DataFrame.\n",
      "Try using .loc[row_indexer,col_indexer] = value instead\n",
      "\n",
      "See the caveats in the documentation: https://pandas.pydata.org/pandas-docs/stable/user_guide/indexing.html#returning-a-view-versus-a-copy\n",
      "  self.interval_df['first_derivative'] = self.interval_df['savitzky_golay'].diff().fillna(0)\n"
     ]
    },
    {
     "name": "stdout",
     "output_type": "stream",
     "text": [
      "Saved phenology_df to base/polygon_1146\\phenology_df.csv\n",
      "Saved df_01 to base/polygon_1146\\data_base.csv\n",
      "1147 172\n"
     ]
    },
    {
     "name": "stderr",
     "output_type": "stream",
     "text": [
      "c:\\Users\\ander\\OneDrive\\Área de Trabalho\\msu\\phenologic_metrics\\src\\controllers\\metrics_bos_eso.py:37: SettingWithCopyWarning: \n",
      "A value is trying to be set on a copy of a slice from a DataFrame.\n",
      "Try using .loc[row_indexer,col_indexer] = value instead\n",
      "\n",
      "See the caveats in the documentation: https://pandas.pydata.org/pandas-docs/stable/user_guide/indexing.html#returning-a-view-versus-a-copy\n",
      "  self.interval_df['first_derivative'] = self.interval_df['savitzky_golay'].diff().fillna(0)\n"
     ]
    },
    {
     "name": "stdout",
     "output_type": "stream",
     "text": [
      "Saved phenology_df to base/polygon_1147\\phenology_df.csv\n",
      "Saved df_01 to base/polygon_1147\\data_base.csv\n",
      "1148 173\n"
     ]
    },
    {
     "name": "stderr",
     "output_type": "stream",
     "text": [
      "c:\\Users\\ander\\OneDrive\\Área de Trabalho\\msu\\phenologic_metrics\\src\\controllers\\metrics_bos_eso.py:37: SettingWithCopyWarning: \n",
      "A value is trying to be set on a copy of a slice from a DataFrame.\n",
      "Try using .loc[row_indexer,col_indexer] = value instead\n",
      "\n",
      "See the caveats in the documentation: https://pandas.pydata.org/pandas-docs/stable/user_guide/indexing.html#returning-a-view-versus-a-copy\n",
      "  self.interval_df['first_derivative'] = self.interval_df['savitzky_golay'].diff().fillna(0)\n"
     ]
    },
    {
     "name": "stdout",
     "output_type": "stream",
     "text": [
      "Saved phenology_df to base/polygon_1148\\phenology_df.csv\n",
      "Saved df_01 to base/polygon_1148\\data_base.csv\n",
      "1149 174\n"
     ]
    },
    {
     "name": "stderr",
     "output_type": "stream",
     "text": [
      "c:\\Users\\ander\\OneDrive\\Área de Trabalho\\msu\\phenologic_metrics\\src\\controllers\\metrics_bos_eso.py:37: SettingWithCopyWarning: \n",
      "A value is trying to be set on a copy of a slice from a DataFrame.\n",
      "Try using .loc[row_indexer,col_indexer] = value instead\n",
      "\n",
      "See the caveats in the documentation: https://pandas.pydata.org/pandas-docs/stable/user_guide/indexing.html#returning-a-view-versus-a-copy\n",
      "  self.interval_df['first_derivative'] = self.interval_df['savitzky_golay'].diff().fillna(0)\n"
     ]
    },
    {
     "name": "stdout",
     "output_type": "stream",
     "text": [
      "Saved phenology_df to base/polygon_1149\\phenology_df.csv\n",
      "Saved df_01 to base/polygon_1149\\data_base.csv\n",
      "1152 175\n"
     ]
    },
    {
     "name": "stderr",
     "output_type": "stream",
     "text": [
      "c:\\Users\\ander\\OneDrive\\Área de Trabalho\\msu\\phenologic_metrics\\src\\controllers\\metrics_bos_eso.py:37: SettingWithCopyWarning: \n",
      "A value is trying to be set on a copy of a slice from a DataFrame.\n",
      "Try using .loc[row_indexer,col_indexer] = value instead\n",
      "\n",
      "See the caveats in the documentation: https://pandas.pydata.org/pandas-docs/stable/user_guide/indexing.html#returning-a-view-versus-a-copy\n",
      "  self.interval_df['first_derivative'] = self.interval_df['savitzky_golay'].diff().fillna(0)\n"
     ]
    },
    {
     "name": "stdout",
     "output_type": "stream",
     "text": [
      "Saved phenology_df to base/polygon_1152\\phenology_df.csv\n",
      "Saved df_01 to base/polygon_1152\\data_base.csv\n",
      "1154 176\n",
      "1155 177\n",
      "1158 178\n"
     ]
    },
    {
     "name": "stderr",
     "output_type": "stream",
     "text": [
      "c:\\Users\\ander\\OneDrive\\Área de Trabalho\\msu\\phenologic_metrics\\src\\controllers\\metrics_bos_eso.py:37: SettingWithCopyWarning: \n",
      "A value is trying to be set on a copy of a slice from a DataFrame.\n",
      "Try using .loc[row_indexer,col_indexer] = value instead\n",
      "\n",
      "See the caveats in the documentation: https://pandas.pydata.org/pandas-docs/stable/user_guide/indexing.html#returning-a-view-versus-a-copy\n",
      "  self.interval_df['first_derivative'] = self.interval_df['savitzky_golay'].diff().fillna(0)\n"
     ]
    },
    {
     "name": "stdout",
     "output_type": "stream",
     "text": [
      "Saved phenology_df to base/polygon_1158\\phenology_df.csv\n",
      "Saved df_01 to base/polygon_1158\\data_base.csv\n",
      "1159 179\n"
     ]
    },
    {
     "name": "stderr",
     "output_type": "stream",
     "text": [
      "c:\\Users\\ander\\OneDrive\\Área de Trabalho\\msu\\phenologic_metrics\\src\\controllers\\metrics_bos_eso.py:37: SettingWithCopyWarning: \n",
      "A value is trying to be set on a copy of a slice from a DataFrame.\n",
      "Try using .loc[row_indexer,col_indexer] = value instead\n",
      "\n",
      "See the caveats in the documentation: https://pandas.pydata.org/pandas-docs/stable/user_guide/indexing.html#returning-a-view-versus-a-copy\n",
      "  self.interval_df['first_derivative'] = self.interval_df['savitzky_golay'].diff().fillna(0)\n"
     ]
    },
    {
     "name": "stdout",
     "output_type": "stream",
     "text": [
      "Saved phenology_df to base/polygon_1159\\phenology_df.csv\n",
      "Saved df_01 to base/polygon_1159\\data_base.csv\n",
      "1162 180\n"
     ]
    },
    {
     "name": "stderr",
     "output_type": "stream",
     "text": [
      "c:\\Users\\ander\\OneDrive\\Área de Trabalho\\msu\\phenologic_metrics\\src\\controllers\\metrics_bos_eso.py:37: SettingWithCopyWarning: \n",
      "A value is trying to be set on a copy of a slice from a DataFrame.\n",
      "Try using .loc[row_indexer,col_indexer] = value instead\n",
      "\n",
      "See the caveats in the documentation: https://pandas.pydata.org/pandas-docs/stable/user_guide/indexing.html#returning-a-view-versus-a-copy\n",
      "  self.interval_df['first_derivative'] = self.interval_df['savitzky_golay'].diff().fillna(0)\n"
     ]
    },
    {
     "name": "stdout",
     "output_type": "stream",
     "text": [
      "Saved phenology_df to base/polygon_1162\\phenology_df.csv\n",
      "Saved df_01 to base/polygon_1162\\data_base.csv\n",
      "1163 181\n"
     ]
    },
    {
     "name": "stderr",
     "output_type": "stream",
     "text": [
      "c:\\Users\\ander\\OneDrive\\Área de Trabalho\\msu\\phenologic_metrics\\src\\controllers\\metrics_bos_eso.py:37: SettingWithCopyWarning: \n",
      "A value is trying to be set on a copy of a slice from a DataFrame.\n",
      "Try using .loc[row_indexer,col_indexer] = value instead\n",
      "\n",
      "See the caveats in the documentation: https://pandas.pydata.org/pandas-docs/stable/user_guide/indexing.html#returning-a-view-versus-a-copy\n",
      "  self.interval_df['first_derivative'] = self.interval_df['savitzky_golay'].diff().fillna(0)\n"
     ]
    },
    {
     "name": "stdout",
     "output_type": "stream",
     "text": [
      "Saved phenology_df to base/polygon_1163\\phenology_df.csv\n",
      "Saved df_01 to base/polygon_1163\\data_base.csv\n",
      "1164 182\n"
     ]
    },
    {
     "name": "stderr",
     "output_type": "stream",
     "text": [
      "c:\\Users\\ander\\OneDrive\\Área de Trabalho\\msu\\phenologic_metrics\\src\\controllers\\metrics_bos_eso.py:37: SettingWithCopyWarning: \n",
      "A value is trying to be set on a copy of a slice from a DataFrame.\n",
      "Try using .loc[row_indexer,col_indexer] = value instead\n",
      "\n",
      "See the caveats in the documentation: https://pandas.pydata.org/pandas-docs/stable/user_guide/indexing.html#returning-a-view-versus-a-copy\n",
      "  self.interval_df['first_derivative'] = self.interval_df['savitzky_golay'].diff().fillna(0)\n"
     ]
    },
    {
     "name": "stdout",
     "output_type": "stream",
     "text": [
      "Saved phenology_df to base/polygon_1164\\phenology_df.csv\n",
      "Saved df_01 to base/polygon_1164\\data_base.csv\n",
      "1165 183\n"
     ]
    },
    {
     "name": "stderr",
     "output_type": "stream",
     "text": [
      "c:\\Users\\ander\\OneDrive\\Área de Trabalho\\msu\\phenologic_metrics\\src\\controllers\\metrics_bos_eso.py:37: SettingWithCopyWarning: \n",
      "A value is trying to be set on a copy of a slice from a DataFrame.\n",
      "Try using .loc[row_indexer,col_indexer] = value instead\n",
      "\n",
      "See the caveats in the documentation: https://pandas.pydata.org/pandas-docs/stable/user_guide/indexing.html#returning-a-view-versus-a-copy\n",
      "  self.interval_df['first_derivative'] = self.interval_df['savitzky_golay'].diff().fillna(0)\n"
     ]
    },
    {
     "name": "stdout",
     "output_type": "stream",
     "text": [
      "Saved phenology_df to base/polygon_1165\\phenology_df.csv\n",
      "Saved df_01 to base/polygon_1165\\data_base.csv\n",
      "1167 184\n"
     ]
    },
    {
     "name": "stderr",
     "output_type": "stream",
     "text": [
      "c:\\Users\\ander\\OneDrive\\Área de Trabalho\\msu\\phenologic_metrics\\src\\controllers\\metrics_bos_eso.py:37: SettingWithCopyWarning: \n",
      "A value is trying to be set on a copy of a slice from a DataFrame.\n",
      "Try using .loc[row_indexer,col_indexer] = value instead\n",
      "\n",
      "See the caveats in the documentation: https://pandas.pydata.org/pandas-docs/stable/user_guide/indexing.html#returning-a-view-versus-a-copy\n",
      "  self.interval_df['first_derivative'] = self.interval_df['savitzky_golay'].diff().fillna(0)\n"
     ]
    },
    {
     "name": "stdout",
     "output_type": "stream",
     "text": [
      "Saved phenology_df to base/polygon_1167\\phenology_df.csv\n",
      "Saved df_01 to base/polygon_1167\\data_base.csv\n",
      "1168 185\n"
     ]
    },
    {
     "name": "stderr",
     "output_type": "stream",
     "text": [
      "c:\\Users\\ander\\OneDrive\\Área de Trabalho\\msu\\phenologic_metrics\\src\\controllers\\metrics_bos_eso.py:37: SettingWithCopyWarning: \n",
      "A value is trying to be set on a copy of a slice from a DataFrame.\n",
      "Try using .loc[row_indexer,col_indexer] = value instead\n",
      "\n",
      "See the caveats in the documentation: https://pandas.pydata.org/pandas-docs/stable/user_guide/indexing.html#returning-a-view-versus-a-copy\n",
      "  self.interval_df['first_derivative'] = self.interval_df['savitzky_golay'].diff().fillna(0)\n"
     ]
    },
    {
     "name": "stdout",
     "output_type": "stream",
     "text": [
      "Saved phenology_df to base/polygon_1168\\phenology_df.csv\n",
      "Saved df_01 to base/polygon_1168\\data_base.csv\n",
      "1171 186\n"
     ]
    },
    {
     "name": "stderr",
     "output_type": "stream",
     "text": [
      "c:\\Users\\ander\\OneDrive\\Área de Trabalho\\msu\\phenologic_metrics\\src\\controllers\\metrics_bos_eso.py:37: SettingWithCopyWarning: \n",
      "A value is trying to be set on a copy of a slice from a DataFrame.\n",
      "Try using .loc[row_indexer,col_indexer] = value instead\n",
      "\n",
      "See the caveats in the documentation: https://pandas.pydata.org/pandas-docs/stable/user_guide/indexing.html#returning-a-view-versus-a-copy\n",
      "  self.interval_df['first_derivative'] = self.interval_df['savitzky_golay'].diff().fillna(0)\n"
     ]
    },
    {
     "name": "stdout",
     "output_type": "stream",
     "text": [
      "Saved phenology_df to base/polygon_1171\\phenology_df.csv\n",
      "Saved df_01 to base/polygon_1171\\data_base.csv\n",
      "1172 187\n"
     ]
    },
    {
     "name": "stderr",
     "output_type": "stream",
     "text": [
      "c:\\Users\\ander\\OneDrive\\Área de Trabalho\\msu\\phenologic_metrics\\src\\controllers\\metrics_bos_eso.py:37: SettingWithCopyWarning: \n",
      "A value is trying to be set on a copy of a slice from a DataFrame.\n",
      "Try using .loc[row_indexer,col_indexer] = value instead\n",
      "\n",
      "See the caveats in the documentation: https://pandas.pydata.org/pandas-docs/stable/user_guide/indexing.html#returning-a-view-versus-a-copy\n",
      "  self.interval_df['first_derivative'] = self.interval_df['savitzky_golay'].diff().fillna(0)\n"
     ]
    },
    {
     "name": "stdout",
     "output_type": "stream",
     "text": [
      "Saved phenology_df to base/polygon_1172\\phenology_df.csv\n",
      "Saved df_01 to base/polygon_1172\\data_base.csv\n",
      "1173 188\n"
     ]
    },
    {
     "name": "stderr",
     "output_type": "stream",
     "text": [
      "c:\\Users\\ander\\OneDrive\\Área de Trabalho\\msu\\phenologic_metrics\\src\\controllers\\metrics_bos_eso.py:37: SettingWithCopyWarning: \n",
      "A value is trying to be set on a copy of a slice from a DataFrame.\n",
      "Try using .loc[row_indexer,col_indexer] = value instead\n",
      "\n",
      "See the caveats in the documentation: https://pandas.pydata.org/pandas-docs/stable/user_guide/indexing.html#returning-a-view-versus-a-copy\n",
      "  self.interval_df['first_derivative'] = self.interval_df['savitzky_golay'].diff().fillna(0)\n"
     ]
    },
    {
     "name": "stdout",
     "output_type": "stream",
     "text": [
      "Saved phenology_df to base/polygon_1173\\phenology_df.csv\n",
      "Saved df_01 to base/polygon_1173\\data_base.csv\n",
      "1177 189\n"
     ]
    },
    {
     "name": "stderr",
     "output_type": "stream",
     "text": [
      "c:\\Users\\ander\\OneDrive\\Área de Trabalho\\msu\\phenologic_metrics\\src\\controllers\\metrics_bos_eso.py:37: SettingWithCopyWarning: \n",
      "A value is trying to be set on a copy of a slice from a DataFrame.\n",
      "Try using .loc[row_indexer,col_indexer] = value instead\n",
      "\n",
      "See the caveats in the documentation: https://pandas.pydata.org/pandas-docs/stable/user_guide/indexing.html#returning-a-view-versus-a-copy\n",
      "  self.interval_df['first_derivative'] = self.interval_df['savitzky_golay'].diff().fillna(0)\n"
     ]
    },
    {
     "name": "stdout",
     "output_type": "stream",
     "text": [
      "Saved phenology_df to base/polygon_1177\\phenology_df.csv\n",
      "Saved df_01 to base/polygon_1177\\data_base.csv\n",
      "1178 190\n"
     ]
    },
    {
     "name": "stderr",
     "output_type": "stream",
     "text": [
      "c:\\Users\\ander\\OneDrive\\Área de Trabalho\\msu\\phenologic_metrics\\src\\controllers\\metrics_bos_eso.py:37: SettingWithCopyWarning: \n",
      "A value is trying to be set on a copy of a slice from a DataFrame.\n",
      "Try using .loc[row_indexer,col_indexer] = value instead\n",
      "\n",
      "See the caveats in the documentation: https://pandas.pydata.org/pandas-docs/stable/user_guide/indexing.html#returning-a-view-versus-a-copy\n",
      "  self.interval_df['first_derivative'] = self.interval_df['savitzky_golay'].diff().fillna(0)\n"
     ]
    },
    {
     "name": "stdout",
     "output_type": "stream",
     "text": [
      "Saved phenology_df to base/polygon_1178\\phenology_df.csv\n",
      "Saved df_01 to base/polygon_1178\\data_base.csv\n",
      "1179 191\n"
     ]
    },
    {
     "name": "stderr",
     "output_type": "stream",
     "text": [
      "c:\\Users\\ander\\OneDrive\\Área de Trabalho\\msu\\phenologic_metrics\\src\\controllers\\metrics_bos_eso.py:37: SettingWithCopyWarning: \n",
      "A value is trying to be set on a copy of a slice from a DataFrame.\n",
      "Try using .loc[row_indexer,col_indexer] = value instead\n",
      "\n",
      "See the caveats in the documentation: https://pandas.pydata.org/pandas-docs/stable/user_guide/indexing.html#returning-a-view-versus-a-copy\n",
      "  self.interval_df['first_derivative'] = self.interval_df['savitzky_golay'].diff().fillna(0)\n"
     ]
    },
    {
     "name": "stdout",
     "output_type": "stream",
     "text": [
      "Saved phenology_df to base/polygon_1179\\phenology_df.csv\n",
      "Saved df_01 to base/polygon_1179\\data_base.csv\n",
      "1180 192\n"
     ]
    },
    {
     "name": "stderr",
     "output_type": "stream",
     "text": [
      "c:\\Users\\ander\\OneDrive\\Área de Trabalho\\msu\\phenologic_metrics\\src\\controllers\\metrics_bos_eso.py:37: SettingWithCopyWarning: \n",
      "A value is trying to be set on a copy of a slice from a DataFrame.\n",
      "Try using .loc[row_indexer,col_indexer] = value instead\n",
      "\n",
      "See the caveats in the documentation: https://pandas.pydata.org/pandas-docs/stable/user_guide/indexing.html#returning-a-view-versus-a-copy\n",
      "  self.interval_df['first_derivative'] = self.interval_df['savitzky_golay'].diff().fillna(0)\n"
     ]
    },
    {
     "name": "stdout",
     "output_type": "stream",
     "text": [
      "Saved phenology_df to base/polygon_1180\\phenology_df.csv\n",
      "Saved df_01 to base/polygon_1180\\data_base.csv\n",
      "1181 193\n"
     ]
    },
    {
     "name": "stderr",
     "output_type": "stream",
     "text": [
      "c:\\Users\\ander\\OneDrive\\Área de Trabalho\\msu\\phenologic_metrics\\src\\controllers\\metrics_bos_eso.py:37: SettingWithCopyWarning: \n",
      "A value is trying to be set on a copy of a slice from a DataFrame.\n",
      "Try using .loc[row_indexer,col_indexer] = value instead\n",
      "\n",
      "See the caveats in the documentation: https://pandas.pydata.org/pandas-docs/stable/user_guide/indexing.html#returning-a-view-versus-a-copy\n",
      "  self.interval_df['first_derivative'] = self.interval_df['savitzky_golay'].diff().fillna(0)\n"
     ]
    },
    {
     "name": "stdout",
     "output_type": "stream",
     "text": [
      "Saved phenology_df to base/polygon_1181\\phenology_df.csv\n",
      "Saved df_01 to base/polygon_1181\\data_base.csv\n",
      "1182 194\n"
     ]
    },
    {
     "name": "stderr",
     "output_type": "stream",
     "text": [
      "c:\\Users\\ander\\OneDrive\\Área de Trabalho\\msu\\phenologic_metrics\\src\\controllers\\metrics_bos_eso.py:37: SettingWithCopyWarning: \n",
      "A value is trying to be set on a copy of a slice from a DataFrame.\n",
      "Try using .loc[row_indexer,col_indexer] = value instead\n",
      "\n",
      "See the caveats in the documentation: https://pandas.pydata.org/pandas-docs/stable/user_guide/indexing.html#returning-a-view-versus-a-copy\n",
      "  self.interval_df['first_derivative'] = self.interval_df['savitzky_golay'].diff().fillna(0)\n"
     ]
    },
    {
     "name": "stdout",
     "output_type": "stream",
     "text": [
      "Saved phenology_df to base/polygon_1182\\phenology_df.csv\n",
      "Saved df_01 to base/polygon_1182\\data_base.csv\n",
      "1183 195\n"
     ]
    },
    {
     "name": "stderr",
     "output_type": "stream",
     "text": [
      "c:\\Users\\ander\\OneDrive\\Área de Trabalho\\msu\\phenologic_metrics\\src\\controllers\\metrics_bos_eso.py:37: SettingWithCopyWarning: \n",
      "A value is trying to be set on a copy of a slice from a DataFrame.\n",
      "Try using .loc[row_indexer,col_indexer] = value instead\n",
      "\n",
      "See the caveats in the documentation: https://pandas.pydata.org/pandas-docs/stable/user_guide/indexing.html#returning-a-view-versus-a-copy\n",
      "  self.interval_df['first_derivative'] = self.interval_df['savitzky_golay'].diff().fillna(0)\n"
     ]
    },
    {
     "name": "stdout",
     "output_type": "stream",
     "text": [
      "Saved phenology_df to base/polygon_1183\\phenology_df.csv\n",
      "Saved df_01 to base/polygon_1183\\data_base.csv\n",
      "1184 196\n"
     ]
    },
    {
     "name": "stderr",
     "output_type": "stream",
     "text": [
      "c:\\Users\\ander\\OneDrive\\Área de Trabalho\\msu\\phenologic_metrics\\src\\controllers\\metrics_bos_eso.py:37: SettingWithCopyWarning: \n",
      "A value is trying to be set on a copy of a slice from a DataFrame.\n",
      "Try using .loc[row_indexer,col_indexer] = value instead\n",
      "\n",
      "See the caveats in the documentation: https://pandas.pydata.org/pandas-docs/stable/user_guide/indexing.html#returning-a-view-versus-a-copy\n",
      "  self.interval_df['first_derivative'] = self.interval_df['savitzky_golay'].diff().fillna(0)\n"
     ]
    },
    {
     "name": "stdout",
     "output_type": "stream",
     "text": [
      "Saved phenology_df to base/polygon_1184\\phenology_df.csv\n",
      "Saved df_01 to base/polygon_1184\\data_base.csv\n",
      "1185 197\n"
     ]
    },
    {
     "name": "stderr",
     "output_type": "stream",
     "text": [
      "c:\\Users\\ander\\OneDrive\\Área de Trabalho\\msu\\phenologic_metrics\\src\\controllers\\metrics_bos_eso.py:37: SettingWithCopyWarning: \n",
      "A value is trying to be set on a copy of a slice from a DataFrame.\n",
      "Try using .loc[row_indexer,col_indexer] = value instead\n",
      "\n",
      "See the caveats in the documentation: https://pandas.pydata.org/pandas-docs/stable/user_guide/indexing.html#returning-a-view-versus-a-copy\n",
      "  self.interval_df['first_derivative'] = self.interval_df['savitzky_golay'].diff().fillna(0)\n"
     ]
    },
    {
     "name": "stdout",
     "output_type": "stream",
     "text": [
      "Saved phenology_df to base/polygon_1185\\phenology_df.csv\n",
      "Saved df_01 to base/polygon_1185\\data_base.csv\n",
      "1186 198\n"
     ]
    },
    {
     "name": "stderr",
     "output_type": "stream",
     "text": [
      "c:\\Users\\ander\\OneDrive\\Área de Trabalho\\msu\\phenologic_metrics\\src\\controllers\\metrics_bos_eso.py:37: SettingWithCopyWarning: \n",
      "A value is trying to be set on a copy of a slice from a DataFrame.\n",
      "Try using .loc[row_indexer,col_indexer] = value instead\n",
      "\n",
      "See the caveats in the documentation: https://pandas.pydata.org/pandas-docs/stable/user_guide/indexing.html#returning-a-view-versus-a-copy\n",
      "  self.interval_df['first_derivative'] = self.interval_df['savitzky_golay'].diff().fillna(0)\n"
     ]
    },
    {
     "name": "stdout",
     "output_type": "stream",
     "text": [
      "Saved phenology_df to base/polygon_1186\\phenology_df.csv\n",
      "Saved df_01 to base/polygon_1186\\data_base.csv\n",
      "1187 199\n"
     ]
    },
    {
     "name": "stderr",
     "output_type": "stream",
     "text": [
      "c:\\Users\\ander\\OneDrive\\Área de Trabalho\\msu\\phenologic_metrics\\src\\controllers\\metrics_bos_eso.py:37: SettingWithCopyWarning: \n",
      "A value is trying to be set on a copy of a slice from a DataFrame.\n",
      "Try using .loc[row_indexer,col_indexer] = value instead\n",
      "\n",
      "See the caveats in the documentation: https://pandas.pydata.org/pandas-docs/stable/user_guide/indexing.html#returning-a-view-versus-a-copy\n",
      "  self.interval_df['first_derivative'] = self.interval_df['savitzky_golay'].diff().fillna(0)\n"
     ]
    },
    {
     "name": "stdout",
     "output_type": "stream",
     "text": [
      "Saved phenology_df to base/polygon_1187\\phenology_df.csv\n",
      "Saved df_01 to base/polygon_1187\\data_base.csv\n",
      "1188 200\n"
     ]
    },
    {
     "name": "stderr",
     "output_type": "stream",
     "text": [
      "c:\\Users\\ander\\OneDrive\\Área de Trabalho\\msu\\phenologic_metrics\\src\\controllers\\metrics_bos_eso.py:37: SettingWithCopyWarning: \n",
      "A value is trying to be set on a copy of a slice from a DataFrame.\n",
      "Try using .loc[row_indexer,col_indexer] = value instead\n",
      "\n",
      "See the caveats in the documentation: https://pandas.pydata.org/pandas-docs/stable/user_guide/indexing.html#returning-a-view-versus-a-copy\n",
      "  self.interval_df['first_derivative'] = self.interval_df['savitzky_golay'].diff().fillna(0)\n"
     ]
    },
    {
     "name": "stdout",
     "output_type": "stream",
     "text": [
      "Saved phenology_df to base/polygon_1188\\phenology_df.csv\n",
      "Saved df_01 to base/polygon_1188\\data_base.csv\n",
      "1189 201\n"
     ]
    },
    {
     "name": "stderr",
     "output_type": "stream",
     "text": [
      "c:\\Users\\ander\\OneDrive\\Área de Trabalho\\msu\\phenologic_metrics\\src\\controllers\\metrics_bos_eso.py:37: SettingWithCopyWarning: \n",
      "A value is trying to be set on a copy of a slice from a DataFrame.\n",
      "Try using .loc[row_indexer,col_indexer] = value instead\n",
      "\n",
      "See the caveats in the documentation: https://pandas.pydata.org/pandas-docs/stable/user_guide/indexing.html#returning-a-view-versus-a-copy\n",
      "  self.interval_df['first_derivative'] = self.interval_df['savitzky_golay'].diff().fillna(0)\n"
     ]
    },
    {
     "name": "stdout",
     "output_type": "stream",
     "text": [
      "Saved phenology_df to base/polygon_1189\\phenology_df.csv\n",
      "Saved df_01 to base/polygon_1189\\data_base.csv\n",
      "1190 202\n"
     ]
    },
    {
     "name": "stderr",
     "output_type": "stream",
     "text": [
      "c:\\Users\\ander\\OneDrive\\Área de Trabalho\\msu\\phenologic_metrics\\src\\controllers\\metrics_bos_eso.py:37: SettingWithCopyWarning: \n",
      "A value is trying to be set on a copy of a slice from a DataFrame.\n",
      "Try using .loc[row_indexer,col_indexer] = value instead\n",
      "\n",
      "See the caveats in the documentation: https://pandas.pydata.org/pandas-docs/stable/user_guide/indexing.html#returning-a-view-versus-a-copy\n",
      "  self.interval_df['first_derivative'] = self.interval_df['savitzky_golay'].diff().fillna(0)\n"
     ]
    },
    {
     "name": "stdout",
     "output_type": "stream",
     "text": [
      "Saved phenology_df to base/polygon_1190\\phenology_df.csv\n",
      "Saved df_01 to base/polygon_1190\\data_base.csv\n",
      "1191 203\n"
     ]
    },
    {
     "name": "stderr",
     "output_type": "stream",
     "text": [
      "c:\\Users\\ander\\OneDrive\\Área de Trabalho\\msu\\phenologic_metrics\\src\\controllers\\metrics_bos_eso.py:37: SettingWithCopyWarning: \n",
      "A value is trying to be set on a copy of a slice from a DataFrame.\n",
      "Try using .loc[row_indexer,col_indexer] = value instead\n",
      "\n",
      "See the caveats in the documentation: https://pandas.pydata.org/pandas-docs/stable/user_guide/indexing.html#returning-a-view-versus-a-copy\n",
      "  self.interval_df['first_derivative'] = self.interval_df['savitzky_golay'].diff().fillna(0)\n"
     ]
    },
    {
     "name": "stdout",
     "output_type": "stream",
     "text": [
      "Saved phenology_df to base/polygon_1191\\phenology_df.csv\n",
      "Saved df_01 to base/polygon_1191\\data_base.csv\n",
      "1192 204\n"
     ]
    },
    {
     "name": "stderr",
     "output_type": "stream",
     "text": [
      "c:\\Users\\ander\\OneDrive\\Área de Trabalho\\msu\\phenologic_metrics\\src\\controllers\\metrics_bos_eso.py:37: SettingWithCopyWarning: \n",
      "A value is trying to be set on a copy of a slice from a DataFrame.\n",
      "Try using .loc[row_indexer,col_indexer] = value instead\n",
      "\n",
      "See the caveats in the documentation: https://pandas.pydata.org/pandas-docs/stable/user_guide/indexing.html#returning-a-view-versus-a-copy\n",
      "  self.interval_df['first_derivative'] = self.interval_df['savitzky_golay'].diff().fillna(0)\n"
     ]
    },
    {
     "name": "stdout",
     "output_type": "stream",
     "text": [
      "Saved phenology_df to base/polygon_1192\\phenology_df.csv\n",
      "Saved df_01 to base/polygon_1192\\data_base.csv\n",
      "1193 205\n"
     ]
    },
    {
     "name": "stderr",
     "output_type": "stream",
     "text": [
      "c:\\Users\\ander\\OneDrive\\Área de Trabalho\\msu\\phenologic_metrics\\src\\controllers\\metrics_bos_eso.py:37: SettingWithCopyWarning: \n",
      "A value is trying to be set on a copy of a slice from a DataFrame.\n",
      "Try using .loc[row_indexer,col_indexer] = value instead\n",
      "\n",
      "See the caveats in the documentation: https://pandas.pydata.org/pandas-docs/stable/user_guide/indexing.html#returning-a-view-versus-a-copy\n",
      "  self.interval_df['first_derivative'] = self.interval_df['savitzky_golay'].diff().fillna(0)\n"
     ]
    },
    {
     "name": "stdout",
     "output_type": "stream",
     "text": [
      "Saved phenology_df to base/polygon_1193\\phenology_df.csv\n",
      "Saved df_01 to base/polygon_1193\\data_base.csv\n",
      "1194 206\n"
     ]
    },
    {
     "name": "stderr",
     "output_type": "stream",
     "text": [
      "c:\\Users\\ander\\OneDrive\\Área de Trabalho\\msu\\phenologic_metrics\\src\\controllers\\metrics_bos_eso.py:37: SettingWithCopyWarning: \n",
      "A value is trying to be set on a copy of a slice from a DataFrame.\n",
      "Try using .loc[row_indexer,col_indexer] = value instead\n",
      "\n",
      "See the caveats in the documentation: https://pandas.pydata.org/pandas-docs/stable/user_guide/indexing.html#returning-a-view-versus-a-copy\n",
      "  self.interval_df['first_derivative'] = self.interval_df['savitzky_golay'].diff().fillna(0)\n"
     ]
    },
    {
     "name": "stdout",
     "output_type": "stream",
     "text": [
      "Saved phenology_df to base/polygon_1194\\phenology_df.csv\n",
      "Saved df_01 to base/polygon_1194\\data_base.csv\n",
      "1195 207\n"
     ]
    },
    {
     "name": "stderr",
     "output_type": "stream",
     "text": [
      "c:\\Users\\ander\\OneDrive\\Área de Trabalho\\msu\\phenologic_metrics\\src\\controllers\\metrics_bos_eso.py:37: SettingWithCopyWarning: \n",
      "A value is trying to be set on a copy of a slice from a DataFrame.\n",
      "Try using .loc[row_indexer,col_indexer] = value instead\n",
      "\n",
      "See the caveats in the documentation: https://pandas.pydata.org/pandas-docs/stable/user_guide/indexing.html#returning-a-view-versus-a-copy\n",
      "  self.interval_df['first_derivative'] = self.interval_df['savitzky_golay'].diff().fillna(0)\n"
     ]
    },
    {
     "name": "stdout",
     "output_type": "stream",
     "text": [
      "Saved phenology_df to base/polygon_1195\\phenology_df.csv\n",
      "Saved df_01 to base/polygon_1195\\data_base.csv\n",
      "1196 208\n"
     ]
    },
    {
     "name": "stderr",
     "output_type": "stream",
     "text": [
      "c:\\Users\\ander\\OneDrive\\Área de Trabalho\\msu\\phenologic_metrics\\src\\controllers\\metrics_bos_eso.py:37: SettingWithCopyWarning: \n",
      "A value is trying to be set on a copy of a slice from a DataFrame.\n",
      "Try using .loc[row_indexer,col_indexer] = value instead\n",
      "\n",
      "See the caveats in the documentation: https://pandas.pydata.org/pandas-docs/stable/user_guide/indexing.html#returning-a-view-versus-a-copy\n",
      "  self.interval_df['first_derivative'] = self.interval_df['savitzky_golay'].diff().fillna(0)\n"
     ]
    },
    {
     "name": "stdout",
     "output_type": "stream",
     "text": [
      "Saved phenology_df to base/polygon_1196\\phenology_df.csv\n",
      "Saved df_01 to base/polygon_1196\\data_base.csv\n",
      "1197 209\n"
     ]
    },
    {
     "name": "stderr",
     "output_type": "stream",
     "text": [
      "c:\\Users\\ander\\OneDrive\\Área de Trabalho\\msu\\phenologic_metrics\\src\\controllers\\metrics_bos_eso.py:37: SettingWithCopyWarning: \n",
      "A value is trying to be set on a copy of a slice from a DataFrame.\n",
      "Try using .loc[row_indexer,col_indexer] = value instead\n",
      "\n",
      "See the caveats in the documentation: https://pandas.pydata.org/pandas-docs/stable/user_guide/indexing.html#returning-a-view-versus-a-copy\n",
      "  self.interval_df['first_derivative'] = self.interval_df['savitzky_golay'].diff().fillna(0)\n"
     ]
    },
    {
     "name": "stdout",
     "output_type": "stream",
     "text": [
      "Saved phenology_df to base/polygon_1197\\phenology_df.csv\n",
      "Saved df_01 to base/polygon_1197\\data_base.csv\n",
      "1198 210\n",
      "1199 211\n"
     ]
    },
    {
     "name": "stderr",
     "output_type": "stream",
     "text": [
      "c:\\Users\\ander\\OneDrive\\Área de Trabalho\\msu\\phenologic_metrics\\src\\controllers\\metrics_bos_eso.py:37: SettingWithCopyWarning: \n",
      "A value is trying to be set on a copy of a slice from a DataFrame.\n",
      "Try using .loc[row_indexer,col_indexer] = value instead\n",
      "\n",
      "See the caveats in the documentation: https://pandas.pydata.org/pandas-docs/stable/user_guide/indexing.html#returning-a-view-versus-a-copy\n",
      "  self.interval_df['first_derivative'] = self.interval_df['savitzky_golay'].diff().fillna(0)\n"
     ]
    },
    {
     "name": "stdout",
     "output_type": "stream",
     "text": [
      "Saved phenology_df to base/polygon_1199\\phenology_df.csv\n",
      "Saved df_01 to base/polygon_1199\\data_base.csv\n",
      "1200 212\n",
      "1201 213\n"
     ]
    },
    {
     "name": "stderr",
     "output_type": "stream",
     "text": [
      "c:\\Users\\ander\\OneDrive\\Área de Trabalho\\msu\\phenologic_metrics\\src\\controllers\\metrics_bos_eso.py:37: SettingWithCopyWarning: \n",
      "A value is trying to be set on a copy of a slice from a DataFrame.\n",
      "Try using .loc[row_indexer,col_indexer] = value instead\n",
      "\n",
      "See the caveats in the documentation: https://pandas.pydata.org/pandas-docs/stable/user_guide/indexing.html#returning-a-view-versus-a-copy\n",
      "  self.interval_df['first_derivative'] = self.interval_df['savitzky_golay'].diff().fillna(0)\n"
     ]
    },
    {
     "name": "stdout",
     "output_type": "stream",
     "text": [
      "Saved phenology_df to base/polygon_1201\\phenology_df.csv\n",
      "Saved df_01 to base/polygon_1201\\data_base.csv\n",
      "1202 214\n"
     ]
    },
    {
     "name": "stderr",
     "output_type": "stream",
     "text": [
      "c:\\Users\\ander\\OneDrive\\Área de Trabalho\\msu\\phenologic_metrics\\src\\controllers\\metrics_bos_eso.py:37: SettingWithCopyWarning: \n",
      "A value is trying to be set on a copy of a slice from a DataFrame.\n",
      "Try using .loc[row_indexer,col_indexer] = value instead\n",
      "\n",
      "See the caveats in the documentation: https://pandas.pydata.org/pandas-docs/stable/user_guide/indexing.html#returning-a-view-versus-a-copy\n",
      "  self.interval_df['first_derivative'] = self.interval_df['savitzky_golay'].diff().fillna(0)\n"
     ]
    },
    {
     "name": "stdout",
     "output_type": "stream",
     "text": [
      "Saved phenology_df to base/polygon_1202\\phenology_df.csv\n",
      "Saved df_01 to base/polygon_1202\\data_base.csv\n",
      "1203 215\n"
     ]
    },
    {
     "name": "stderr",
     "output_type": "stream",
     "text": [
      "c:\\Users\\ander\\OneDrive\\Área de Trabalho\\msu\\phenologic_metrics\\src\\controllers\\metrics_bos_eso.py:37: SettingWithCopyWarning: \n",
      "A value is trying to be set on a copy of a slice from a DataFrame.\n",
      "Try using .loc[row_indexer,col_indexer] = value instead\n",
      "\n",
      "See the caveats in the documentation: https://pandas.pydata.org/pandas-docs/stable/user_guide/indexing.html#returning-a-view-versus-a-copy\n",
      "  self.interval_df['first_derivative'] = self.interval_df['savitzky_golay'].diff().fillna(0)\n"
     ]
    },
    {
     "name": "stdout",
     "output_type": "stream",
     "text": [
      "Saved phenology_df to base/polygon_1203\\phenology_df.csv\n",
      "Saved df_01 to base/polygon_1203\\data_base.csv\n",
      "1204 216\n"
     ]
    },
    {
     "name": "stderr",
     "output_type": "stream",
     "text": [
      "c:\\Users\\ander\\OneDrive\\Área de Trabalho\\msu\\phenologic_metrics\\src\\controllers\\metrics_bos_eso.py:37: SettingWithCopyWarning: \n",
      "A value is trying to be set on a copy of a slice from a DataFrame.\n",
      "Try using .loc[row_indexer,col_indexer] = value instead\n",
      "\n",
      "See the caveats in the documentation: https://pandas.pydata.org/pandas-docs/stable/user_guide/indexing.html#returning-a-view-versus-a-copy\n",
      "  self.interval_df['first_derivative'] = self.interval_df['savitzky_golay'].diff().fillna(0)\n"
     ]
    },
    {
     "name": "stdout",
     "output_type": "stream",
     "text": [
      "Saved phenology_df to base/polygon_1204\\phenology_df.csv\n",
      "Saved df_01 to base/polygon_1204\\data_base.csv\n",
      "1205 217\n",
      "1206 218\n"
     ]
    },
    {
     "name": "stderr",
     "output_type": "stream",
     "text": [
      "c:\\Users\\ander\\OneDrive\\Área de Trabalho\\msu\\phenologic_metrics\\src\\controllers\\metrics_bos_eso.py:37: SettingWithCopyWarning: \n",
      "A value is trying to be set on a copy of a slice from a DataFrame.\n",
      "Try using .loc[row_indexer,col_indexer] = value instead\n",
      "\n",
      "See the caveats in the documentation: https://pandas.pydata.org/pandas-docs/stable/user_guide/indexing.html#returning-a-view-versus-a-copy\n",
      "  self.interval_df['first_derivative'] = self.interval_df['savitzky_golay'].diff().fillna(0)\n"
     ]
    },
    {
     "name": "stdout",
     "output_type": "stream",
     "text": [
      "Saved phenology_df to base/polygon_1206\\phenology_df.csv\n",
      "Saved df_01 to base/polygon_1206\\data_base.csv\n",
      "1207 219\n"
     ]
    },
    {
     "name": "stderr",
     "output_type": "stream",
     "text": [
      "c:\\Users\\ander\\OneDrive\\Área de Trabalho\\msu\\phenologic_metrics\\src\\controllers\\metrics_bos_eso.py:37: SettingWithCopyWarning: \n",
      "A value is trying to be set on a copy of a slice from a DataFrame.\n",
      "Try using .loc[row_indexer,col_indexer] = value instead\n",
      "\n",
      "See the caveats in the documentation: https://pandas.pydata.org/pandas-docs/stable/user_guide/indexing.html#returning-a-view-versus-a-copy\n",
      "  self.interval_df['first_derivative'] = self.interval_df['savitzky_golay'].diff().fillna(0)\n"
     ]
    },
    {
     "name": "stdout",
     "output_type": "stream",
     "text": [
      "Saved phenology_df to base/polygon_1207\\phenology_df.csv\n",
      "Saved df_01 to base/polygon_1207\\data_base.csv\n",
      "1210 220\n",
      "1211 221\n"
     ]
    },
    {
     "name": "stderr",
     "output_type": "stream",
     "text": [
      "c:\\Users\\ander\\OneDrive\\Área de Trabalho\\msu\\phenologic_metrics\\src\\controllers\\metrics_bos_eso.py:37: SettingWithCopyWarning: \n",
      "A value is trying to be set on a copy of a slice from a DataFrame.\n",
      "Try using .loc[row_indexer,col_indexer] = value instead\n",
      "\n",
      "See the caveats in the documentation: https://pandas.pydata.org/pandas-docs/stable/user_guide/indexing.html#returning-a-view-versus-a-copy\n",
      "  self.interval_df['first_derivative'] = self.interval_df['savitzky_golay'].diff().fillna(0)\n"
     ]
    },
    {
     "name": "stdout",
     "output_type": "stream",
     "text": [
      "Saved phenology_df to base/polygon_1211\\phenology_df.csv\n",
      "Saved df_01 to base/polygon_1211\\data_base.csv\n",
      "1212 222\n"
     ]
    },
    {
     "name": "stderr",
     "output_type": "stream",
     "text": [
      "c:\\Users\\ander\\OneDrive\\Área de Trabalho\\msu\\phenologic_metrics\\src\\controllers\\metrics_bos_eso.py:37: SettingWithCopyWarning: \n",
      "A value is trying to be set on a copy of a slice from a DataFrame.\n",
      "Try using .loc[row_indexer,col_indexer] = value instead\n",
      "\n",
      "See the caveats in the documentation: https://pandas.pydata.org/pandas-docs/stable/user_guide/indexing.html#returning-a-view-versus-a-copy\n",
      "  self.interval_df['first_derivative'] = self.interval_df['savitzky_golay'].diff().fillna(0)\n"
     ]
    },
    {
     "name": "stdout",
     "output_type": "stream",
     "text": [
      "Saved phenology_df to base/polygon_1212\\phenology_df.csv\n",
      "Saved df_01 to base/polygon_1212\\data_base.csv\n",
      "1214 223\n"
     ]
    },
    {
     "name": "stderr",
     "output_type": "stream",
     "text": [
      "c:\\Users\\ander\\OneDrive\\Área de Trabalho\\msu\\phenologic_metrics\\src\\controllers\\metrics_bos_eso.py:37: SettingWithCopyWarning: \n",
      "A value is trying to be set on a copy of a slice from a DataFrame.\n",
      "Try using .loc[row_indexer,col_indexer] = value instead\n",
      "\n",
      "See the caveats in the documentation: https://pandas.pydata.org/pandas-docs/stable/user_guide/indexing.html#returning-a-view-versus-a-copy\n",
      "  self.interval_df['first_derivative'] = self.interval_df['savitzky_golay'].diff().fillna(0)\n"
     ]
    },
    {
     "name": "stdout",
     "output_type": "stream",
     "text": [
      "Saved phenology_df to base/polygon_1214\\phenology_df.csv\n",
      "Saved df_01 to base/polygon_1214\\data_base.csv\n",
      "1215 224\n"
     ]
    },
    {
     "name": "stderr",
     "output_type": "stream",
     "text": [
      "c:\\Users\\ander\\OneDrive\\Área de Trabalho\\msu\\phenologic_metrics\\src\\controllers\\metrics_bos_eso.py:37: SettingWithCopyWarning: \n",
      "A value is trying to be set on a copy of a slice from a DataFrame.\n",
      "Try using .loc[row_indexer,col_indexer] = value instead\n",
      "\n",
      "See the caveats in the documentation: https://pandas.pydata.org/pandas-docs/stable/user_guide/indexing.html#returning-a-view-versus-a-copy\n",
      "  self.interval_df['first_derivative'] = self.interval_df['savitzky_golay'].diff().fillna(0)\n"
     ]
    },
    {
     "name": "stdout",
     "output_type": "stream",
     "text": [
      "Saved phenology_df to base/polygon_1215\\phenology_df.csv\n",
      "Saved df_01 to base/polygon_1215\\data_base.csv\n",
      "1216 225\n"
     ]
    },
    {
     "name": "stderr",
     "output_type": "stream",
     "text": [
      "c:\\Users\\ander\\OneDrive\\Área de Trabalho\\msu\\phenologic_metrics\\src\\controllers\\metrics_bos_eso.py:37: SettingWithCopyWarning: \n",
      "A value is trying to be set on a copy of a slice from a DataFrame.\n",
      "Try using .loc[row_indexer,col_indexer] = value instead\n",
      "\n",
      "See the caveats in the documentation: https://pandas.pydata.org/pandas-docs/stable/user_guide/indexing.html#returning-a-view-versus-a-copy\n",
      "  self.interval_df['first_derivative'] = self.interval_df['savitzky_golay'].diff().fillna(0)\n"
     ]
    },
    {
     "name": "stdout",
     "output_type": "stream",
     "text": [
      "Saved phenology_df to base/polygon_1216\\phenology_df.csv\n",
      "Saved df_01 to base/polygon_1216\\data_base.csv\n",
      "1217 226\n"
     ]
    },
    {
     "name": "stderr",
     "output_type": "stream",
     "text": [
      "c:\\Users\\ander\\OneDrive\\Área de Trabalho\\msu\\phenologic_metrics\\src\\controllers\\metrics_bos_eso.py:37: SettingWithCopyWarning: \n",
      "A value is trying to be set on a copy of a slice from a DataFrame.\n",
      "Try using .loc[row_indexer,col_indexer] = value instead\n",
      "\n",
      "See the caveats in the documentation: https://pandas.pydata.org/pandas-docs/stable/user_guide/indexing.html#returning-a-view-versus-a-copy\n",
      "  self.interval_df['first_derivative'] = self.interval_df['savitzky_golay'].diff().fillna(0)\n"
     ]
    },
    {
     "name": "stdout",
     "output_type": "stream",
     "text": [
      "Saved phenology_df to base/polygon_1217\\phenology_df.csv\n",
      "Saved df_01 to base/polygon_1217\\data_base.csv\n",
      "1218 227\n"
     ]
    },
    {
     "name": "stderr",
     "output_type": "stream",
     "text": [
      "c:\\Users\\ander\\OneDrive\\Área de Trabalho\\msu\\phenologic_metrics\\src\\controllers\\metrics_bos_eso.py:37: SettingWithCopyWarning: \n",
      "A value is trying to be set on a copy of a slice from a DataFrame.\n",
      "Try using .loc[row_indexer,col_indexer] = value instead\n",
      "\n",
      "See the caveats in the documentation: https://pandas.pydata.org/pandas-docs/stable/user_guide/indexing.html#returning-a-view-versus-a-copy\n",
      "  self.interval_df['first_derivative'] = self.interval_df['savitzky_golay'].diff().fillna(0)\n"
     ]
    },
    {
     "name": "stdout",
     "output_type": "stream",
     "text": [
      "Saved phenology_df to base/polygon_1218\\phenology_df.csv\n",
      "Saved df_01 to base/polygon_1218\\data_base.csv\n",
      "1219 228\n"
     ]
    },
    {
     "name": "stderr",
     "output_type": "stream",
     "text": [
      "c:\\Users\\ander\\OneDrive\\Área de Trabalho\\msu\\phenologic_metrics\\src\\controllers\\metrics_bos_eso.py:37: SettingWithCopyWarning: \n",
      "A value is trying to be set on a copy of a slice from a DataFrame.\n",
      "Try using .loc[row_indexer,col_indexer] = value instead\n",
      "\n",
      "See the caveats in the documentation: https://pandas.pydata.org/pandas-docs/stable/user_guide/indexing.html#returning-a-view-versus-a-copy\n",
      "  self.interval_df['first_derivative'] = self.interval_df['savitzky_golay'].diff().fillna(0)\n"
     ]
    },
    {
     "name": "stdout",
     "output_type": "stream",
     "text": [
      "Saved phenology_df to base/polygon_1219\\phenology_df.csv\n",
      "Saved df_01 to base/polygon_1219\\data_base.csv\n",
      "1220 229\n"
     ]
    },
    {
     "name": "stderr",
     "output_type": "stream",
     "text": [
      "c:\\Users\\ander\\OneDrive\\Área de Trabalho\\msu\\phenologic_metrics\\src\\controllers\\metrics_bos_eso.py:37: SettingWithCopyWarning: \n",
      "A value is trying to be set on a copy of a slice from a DataFrame.\n",
      "Try using .loc[row_indexer,col_indexer] = value instead\n",
      "\n",
      "See the caveats in the documentation: https://pandas.pydata.org/pandas-docs/stable/user_guide/indexing.html#returning-a-view-versus-a-copy\n",
      "  self.interval_df['first_derivative'] = self.interval_df['savitzky_golay'].diff().fillna(0)\n"
     ]
    },
    {
     "name": "stdout",
     "output_type": "stream",
     "text": [
      "Saved phenology_df to base/polygon_1220\\phenology_df.csv\n",
      "Saved df_01 to base/polygon_1220\\data_base.csv\n",
      "1221 230\n"
     ]
    },
    {
     "name": "stderr",
     "output_type": "stream",
     "text": [
      "c:\\Users\\ander\\OneDrive\\Área de Trabalho\\msu\\phenologic_metrics\\src\\controllers\\metrics_bos_eso.py:37: SettingWithCopyWarning: \n",
      "A value is trying to be set on a copy of a slice from a DataFrame.\n",
      "Try using .loc[row_indexer,col_indexer] = value instead\n",
      "\n",
      "See the caveats in the documentation: https://pandas.pydata.org/pandas-docs/stable/user_guide/indexing.html#returning-a-view-versus-a-copy\n",
      "  self.interval_df['first_derivative'] = self.interval_df['savitzky_golay'].diff().fillna(0)\n"
     ]
    },
    {
     "name": "stdout",
     "output_type": "stream",
     "text": [
      "Saved phenology_df to base/polygon_1221\\phenology_df.csv\n",
      "Saved df_01 to base/polygon_1221\\data_base.csv\n",
      "1222 231\n"
     ]
    },
    {
     "name": "stderr",
     "output_type": "stream",
     "text": [
      "c:\\Users\\ander\\OneDrive\\Área de Trabalho\\msu\\phenologic_metrics\\src\\controllers\\metrics_bos_eso.py:37: SettingWithCopyWarning: \n",
      "A value is trying to be set on a copy of a slice from a DataFrame.\n",
      "Try using .loc[row_indexer,col_indexer] = value instead\n",
      "\n",
      "See the caveats in the documentation: https://pandas.pydata.org/pandas-docs/stable/user_guide/indexing.html#returning-a-view-versus-a-copy\n",
      "  self.interval_df['first_derivative'] = self.interval_df['savitzky_golay'].diff().fillna(0)\n"
     ]
    },
    {
     "name": "stdout",
     "output_type": "stream",
     "text": [
      "Saved phenology_df to base/polygon_1222\\phenology_df.csv\n",
      "Saved df_01 to base/polygon_1222\\data_base.csv\n",
      "1223 232\n"
     ]
    },
    {
     "name": "stderr",
     "output_type": "stream",
     "text": [
      "c:\\Users\\ander\\OneDrive\\Área de Trabalho\\msu\\phenologic_metrics\\src\\controllers\\metrics_bos_eso.py:37: SettingWithCopyWarning: \n",
      "A value is trying to be set on a copy of a slice from a DataFrame.\n",
      "Try using .loc[row_indexer,col_indexer] = value instead\n",
      "\n",
      "See the caveats in the documentation: https://pandas.pydata.org/pandas-docs/stable/user_guide/indexing.html#returning-a-view-versus-a-copy\n",
      "  self.interval_df['first_derivative'] = self.interval_df['savitzky_golay'].diff().fillna(0)\n"
     ]
    },
    {
     "name": "stdout",
     "output_type": "stream",
     "text": [
      "Saved phenology_df to base/polygon_1223\\phenology_df.csv\n",
      "Saved df_01 to base/polygon_1223\\data_base.csv\n",
      "1224 233\n"
     ]
    },
    {
     "name": "stderr",
     "output_type": "stream",
     "text": [
      "c:\\Users\\ander\\OneDrive\\Área de Trabalho\\msu\\phenologic_metrics\\src\\controllers\\metrics_bos_eso.py:37: SettingWithCopyWarning: \n",
      "A value is trying to be set on a copy of a slice from a DataFrame.\n",
      "Try using .loc[row_indexer,col_indexer] = value instead\n",
      "\n",
      "See the caveats in the documentation: https://pandas.pydata.org/pandas-docs/stable/user_guide/indexing.html#returning-a-view-versus-a-copy\n",
      "  self.interval_df['first_derivative'] = self.interval_df['savitzky_golay'].diff().fillna(0)\n"
     ]
    },
    {
     "name": "stdout",
     "output_type": "stream",
     "text": [
      "Saved phenology_df to base/polygon_1224\\phenology_df.csv\n",
      "Saved df_01 to base/polygon_1224\\data_base.csv\n",
      "1225 234\n"
     ]
    },
    {
     "name": "stderr",
     "output_type": "stream",
     "text": [
      "c:\\Users\\ander\\OneDrive\\Área de Trabalho\\msu\\phenologic_metrics\\src\\controllers\\metrics_bos_eso.py:37: SettingWithCopyWarning: \n",
      "A value is trying to be set on a copy of a slice from a DataFrame.\n",
      "Try using .loc[row_indexer,col_indexer] = value instead\n",
      "\n",
      "See the caveats in the documentation: https://pandas.pydata.org/pandas-docs/stable/user_guide/indexing.html#returning-a-view-versus-a-copy\n",
      "  self.interval_df['first_derivative'] = self.interval_df['savitzky_golay'].diff().fillna(0)\n"
     ]
    },
    {
     "name": "stdout",
     "output_type": "stream",
     "text": [
      "Saved phenology_df to base/polygon_1225\\phenology_df.csv\n",
      "Saved df_01 to base/polygon_1225\\data_base.csv\n",
      "1226 235\n"
     ]
    },
    {
     "name": "stderr",
     "output_type": "stream",
     "text": [
      "c:\\Users\\ander\\OneDrive\\Área de Trabalho\\msu\\phenologic_metrics\\src\\controllers\\metrics_bos_eso.py:37: SettingWithCopyWarning: \n",
      "A value is trying to be set on a copy of a slice from a DataFrame.\n",
      "Try using .loc[row_indexer,col_indexer] = value instead\n",
      "\n",
      "See the caveats in the documentation: https://pandas.pydata.org/pandas-docs/stable/user_guide/indexing.html#returning-a-view-versus-a-copy\n",
      "  self.interval_df['first_derivative'] = self.interval_df['savitzky_golay'].diff().fillna(0)\n"
     ]
    },
    {
     "name": "stdout",
     "output_type": "stream",
     "text": [
      "Saved phenology_df to base/polygon_1226\\phenology_df.csv\n",
      "Saved df_01 to base/polygon_1226\\data_base.csv\n",
      "1227 236\n"
     ]
    },
    {
     "name": "stderr",
     "output_type": "stream",
     "text": [
      "c:\\Users\\ander\\OneDrive\\Área de Trabalho\\msu\\phenologic_metrics\\src\\controllers\\metrics_bos_eso.py:37: SettingWithCopyWarning: \n",
      "A value is trying to be set on a copy of a slice from a DataFrame.\n",
      "Try using .loc[row_indexer,col_indexer] = value instead\n",
      "\n",
      "See the caveats in the documentation: https://pandas.pydata.org/pandas-docs/stable/user_guide/indexing.html#returning-a-view-versus-a-copy\n",
      "  self.interval_df['first_derivative'] = self.interval_df['savitzky_golay'].diff().fillna(0)\n"
     ]
    },
    {
     "name": "stdout",
     "output_type": "stream",
     "text": [
      "Saved phenology_df to base/polygon_1227\\phenology_df.csv\n",
      "Saved df_01 to base/polygon_1227\\data_base.csv\n",
      "1228 237\n"
     ]
    },
    {
     "name": "stderr",
     "output_type": "stream",
     "text": [
      "c:\\Users\\ander\\OneDrive\\Área de Trabalho\\msu\\phenologic_metrics\\src\\controllers\\metrics_bos_eso.py:37: SettingWithCopyWarning: \n",
      "A value is trying to be set on a copy of a slice from a DataFrame.\n",
      "Try using .loc[row_indexer,col_indexer] = value instead\n",
      "\n",
      "See the caveats in the documentation: https://pandas.pydata.org/pandas-docs/stable/user_guide/indexing.html#returning-a-view-versus-a-copy\n",
      "  self.interval_df['first_derivative'] = self.interval_df['savitzky_golay'].diff().fillna(0)\n"
     ]
    },
    {
     "name": "stdout",
     "output_type": "stream",
     "text": [
      "Saved phenology_df to base/polygon_1228\\phenology_df.csv\n",
      "Saved df_01 to base/polygon_1228\\data_base.csv\n",
      "1230 238\n"
     ]
    },
    {
     "name": "stderr",
     "output_type": "stream",
     "text": [
      "c:\\Users\\ander\\OneDrive\\Área de Trabalho\\msu\\phenologic_metrics\\src\\controllers\\metrics_bos_eso.py:37: SettingWithCopyWarning: \n",
      "A value is trying to be set on a copy of a slice from a DataFrame.\n",
      "Try using .loc[row_indexer,col_indexer] = value instead\n",
      "\n",
      "See the caveats in the documentation: https://pandas.pydata.org/pandas-docs/stable/user_guide/indexing.html#returning-a-view-versus-a-copy\n",
      "  self.interval_df['first_derivative'] = self.interval_df['savitzky_golay'].diff().fillna(0)\n"
     ]
    },
    {
     "name": "stdout",
     "output_type": "stream",
     "text": [
      "Saved phenology_df to base/polygon_1230\\phenology_df.csv\n",
      "Saved df_01 to base/polygon_1230\\data_base.csv\n",
      "1232 239\n"
     ]
    },
    {
     "name": "stderr",
     "output_type": "stream",
     "text": [
      "c:\\Users\\ander\\OneDrive\\Área de Trabalho\\msu\\phenologic_metrics\\src\\controllers\\metrics_bos_eso.py:37: SettingWithCopyWarning: \n",
      "A value is trying to be set on a copy of a slice from a DataFrame.\n",
      "Try using .loc[row_indexer,col_indexer] = value instead\n",
      "\n",
      "See the caveats in the documentation: https://pandas.pydata.org/pandas-docs/stable/user_guide/indexing.html#returning-a-view-versus-a-copy\n",
      "  self.interval_df['first_derivative'] = self.interval_df['savitzky_golay'].diff().fillna(0)\n"
     ]
    },
    {
     "name": "stdout",
     "output_type": "stream",
     "text": [
      "Saved phenology_df to base/polygon_1232\\phenology_df.csv\n",
      "Saved df_01 to base/polygon_1232\\data_base.csv\n",
      "1234 240\n"
     ]
    },
    {
     "name": "stderr",
     "output_type": "stream",
     "text": [
      "c:\\Users\\ander\\OneDrive\\Área de Trabalho\\msu\\phenologic_metrics\\src\\controllers\\metrics_bos_eso.py:37: SettingWithCopyWarning: \n",
      "A value is trying to be set on a copy of a slice from a DataFrame.\n",
      "Try using .loc[row_indexer,col_indexer] = value instead\n",
      "\n",
      "See the caveats in the documentation: https://pandas.pydata.org/pandas-docs/stable/user_guide/indexing.html#returning-a-view-versus-a-copy\n",
      "  self.interval_df['first_derivative'] = self.interval_df['savitzky_golay'].diff().fillna(0)\n"
     ]
    },
    {
     "name": "stdout",
     "output_type": "stream",
     "text": [
      "Saved phenology_df to base/polygon_1234\\phenology_df.csv\n",
      "Saved df_01 to base/polygon_1234\\data_base.csv\n",
      "1235 241\n"
     ]
    },
    {
     "name": "stderr",
     "output_type": "stream",
     "text": [
      "c:\\Users\\ander\\OneDrive\\Área de Trabalho\\msu\\phenologic_metrics\\src\\controllers\\metrics_bos_eso.py:37: SettingWithCopyWarning: \n",
      "A value is trying to be set on a copy of a slice from a DataFrame.\n",
      "Try using .loc[row_indexer,col_indexer] = value instead\n",
      "\n",
      "See the caveats in the documentation: https://pandas.pydata.org/pandas-docs/stable/user_guide/indexing.html#returning-a-view-versus-a-copy\n",
      "  self.interval_df['first_derivative'] = self.interval_df['savitzky_golay'].diff().fillna(0)\n"
     ]
    },
    {
     "name": "stdout",
     "output_type": "stream",
     "text": [
      "Saved phenology_df to base/polygon_1235\\phenology_df.csv\n",
      "Saved df_01 to base/polygon_1235\\data_base.csv\n",
      "1236 242\n"
     ]
    },
    {
     "name": "stderr",
     "output_type": "stream",
     "text": [
      "c:\\Users\\ander\\OneDrive\\Área de Trabalho\\msu\\phenologic_metrics\\src\\controllers\\metrics_bos_eso.py:37: SettingWithCopyWarning: \n",
      "A value is trying to be set on a copy of a slice from a DataFrame.\n",
      "Try using .loc[row_indexer,col_indexer] = value instead\n",
      "\n",
      "See the caveats in the documentation: https://pandas.pydata.org/pandas-docs/stable/user_guide/indexing.html#returning-a-view-versus-a-copy\n",
      "  self.interval_df['first_derivative'] = self.interval_df['savitzky_golay'].diff().fillna(0)\n"
     ]
    },
    {
     "name": "stdout",
     "output_type": "stream",
     "text": [
      "Saved phenology_df to base/polygon_1236\\phenology_df.csv\n",
      "Saved df_01 to base/polygon_1236\\data_base.csv\n",
      "1237 243\n"
     ]
    },
    {
     "name": "stderr",
     "output_type": "stream",
     "text": [
      "c:\\Users\\ander\\OneDrive\\Área de Trabalho\\msu\\phenologic_metrics\\src\\controllers\\metrics_bos_eso.py:37: SettingWithCopyWarning: \n",
      "A value is trying to be set on a copy of a slice from a DataFrame.\n",
      "Try using .loc[row_indexer,col_indexer] = value instead\n",
      "\n",
      "See the caveats in the documentation: https://pandas.pydata.org/pandas-docs/stable/user_guide/indexing.html#returning-a-view-versus-a-copy\n",
      "  self.interval_df['first_derivative'] = self.interval_df['savitzky_golay'].diff().fillna(0)\n"
     ]
    },
    {
     "name": "stdout",
     "output_type": "stream",
     "text": [
      "Saved phenology_df to base/polygon_1237\\phenology_df.csv\n",
      "Saved df_01 to base/polygon_1237\\data_base.csv\n",
      "1238 244\n"
     ]
    },
    {
     "name": "stderr",
     "output_type": "stream",
     "text": [
      "c:\\Users\\ander\\OneDrive\\Área de Trabalho\\msu\\phenologic_metrics\\src\\controllers\\metrics_bos_eso.py:37: SettingWithCopyWarning: \n",
      "A value is trying to be set on a copy of a slice from a DataFrame.\n",
      "Try using .loc[row_indexer,col_indexer] = value instead\n",
      "\n",
      "See the caveats in the documentation: https://pandas.pydata.org/pandas-docs/stable/user_guide/indexing.html#returning-a-view-versus-a-copy\n",
      "  self.interval_df['first_derivative'] = self.interval_df['savitzky_golay'].diff().fillna(0)\n"
     ]
    },
    {
     "name": "stdout",
     "output_type": "stream",
     "text": [
      "Saved phenology_df to base/polygon_1238\\phenology_df.csv\n",
      "Saved df_01 to base/polygon_1238\\data_base.csv\n",
      "1239 245\n"
     ]
    },
    {
     "name": "stderr",
     "output_type": "stream",
     "text": [
      "c:\\Users\\ander\\OneDrive\\Área de Trabalho\\msu\\phenologic_metrics\\src\\controllers\\metrics_bos_eso.py:37: SettingWithCopyWarning: \n",
      "A value is trying to be set on a copy of a slice from a DataFrame.\n",
      "Try using .loc[row_indexer,col_indexer] = value instead\n",
      "\n",
      "See the caveats in the documentation: https://pandas.pydata.org/pandas-docs/stable/user_guide/indexing.html#returning-a-view-versus-a-copy\n",
      "  self.interval_df['first_derivative'] = self.interval_df['savitzky_golay'].diff().fillna(0)\n"
     ]
    },
    {
     "name": "stdout",
     "output_type": "stream",
     "text": [
      "Saved phenology_df to base/polygon_1239\\phenology_df.csv\n",
      "Saved df_01 to base/polygon_1239\\data_base.csv\n",
      "1240 246\n"
     ]
    },
    {
     "name": "stderr",
     "output_type": "stream",
     "text": [
      "c:\\Users\\ander\\OneDrive\\Área de Trabalho\\msu\\phenologic_metrics\\src\\controllers\\metrics_bos_eso.py:37: SettingWithCopyWarning: \n",
      "A value is trying to be set on a copy of a slice from a DataFrame.\n",
      "Try using .loc[row_indexer,col_indexer] = value instead\n",
      "\n",
      "See the caveats in the documentation: https://pandas.pydata.org/pandas-docs/stable/user_guide/indexing.html#returning-a-view-versus-a-copy\n",
      "  self.interval_df['first_derivative'] = self.interval_df['savitzky_golay'].diff().fillna(0)\n"
     ]
    },
    {
     "name": "stdout",
     "output_type": "stream",
     "text": [
      "Saved phenology_df to base/polygon_1240\\phenology_df.csv\n",
      "Saved df_01 to base/polygon_1240\\data_base.csv\n",
      "1241 247\n"
     ]
    },
    {
     "name": "stderr",
     "output_type": "stream",
     "text": [
      "c:\\Users\\ander\\OneDrive\\Área de Trabalho\\msu\\phenologic_metrics\\src\\controllers\\metrics_bos_eso.py:37: SettingWithCopyWarning: \n",
      "A value is trying to be set on a copy of a slice from a DataFrame.\n",
      "Try using .loc[row_indexer,col_indexer] = value instead\n",
      "\n",
      "See the caveats in the documentation: https://pandas.pydata.org/pandas-docs/stable/user_guide/indexing.html#returning-a-view-versus-a-copy\n",
      "  self.interval_df['first_derivative'] = self.interval_df['savitzky_golay'].diff().fillna(0)\n"
     ]
    },
    {
     "name": "stdout",
     "output_type": "stream",
     "text": [
      "Saved phenology_df to base/polygon_1241\\phenology_df.csv\n",
      "Saved df_01 to base/polygon_1241\\data_base.csv\n",
      "1242 248\n"
     ]
    },
    {
     "name": "stderr",
     "output_type": "stream",
     "text": [
      "c:\\Users\\ander\\OneDrive\\Área de Trabalho\\msu\\phenologic_metrics\\src\\controllers\\metrics_bos_eso.py:37: SettingWithCopyWarning: \n",
      "A value is trying to be set on a copy of a slice from a DataFrame.\n",
      "Try using .loc[row_indexer,col_indexer] = value instead\n",
      "\n",
      "See the caveats in the documentation: https://pandas.pydata.org/pandas-docs/stable/user_guide/indexing.html#returning-a-view-versus-a-copy\n",
      "  self.interval_df['first_derivative'] = self.interval_df['savitzky_golay'].diff().fillna(0)\n"
     ]
    },
    {
     "name": "stdout",
     "output_type": "stream",
     "text": [
      "Saved phenology_df to base/polygon_1242\\phenology_df.csv\n",
      "Saved df_01 to base/polygon_1242\\data_base.csv\n",
      "1243 249\n"
     ]
    },
    {
     "name": "stderr",
     "output_type": "stream",
     "text": [
      "c:\\Users\\ander\\OneDrive\\Área de Trabalho\\msu\\phenologic_metrics\\src\\controllers\\metrics_bos_eso.py:37: SettingWithCopyWarning: \n",
      "A value is trying to be set on a copy of a slice from a DataFrame.\n",
      "Try using .loc[row_indexer,col_indexer] = value instead\n",
      "\n",
      "See the caveats in the documentation: https://pandas.pydata.org/pandas-docs/stable/user_guide/indexing.html#returning-a-view-versus-a-copy\n",
      "  self.interval_df['first_derivative'] = self.interval_df['savitzky_golay'].diff().fillna(0)\n"
     ]
    },
    {
     "name": "stdout",
     "output_type": "stream",
     "text": [
      "Saved phenology_df to base/polygon_1243\\phenology_df.csv\n",
      "Saved df_01 to base/polygon_1243\\data_base.csv\n",
      "1244 250\n"
     ]
    },
    {
     "name": "stderr",
     "output_type": "stream",
     "text": [
      "c:\\Users\\ander\\OneDrive\\Área de Trabalho\\msu\\phenologic_metrics\\src\\controllers\\metrics_bos_eso.py:37: SettingWithCopyWarning: \n",
      "A value is trying to be set on a copy of a slice from a DataFrame.\n",
      "Try using .loc[row_indexer,col_indexer] = value instead\n",
      "\n",
      "See the caveats in the documentation: https://pandas.pydata.org/pandas-docs/stable/user_guide/indexing.html#returning-a-view-versus-a-copy\n",
      "  self.interval_df['first_derivative'] = self.interval_df['savitzky_golay'].diff().fillna(0)\n"
     ]
    },
    {
     "name": "stdout",
     "output_type": "stream",
     "text": [
      "Saved phenology_df to base/polygon_1244\\phenology_df.csv\n",
      "Saved df_01 to base/polygon_1244\\data_base.csv\n",
      "1247 251\n"
     ]
    },
    {
     "name": "stderr",
     "output_type": "stream",
     "text": [
      "c:\\Users\\ander\\OneDrive\\Área de Trabalho\\msu\\phenologic_metrics\\src\\controllers\\metrics_bos_eso.py:37: SettingWithCopyWarning: \n",
      "A value is trying to be set on a copy of a slice from a DataFrame.\n",
      "Try using .loc[row_indexer,col_indexer] = value instead\n",
      "\n",
      "See the caveats in the documentation: https://pandas.pydata.org/pandas-docs/stable/user_guide/indexing.html#returning-a-view-versus-a-copy\n",
      "  self.interval_df['first_derivative'] = self.interval_df['savitzky_golay'].diff().fillna(0)\n"
     ]
    },
    {
     "name": "stdout",
     "output_type": "stream",
     "text": [
      "Saved phenology_df to base/polygon_1247\\phenology_df.csv\n",
      "Saved df_01 to base/polygon_1247\\data_base.csv\n",
      "1248 252\n"
     ]
    },
    {
     "name": "stderr",
     "output_type": "stream",
     "text": [
      "c:\\Users\\ander\\OneDrive\\Área de Trabalho\\msu\\phenologic_metrics\\src\\controllers\\metrics_bos_eso.py:37: SettingWithCopyWarning: \n",
      "A value is trying to be set on a copy of a slice from a DataFrame.\n",
      "Try using .loc[row_indexer,col_indexer] = value instead\n",
      "\n",
      "See the caveats in the documentation: https://pandas.pydata.org/pandas-docs/stable/user_guide/indexing.html#returning-a-view-versus-a-copy\n",
      "  self.interval_df['first_derivative'] = self.interval_df['savitzky_golay'].diff().fillna(0)\n"
     ]
    },
    {
     "name": "stdout",
     "output_type": "stream",
     "text": [
      "Saved phenology_df to base/polygon_1248\\phenology_df.csv\n",
      "Saved df_01 to base/polygon_1248\\data_base.csv\n",
      "1249 253\n"
     ]
    },
    {
     "name": "stderr",
     "output_type": "stream",
     "text": [
      "c:\\Users\\ander\\OneDrive\\Área de Trabalho\\msu\\phenologic_metrics\\src\\controllers\\metrics_bos_eso.py:37: SettingWithCopyWarning: \n",
      "A value is trying to be set on a copy of a slice from a DataFrame.\n",
      "Try using .loc[row_indexer,col_indexer] = value instead\n",
      "\n",
      "See the caveats in the documentation: https://pandas.pydata.org/pandas-docs/stable/user_guide/indexing.html#returning-a-view-versus-a-copy\n",
      "  self.interval_df['first_derivative'] = self.interval_df['savitzky_golay'].diff().fillna(0)\n"
     ]
    },
    {
     "name": "stdout",
     "output_type": "stream",
     "text": [
      "Saved phenology_df to base/polygon_1249\\phenology_df.csv\n",
      "Saved df_01 to base/polygon_1249\\data_base.csv\n",
      "1250 254\n"
     ]
    },
    {
     "name": "stderr",
     "output_type": "stream",
     "text": [
      "c:\\Users\\ander\\OneDrive\\Área de Trabalho\\msu\\phenologic_metrics\\src\\controllers\\metrics_bos_eso.py:37: SettingWithCopyWarning: \n",
      "A value is trying to be set on a copy of a slice from a DataFrame.\n",
      "Try using .loc[row_indexer,col_indexer] = value instead\n",
      "\n",
      "See the caveats in the documentation: https://pandas.pydata.org/pandas-docs/stable/user_guide/indexing.html#returning-a-view-versus-a-copy\n",
      "  self.interval_df['first_derivative'] = self.interval_df['savitzky_golay'].diff().fillna(0)\n"
     ]
    },
    {
     "name": "stdout",
     "output_type": "stream",
     "text": [
      "Saved phenology_df to base/polygon_1250\\phenology_df.csv\n",
      "Saved df_01 to base/polygon_1250\\data_base.csv\n",
      "1251 255\n"
     ]
    },
    {
     "name": "stderr",
     "output_type": "stream",
     "text": [
      "c:\\Users\\ander\\OneDrive\\Área de Trabalho\\msu\\phenologic_metrics\\src\\controllers\\metrics_bos_eso.py:37: SettingWithCopyWarning: \n",
      "A value is trying to be set on a copy of a slice from a DataFrame.\n",
      "Try using .loc[row_indexer,col_indexer] = value instead\n",
      "\n",
      "See the caveats in the documentation: https://pandas.pydata.org/pandas-docs/stable/user_guide/indexing.html#returning-a-view-versus-a-copy\n",
      "  self.interval_df['first_derivative'] = self.interval_df['savitzky_golay'].diff().fillna(0)\n"
     ]
    },
    {
     "name": "stdout",
     "output_type": "stream",
     "text": [
      "Saved phenology_df to base/polygon_1251\\phenology_df.csv\n",
      "Saved df_01 to base/polygon_1251\\data_base.csv\n",
      "1252 256\n"
     ]
    },
    {
     "name": "stderr",
     "output_type": "stream",
     "text": [
      "c:\\Users\\ander\\OneDrive\\Área de Trabalho\\msu\\phenologic_metrics\\src\\controllers\\metrics_bos_eso.py:37: SettingWithCopyWarning: \n",
      "A value is trying to be set on a copy of a slice from a DataFrame.\n",
      "Try using .loc[row_indexer,col_indexer] = value instead\n",
      "\n",
      "See the caveats in the documentation: https://pandas.pydata.org/pandas-docs/stable/user_guide/indexing.html#returning-a-view-versus-a-copy\n",
      "  self.interval_df['first_derivative'] = self.interval_df['savitzky_golay'].diff().fillna(0)\n"
     ]
    },
    {
     "name": "stdout",
     "output_type": "stream",
     "text": [
      "Saved phenology_df to base/polygon_1252\\phenology_df.csv\n",
      "Saved df_01 to base/polygon_1252\\data_base.csv\n",
      "1254 257\n"
     ]
    },
    {
     "name": "stderr",
     "output_type": "stream",
     "text": [
      "c:\\Users\\ander\\OneDrive\\Área de Trabalho\\msu\\phenologic_metrics\\src\\controllers\\metrics_bos_eso.py:37: SettingWithCopyWarning: \n",
      "A value is trying to be set on a copy of a slice from a DataFrame.\n",
      "Try using .loc[row_indexer,col_indexer] = value instead\n",
      "\n",
      "See the caveats in the documentation: https://pandas.pydata.org/pandas-docs/stable/user_guide/indexing.html#returning-a-view-versus-a-copy\n",
      "  self.interval_df['first_derivative'] = self.interval_df['savitzky_golay'].diff().fillna(0)\n"
     ]
    },
    {
     "name": "stdout",
     "output_type": "stream",
     "text": [
      "Saved phenology_df to base/polygon_1254\\phenology_df.csv\n",
      "Saved df_01 to base/polygon_1254\\data_base.csv\n",
      "1255 258\n"
     ]
    },
    {
     "name": "stderr",
     "output_type": "stream",
     "text": [
      "c:\\Users\\ander\\OneDrive\\Área de Trabalho\\msu\\phenologic_metrics\\src\\controllers\\metrics_bos_eso.py:37: SettingWithCopyWarning: \n",
      "A value is trying to be set on a copy of a slice from a DataFrame.\n",
      "Try using .loc[row_indexer,col_indexer] = value instead\n",
      "\n",
      "See the caveats in the documentation: https://pandas.pydata.org/pandas-docs/stable/user_guide/indexing.html#returning-a-view-versus-a-copy\n",
      "  self.interval_df['first_derivative'] = self.interval_df['savitzky_golay'].diff().fillna(0)\n"
     ]
    },
    {
     "name": "stdout",
     "output_type": "stream",
     "text": [
      "Saved phenology_df to base/polygon_1255\\phenology_df.csv\n",
      "Saved df_01 to base/polygon_1255\\data_base.csv\n",
      "1257 259\n"
     ]
    },
    {
     "name": "stderr",
     "output_type": "stream",
     "text": [
      "c:\\Users\\ander\\OneDrive\\Área de Trabalho\\msu\\phenologic_metrics\\src\\controllers\\metrics_bos_eso.py:37: SettingWithCopyWarning: \n",
      "A value is trying to be set on a copy of a slice from a DataFrame.\n",
      "Try using .loc[row_indexer,col_indexer] = value instead\n",
      "\n",
      "See the caveats in the documentation: https://pandas.pydata.org/pandas-docs/stable/user_guide/indexing.html#returning-a-view-versus-a-copy\n",
      "  self.interval_df['first_derivative'] = self.interval_df['savitzky_golay'].diff().fillna(0)\n"
     ]
    },
    {
     "name": "stdout",
     "output_type": "stream",
     "text": [
      "Saved phenology_df to base/polygon_1257\\phenology_df.csv\n",
      "Saved df_01 to base/polygon_1257\\data_base.csv\n",
      "1260 260\n"
     ]
    },
    {
     "name": "stderr",
     "output_type": "stream",
     "text": [
      "c:\\Users\\ander\\OneDrive\\Área de Trabalho\\msu\\phenologic_metrics\\src\\controllers\\metrics_bos_eso.py:37: SettingWithCopyWarning: \n",
      "A value is trying to be set on a copy of a slice from a DataFrame.\n",
      "Try using .loc[row_indexer,col_indexer] = value instead\n",
      "\n",
      "See the caveats in the documentation: https://pandas.pydata.org/pandas-docs/stable/user_guide/indexing.html#returning-a-view-versus-a-copy\n",
      "  self.interval_df['first_derivative'] = self.interval_df['savitzky_golay'].diff().fillna(0)\n"
     ]
    },
    {
     "name": "stdout",
     "output_type": "stream",
     "text": [
      "Saved phenology_df to base/polygon_1260\\phenology_df.csv\n",
      "Saved df_01 to base/polygon_1260\\data_base.csv\n",
      "1261 261\n"
     ]
    },
    {
     "name": "stderr",
     "output_type": "stream",
     "text": [
      "c:\\Users\\ander\\OneDrive\\Área de Trabalho\\msu\\phenologic_metrics\\src\\controllers\\metrics_bos_eso.py:37: SettingWithCopyWarning: \n",
      "A value is trying to be set on a copy of a slice from a DataFrame.\n",
      "Try using .loc[row_indexer,col_indexer] = value instead\n",
      "\n",
      "See the caveats in the documentation: https://pandas.pydata.org/pandas-docs/stable/user_guide/indexing.html#returning-a-view-versus-a-copy\n",
      "  self.interval_df['first_derivative'] = self.interval_df['savitzky_golay'].diff().fillna(0)\n"
     ]
    },
    {
     "name": "stdout",
     "output_type": "stream",
     "text": [
      "Saved phenology_df to base/polygon_1261\\phenology_df.csv\n",
      "Saved df_01 to base/polygon_1261\\data_base.csv\n",
      "1262 262\n"
     ]
    },
    {
     "name": "stderr",
     "output_type": "stream",
     "text": [
      "c:\\Users\\ander\\OneDrive\\Área de Trabalho\\msu\\phenologic_metrics\\src\\controllers\\metrics_bos_eso.py:37: SettingWithCopyWarning: \n",
      "A value is trying to be set on a copy of a slice from a DataFrame.\n",
      "Try using .loc[row_indexer,col_indexer] = value instead\n",
      "\n",
      "See the caveats in the documentation: https://pandas.pydata.org/pandas-docs/stable/user_guide/indexing.html#returning-a-view-versus-a-copy\n",
      "  self.interval_df['first_derivative'] = self.interval_df['savitzky_golay'].diff().fillna(0)\n"
     ]
    },
    {
     "name": "stdout",
     "output_type": "stream",
     "text": [
      "Saved phenology_df to base/polygon_1262\\phenology_df.csv\n",
      "Saved df_01 to base/polygon_1262\\data_base.csv\n",
      "1263 263\n"
     ]
    },
    {
     "name": "stderr",
     "output_type": "stream",
     "text": [
      "c:\\Users\\ander\\OneDrive\\Área de Trabalho\\msu\\phenologic_metrics\\src\\controllers\\metrics_bos_eso.py:37: SettingWithCopyWarning: \n",
      "A value is trying to be set on a copy of a slice from a DataFrame.\n",
      "Try using .loc[row_indexer,col_indexer] = value instead\n",
      "\n",
      "See the caveats in the documentation: https://pandas.pydata.org/pandas-docs/stable/user_guide/indexing.html#returning-a-view-versus-a-copy\n",
      "  self.interval_df['first_derivative'] = self.interval_df['savitzky_golay'].diff().fillna(0)\n"
     ]
    },
    {
     "name": "stdout",
     "output_type": "stream",
     "text": [
      "Saved phenology_df to base/polygon_1263\\phenology_df.csv\n",
      "Saved df_01 to base/polygon_1263\\data_base.csv\n",
      "1265 264\n"
     ]
    },
    {
     "name": "stderr",
     "output_type": "stream",
     "text": [
      "c:\\Users\\ander\\OneDrive\\Área de Trabalho\\msu\\phenologic_metrics\\src\\controllers\\metrics_bos_eso.py:37: SettingWithCopyWarning: \n",
      "A value is trying to be set on a copy of a slice from a DataFrame.\n",
      "Try using .loc[row_indexer,col_indexer] = value instead\n",
      "\n",
      "See the caveats in the documentation: https://pandas.pydata.org/pandas-docs/stable/user_guide/indexing.html#returning-a-view-versus-a-copy\n",
      "  self.interval_df['first_derivative'] = self.interval_df['savitzky_golay'].diff().fillna(0)\n"
     ]
    },
    {
     "name": "stdout",
     "output_type": "stream",
     "text": [
      "Saved phenology_df to base/polygon_1265\\phenology_df.csv\n",
      "Saved df_01 to base/polygon_1265\\data_base.csv\n",
      "1266 265\n",
      "1267 266\n"
     ]
    },
    {
     "name": "stderr",
     "output_type": "stream",
     "text": [
      "c:\\Users\\ander\\OneDrive\\Área de Trabalho\\msu\\phenologic_metrics\\src\\controllers\\metrics_bos_eso.py:37: SettingWithCopyWarning: \n",
      "A value is trying to be set on a copy of a slice from a DataFrame.\n",
      "Try using .loc[row_indexer,col_indexer] = value instead\n",
      "\n",
      "See the caveats in the documentation: https://pandas.pydata.org/pandas-docs/stable/user_guide/indexing.html#returning-a-view-versus-a-copy\n",
      "  self.interval_df['first_derivative'] = self.interval_df['savitzky_golay'].diff().fillna(0)\n"
     ]
    },
    {
     "name": "stdout",
     "output_type": "stream",
     "text": [
      "Saved phenology_df to base/polygon_1267\\phenology_df.csv\n",
      "Saved df_01 to base/polygon_1267\\data_base.csv\n",
      "1268 267\n"
     ]
    },
    {
     "name": "stderr",
     "output_type": "stream",
     "text": [
      "c:\\Users\\ander\\OneDrive\\Área de Trabalho\\msu\\phenologic_metrics\\src\\controllers\\metrics_bos_eso.py:37: SettingWithCopyWarning: \n",
      "A value is trying to be set on a copy of a slice from a DataFrame.\n",
      "Try using .loc[row_indexer,col_indexer] = value instead\n",
      "\n",
      "See the caveats in the documentation: https://pandas.pydata.org/pandas-docs/stable/user_guide/indexing.html#returning-a-view-versus-a-copy\n",
      "  self.interval_df['first_derivative'] = self.interval_df['savitzky_golay'].diff().fillna(0)\n"
     ]
    },
    {
     "name": "stdout",
     "output_type": "stream",
     "text": [
      "Saved phenology_df to base/polygon_1268\\phenology_df.csv\n",
      "Saved df_01 to base/polygon_1268\\data_base.csv\n",
      "1269 268\n"
     ]
    },
    {
     "name": "stderr",
     "output_type": "stream",
     "text": [
      "c:\\Users\\ander\\OneDrive\\Área de Trabalho\\msu\\phenologic_metrics\\src\\controllers\\metrics_bos_eso.py:37: SettingWithCopyWarning: \n",
      "A value is trying to be set on a copy of a slice from a DataFrame.\n",
      "Try using .loc[row_indexer,col_indexer] = value instead\n",
      "\n",
      "See the caveats in the documentation: https://pandas.pydata.org/pandas-docs/stable/user_guide/indexing.html#returning-a-view-versus-a-copy\n",
      "  self.interval_df['first_derivative'] = self.interval_df['savitzky_golay'].diff().fillna(0)\n"
     ]
    },
    {
     "name": "stdout",
     "output_type": "stream",
     "text": [
      "Saved phenology_df to base/polygon_1269\\phenology_df.csv\n",
      "Saved df_01 to base/polygon_1269\\data_base.csv\n",
      "1270 269\n"
     ]
    },
    {
     "name": "stderr",
     "output_type": "stream",
     "text": [
      "c:\\Users\\ander\\OneDrive\\Área de Trabalho\\msu\\phenologic_metrics\\src\\controllers\\metrics_bos_eso.py:37: SettingWithCopyWarning: \n",
      "A value is trying to be set on a copy of a slice from a DataFrame.\n",
      "Try using .loc[row_indexer,col_indexer] = value instead\n",
      "\n",
      "See the caveats in the documentation: https://pandas.pydata.org/pandas-docs/stable/user_guide/indexing.html#returning-a-view-versus-a-copy\n",
      "  self.interval_df['first_derivative'] = self.interval_df['savitzky_golay'].diff().fillna(0)\n"
     ]
    },
    {
     "name": "stdout",
     "output_type": "stream",
     "text": [
      "Saved phenology_df to base/polygon_1270\\phenology_df.csv\n",
      "Saved df_01 to base/polygon_1270\\data_base.csv\n",
      "1271 270\n"
     ]
    },
    {
     "name": "stderr",
     "output_type": "stream",
     "text": [
      "c:\\Users\\ander\\OneDrive\\Área de Trabalho\\msu\\phenologic_metrics\\src\\controllers\\metrics_bos_eso.py:37: SettingWithCopyWarning: \n",
      "A value is trying to be set on a copy of a slice from a DataFrame.\n",
      "Try using .loc[row_indexer,col_indexer] = value instead\n",
      "\n",
      "See the caveats in the documentation: https://pandas.pydata.org/pandas-docs/stable/user_guide/indexing.html#returning-a-view-versus-a-copy\n",
      "  self.interval_df['first_derivative'] = self.interval_df['savitzky_golay'].diff().fillna(0)\n"
     ]
    },
    {
     "name": "stdout",
     "output_type": "stream",
     "text": [
      "Saved phenology_df to base/polygon_1271\\phenology_df.csv\n",
      "Saved df_01 to base/polygon_1271\\data_base.csv\n",
      "1272 271\n"
     ]
    },
    {
     "name": "stderr",
     "output_type": "stream",
     "text": [
      "c:\\Users\\ander\\OneDrive\\Área de Trabalho\\msu\\phenologic_metrics\\src\\controllers\\metrics_bos_eso.py:37: SettingWithCopyWarning: \n",
      "A value is trying to be set on a copy of a slice from a DataFrame.\n",
      "Try using .loc[row_indexer,col_indexer] = value instead\n",
      "\n",
      "See the caveats in the documentation: https://pandas.pydata.org/pandas-docs/stable/user_guide/indexing.html#returning-a-view-versus-a-copy\n",
      "  self.interval_df['first_derivative'] = self.interval_df['savitzky_golay'].diff().fillna(0)\n"
     ]
    },
    {
     "name": "stdout",
     "output_type": "stream",
     "text": [
      "Saved phenology_df to base/polygon_1272\\phenology_df.csv\n",
      "Saved df_01 to base/polygon_1272\\data_base.csv\n",
      "1273 272\n"
     ]
    },
    {
     "name": "stderr",
     "output_type": "stream",
     "text": [
      "c:\\Users\\ander\\OneDrive\\Área de Trabalho\\msu\\phenologic_metrics\\src\\controllers\\metrics_bos_eso.py:37: SettingWithCopyWarning: \n",
      "A value is trying to be set on a copy of a slice from a DataFrame.\n",
      "Try using .loc[row_indexer,col_indexer] = value instead\n",
      "\n",
      "See the caveats in the documentation: https://pandas.pydata.org/pandas-docs/stable/user_guide/indexing.html#returning-a-view-versus-a-copy\n",
      "  self.interval_df['first_derivative'] = self.interval_df['savitzky_golay'].diff().fillna(0)\n"
     ]
    },
    {
     "name": "stdout",
     "output_type": "stream",
     "text": [
      "Saved phenology_df to base/polygon_1273\\phenology_df.csv\n",
      "Saved df_01 to base/polygon_1273\\data_base.csv\n",
      "1274 273\n"
     ]
    },
    {
     "name": "stderr",
     "output_type": "stream",
     "text": [
      "c:\\Users\\ander\\OneDrive\\Área de Trabalho\\msu\\phenologic_metrics\\src\\controllers\\metrics_bos_eso.py:37: SettingWithCopyWarning: \n",
      "A value is trying to be set on a copy of a slice from a DataFrame.\n",
      "Try using .loc[row_indexer,col_indexer] = value instead\n",
      "\n",
      "See the caveats in the documentation: https://pandas.pydata.org/pandas-docs/stable/user_guide/indexing.html#returning-a-view-versus-a-copy\n",
      "  self.interval_df['first_derivative'] = self.interval_df['savitzky_golay'].diff().fillna(0)\n"
     ]
    },
    {
     "name": "stdout",
     "output_type": "stream",
     "text": [
      "Saved phenology_df to base/polygon_1274\\phenology_df.csv\n",
      "Saved df_01 to base/polygon_1274\\data_base.csv\n",
      "1275 274\n"
     ]
    },
    {
     "name": "stderr",
     "output_type": "stream",
     "text": [
      "c:\\Users\\ander\\OneDrive\\Área de Trabalho\\msu\\phenologic_metrics\\src\\controllers\\metrics_bos_eso.py:37: SettingWithCopyWarning: \n",
      "A value is trying to be set on a copy of a slice from a DataFrame.\n",
      "Try using .loc[row_indexer,col_indexer] = value instead\n",
      "\n",
      "See the caveats in the documentation: https://pandas.pydata.org/pandas-docs/stable/user_guide/indexing.html#returning-a-view-versus-a-copy\n",
      "  self.interval_df['first_derivative'] = self.interval_df['savitzky_golay'].diff().fillna(0)\n"
     ]
    },
    {
     "name": "stdout",
     "output_type": "stream",
     "text": [
      "Saved phenology_df to base/polygon_1275\\phenology_df.csv\n",
      "Saved df_01 to base/polygon_1275\\data_base.csv\n",
      "1276 275\n"
     ]
    },
    {
     "name": "stderr",
     "output_type": "stream",
     "text": [
      "c:\\Users\\ander\\OneDrive\\Área de Trabalho\\msu\\phenologic_metrics\\src\\controllers\\metrics_bos_eso.py:37: SettingWithCopyWarning: \n",
      "A value is trying to be set on a copy of a slice from a DataFrame.\n",
      "Try using .loc[row_indexer,col_indexer] = value instead\n",
      "\n",
      "See the caveats in the documentation: https://pandas.pydata.org/pandas-docs/stable/user_guide/indexing.html#returning-a-view-versus-a-copy\n",
      "  self.interval_df['first_derivative'] = self.interval_df['savitzky_golay'].diff().fillna(0)\n"
     ]
    },
    {
     "name": "stdout",
     "output_type": "stream",
     "text": [
      "Saved phenology_df to base/polygon_1276\\phenology_df.csv\n",
      "Saved df_01 to base/polygon_1276\\data_base.csv\n",
      "1277 276\n"
     ]
    },
    {
     "name": "stderr",
     "output_type": "stream",
     "text": [
      "c:\\Users\\ander\\OneDrive\\Área de Trabalho\\msu\\phenologic_metrics\\src\\controllers\\metrics_bos_eso.py:37: SettingWithCopyWarning: \n",
      "A value is trying to be set on a copy of a slice from a DataFrame.\n",
      "Try using .loc[row_indexer,col_indexer] = value instead\n",
      "\n",
      "See the caveats in the documentation: https://pandas.pydata.org/pandas-docs/stable/user_guide/indexing.html#returning-a-view-versus-a-copy\n",
      "  self.interval_df['first_derivative'] = self.interval_df['savitzky_golay'].diff().fillna(0)\n"
     ]
    },
    {
     "name": "stdout",
     "output_type": "stream",
     "text": [
      "Saved phenology_df to base/polygon_1277\\phenology_df.csv\n",
      "Saved df_01 to base/polygon_1277\\data_base.csv\n",
      "1278 277\n"
     ]
    },
    {
     "name": "stderr",
     "output_type": "stream",
     "text": [
      "c:\\Users\\ander\\OneDrive\\Área de Trabalho\\msu\\phenologic_metrics\\src\\controllers\\metrics_bos_eso.py:37: SettingWithCopyWarning: \n",
      "A value is trying to be set on a copy of a slice from a DataFrame.\n",
      "Try using .loc[row_indexer,col_indexer] = value instead\n",
      "\n",
      "See the caveats in the documentation: https://pandas.pydata.org/pandas-docs/stable/user_guide/indexing.html#returning-a-view-versus-a-copy\n",
      "  self.interval_df['first_derivative'] = self.interval_df['savitzky_golay'].diff().fillna(0)\n"
     ]
    },
    {
     "name": "stdout",
     "output_type": "stream",
     "text": [
      "Saved phenology_df to base/polygon_1278\\phenology_df.csv\n",
      "Saved df_01 to base/polygon_1278\\data_base.csv\n",
      "1279 278\n"
     ]
    },
    {
     "name": "stderr",
     "output_type": "stream",
     "text": [
      "c:\\Users\\ander\\OneDrive\\Área de Trabalho\\msu\\phenologic_metrics\\src\\controllers\\metrics_bos_eso.py:37: SettingWithCopyWarning: \n",
      "A value is trying to be set on a copy of a slice from a DataFrame.\n",
      "Try using .loc[row_indexer,col_indexer] = value instead\n",
      "\n",
      "See the caveats in the documentation: https://pandas.pydata.org/pandas-docs/stable/user_guide/indexing.html#returning-a-view-versus-a-copy\n",
      "  self.interval_df['first_derivative'] = self.interval_df['savitzky_golay'].diff().fillna(0)\n"
     ]
    },
    {
     "name": "stdout",
     "output_type": "stream",
     "text": [
      "Saved phenology_df to base/polygon_1279\\phenology_df.csv\n",
      "Saved df_01 to base/polygon_1279\\data_base.csv\n",
      "1280 279\n",
      "1281 280\n"
     ]
    },
    {
     "name": "stderr",
     "output_type": "stream",
     "text": [
      "c:\\Users\\ander\\OneDrive\\Área de Trabalho\\msu\\phenologic_metrics\\src\\controllers\\metrics_bos_eso.py:37: SettingWithCopyWarning: \n",
      "A value is trying to be set on a copy of a slice from a DataFrame.\n",
      "Try using .loc[row_indexer,col_indexer] = value instead\n",
      "\n",
      "See the caveats in the documentation: https://pandas.pydata.org/pandas-docs/stable/user_guide/indexing.html#returning-a-view-versus-a-copy\n",
      "  self.interval_df['first_derivative'] = self.interval_df['savitzky_golay'].diff().fillna(0)\n"
     ]
    },
    {
     "name": "stdout",
     "output_type": "stream",
     "text": [
      "Saved phenology_df to base/polygon_1281\\phenology_df.csv\n",
      "Saved df_01 to base/polygon_1281\\data_base.csv\n",
      "1282 281\n"
     ]
    },
    {
     "name": "stderr",
     "output_type": "stream",
     "text": [
      "c:\\Users\\ander\\OneDrive\\Área de Trabalho\\msu\\phenologic_metrics\\src\\controllers\\metrics_bos_eso.py:37: SettingWithCopyWarning: \n",
      "A value is trying to be set on a copy of a slice from a DataFrame.\n",
      "Try using .loc[row_indexer,col_indexer] = value instead\n",
      "\n",
      "See the caveats in the documentation: https://pandas.pydata.org/pandas-docs/stable/user_guide/indexing.html#returning-a-view-versus-a-copy\n",
      "  self.interval_df['first_derivative'] = self.interval_df['savitzky_golay'].diff().fillna(0)\n"
     ]
    },
    {
     "name": "stdout",
     "output_type": "stream",
     "text": [
      "Saved phenology_df to base/polygon_1282\\phenology_df.csv\n",
      "Saved df_01 to base/polygon_1282\\data_base.csv\n",
      "1283 282\n"
     ]
    },
    {
     "name": "stderr",
     "output_type": "stream",
     "text": [
      "c:\\Users\\ander\\OneDrive\\Área de Trabalho\\msu\\phenologic_metrics\\src\\controllers\\metrics_bos_eso.py:37: SettingWithCopyWarning: \n",
      "A value is trying to be set on a copy of a slice from a DataFrame.\n",
      "Try using .loc[row_indexer,col_indexer] = value instead\n",
      "\n",
      "See the caveats in the documentation: https://pandas.pydata.org/pandas-docs/stable/user_guide/indexing.html#returning-a-view-versus-a-copy\n",
      "  self.interval_df['first_derivative'] = self.interval_df['savitzky_golay'].diff().fillna(0)\n"
     ]
    },
    {
     "name": "stdout",
     "output_type": "stream",
     "text": [
      "Saved phenology_df to base/polygon_1283\\phenology_df.csv\n",
      "Saved df_01 to base/polygon_1283\\data_base.csv\n",
      "1284 283\n"
     ]
    },
    {
     "name": "stderr",
     "output_type": "stream",
     "text": [
      "c:\\Users\\ander\\OneDrive\\Área de Trabalho\\msu\\phenologic_metrics\\src\\controllers\\metrics_bos_eso.py:37: SettingWithCopyWarning: \n",
      "A value is trying to be set on a copy of a slice from a DataFrame.\n",
      "Try using .loc[row_indexer,col_indexer] = value instead\n",
      "\n",
      "See the caveats in the documentation: https://pandas.pydata.org/pandas-docs/stable/user_guide/indexing.html#returning-a-view-versus-a-copy\n",
      "  self.interval_df['first_derivative'] = self.interval_df['savitzky_golay'].diff().fillna(0)\n"
     ]
    },
    {
     "name": "stdout",
     "output_type": "stream",
     "text": [
      "Saved phenology_df to base/polygon_1284\\phenology_df.csv\n",
      "Saved df_01 to base/polygon_1284\\data_base.csv\n",
      "1285 284\n"
     ]
    },
    {
     "name": "stderr",
     "output_type": "stream",
     "text": [
      "c:\\Users\\ander\\OneDrive\\Área de Trabalho\\msu\\phenologic_metrics\\src\\controllers\\metrics_bos_eso.py:37: SettingWithCopyWarning: \n",
      "A value is trying to be set on a copy of a slice from a DataFrame.\n",
      "Try using .loc[row_indexer,col_indexer] = value instead\n",
      "\n",
      "See the caveats in the documentation: https://pandas.pydata.org/pandas-docs/stable/user_guide/indexing.html#returning-a-view-versus-a-copy\n",
      "  self.interval_df['first_derivative'] = self.interval_df['savitzky_golay'].diff().fillna(0)\n"
     ]
    },
    {
     "name": "stdout",
     "output_type": "stream",
     "text": [
      "Saved phenology_df to base/polygon_1285\\phenology_df.csv\n",
      "Saved df_01 to base/polygon_1285\\data_base.csv\n",
      "1286 285\n"
     ]
    },
    {
     "name": "stderr",
     "output_type": "stream",
     "text": [
      "c:\\Users\\ander\\OneDrive\\Área de Trabalho\\msu\\phenologic_metrics\\src\\controllers\\metrics_bos_eso.py:37: SettingWithCopyWarning: \n",
      "A value is trying to be set on a copy of a slice from a DataFrame.\n",
      "Try using .loc[row_indexer,col_indexer] = value instead\n",
      "\n",
      "See the caveats in the documentation: https://pandas.pydata.org/pandas-docs/stable/user_guide/indexing.html#returning-a-view-versus-a-copy\n",
      "  self.interval_df['first_derivative'] = self.interval_df['savitzky_golay'].diff().fillna(0)\n"
     ]
    },
    {
     "name": "stdout",
     "output_type": "stream",
     "text": [
      "Saved phenology_df to base/polygon_1286\\phenology_df.csv\n",
      "Saved df_01 to base/polygon_1286\\data_base.csv\n",
      "1287 286\n"
     ]
    },
    {
     "name": "stderr",
     "output_type": "stream",
     "text": [
      "c:\\Users\\ander\\OneDrive\\Área de Trabalho\\msu\\phenologic_metrics\\src\\controllers\\metrics_bos_eso.py:37: SettingWithCopyWarning: \n",
      "A value is trying to be set on a copy of a slice from a DataFrame.\n",
      "Try using .loc[row_indexer,col_indexer] = value instead\n",
      "\n",
      "See the caveats in the documentation: https://pandas.pydata.org/pandas-docs/stable/user_guide/indexing.html#returning-a-view-versus-a-copy\n",
      "  self.interval_df['first_derivative'] = self.interval_df['savitzky_golay'].diff().fillna(0)\n"
     ]
    },
    {
     "name": "stdout",
     "output_type": "stream",
     "text": [
      "Saved phenology_df to base/polygon_1287\\phenology_df.csv\n",
      "Saved df_01 to base/polygon_1287\\data_base.csv\n",
      "1288 287\n"
     ]
    },
    {
     "name": "stderr",
     "output_type": "stream",
     "text": [
      "c:\\Users\\ander\\OneDrive\\Área de Trabalho\\msu\\phenologic_metrics\\src\\controllers\\metrics_bos_eso.py:37: SettingWithCopyWarning: \n",
      "A value is trying to be set on a copy of a slice from a DataFrame.\n",
      "Try using .loc[row_indexer,col_indexer] = value instead\n",
      "\n",
      "See the caveats in the documentation: https://pandas.pydata.org/pandas-docs/stable/user_guide/indexing.html#returning-a-view-versus-a-copy\n",
      "  self.interval_df['first_derivative'] = self.interval_df['savitzky_golay'].diff().fillna(0)\n"
     ]
    },
    {
     "name": "stdout",
     "output_type": "stream",
     "text": [
      "Saved phenology_df to base/polygon_1288\\phenology_df.csv\n",
      "Saved df_01 to base/polygon_1288\\data_base.csv\n",
      "1289 288\n"
     ]
    },
    {
     "name": "stderr",
     "output_type": "stream",
     "text": [
      "c:\\Users\\ander\\OneDrive\\Área de Trabalho\\msu\\phenologic_metrics\\src\\controllers\\metrics_bos_eso.py:37: SettingWithCopyWarning: \n",
      "A value is trying to be set on a copy of a slice from a DataFrame.\n",
      "Try using .loc[row_indexer,col_indexer] = value instead\n",
      "\n",
      "See the caveats in the documentation: https://pandas.pydata.org/pandas-docs/stable/user_guide/indexing.html#returning-a-view-versus-a-copy\n",
      "  self.interval_df['first_derivative'] = self.interval_df['savitzky_golay'].diff().fillna(0)\n"
     ]
    },
    {
     "name": "stdout",
     "output_type": "stream",
     "text": [
      "Saved phenology_df to base/polygon_1289\\phenology_df.csv\n",
      "Saved df_01 to base/polygon_1289\\data_base.csv\n",
      "1290 289\n"
     ]
    },
    {
     "name": "stderr",
     "output_type": "stream",
     "text": [
      "c:\\Users\\ander\\OneDrive\\Área de Trabalho\\msu\\phenologic_metrics\\src\\controllers\\metrics_bos_eso.py:37: SettingWithCopyWarning: \n",
      "A value is trying to be set on a copy of a slice from a DataFrame.\n",
      "Try using .loc[row_indexer,col_indexer] = value instead\n",
      "\n",
      "See the caveats in the documentation: https://pandas.pydata.org/pandas-docs/stable/user_guide/indexing.html#returning-a-view-versus-a-copy\n",
      "  self.interval_df['first_derivative'] = self.interval_df['savitzky_golay'].diff().fillna(0)\n"
     ]
    },
    {
     "name": "stdout",
     "output_type": "stream",
     "text": [
      "Saved phenology_df to base/polygon_1290\\phenology_df.csv\n",
      "Saved df_01 to base/polygon_1290\\data_base.csv\n",
      "1291 290\n"
     ]
    },
    {
     "name": "stderr",
     "output_type": "stream",
     "text": [
      "c:\\Users\\ander\\OneDrive\\Área de Trabalho\\msu\\phenologic_metrics\\src\\controllers\\metrics_bos_eso.py:37: SettingWithCopyWarning: \n",
      "A value is trying to be set on a copy of a slice from a DataFrame.\n",
      "Try using .loc[row_indexer,col_indexer] = value instead\n",
      "\n",
      "See the caveats in the documentation: https://pandas.pydata.org/pandas-docs/stable/user_guide/indexing.html#returning-a-view-versus-a-copy\n",
      "  self.interval_df['first_derivative'] = self.interval_df['savitzky_golay'].diff().fillna(0)\n"
     ]
    },
    {
     "name": "stdout",
     "output_type": "stream",
     "text": [
      "Saved phenology_df to base/polygon_1291\\phenology_df.csv\n",
      "Saved df_01 to base/polygon_1291\\data_base.csv\n",
      "1292 291\n"
     ]
    },
    {
     "name": "stderr",
     "output_type": "stream",
     "text": [
      "c:\\Users\\ander\\OneDrive\\Área de Trabalho\\msu\\phenologic_metrics\\src\\controllers\\metrics_bos_eso.py:37: SettingWithCopyWarning: \n",
      "A value is trying to be set on a copy of a slice from a DataFrame.\n",
      "Try using .loc[row_indexer,col_indexer] = value instead\n",
      "\n",
      "See the caveats in the documentation: https://pandas.pydata.org/pandas-docs/stable/user_guide/indexing.html#returning-a-view-versus-a-copy\n",
      "  self.interval_df['first_derivative'] = self.interval_df['savitzky_golay'].diff().fillna(0)\n"
     ]
    },
    {
     "name": "stdout",
     "output_type": "stream",
     "text": [
      "Saved phenology_df to base/polygon_1292\\phenology_df.csv\n",
      "Saved df_01 to base/polygon_1292\\data_base.csv\n",
      "1293 292\n"
     ]
    },
    {
     "name": "stderr",
     "output_type": "stream",
     "text": [
      "c:\\Users\\ander\\OneDrive\\Área de Trabalho\\msu\\phenologic_metrics\\src\\controllers\\metrics_bos_eso.py:37: SettingWithCopyWarning: \n",
      "A value is trying to be set on a copy of a slice from a DataFrame.\n",
      "Try using .loc[row_indexer,col_indexer] = value instead\n",
      "\n",
      "See the caveats in the documentation: https://pandas.pydata.org/pandas-docs/stable/user_guide/indexing.html#returning-a-view-versus-a-copy\n",
      "  self.interval_df['first_derivative'] = self.interval_df['savitzky_golay'].diff().fillna(0)\n"
     ]
    },
    {
     "name": "stdout",
     "output_type": "stream",
     "text": [
      "Saved phenology_df to base/polygon_1293\\phenology_df.csv\n",
      "Saved df_01 to base/polygon_1293\\data_base.csv\n",
      "1294 293\n"
     ]
    },
    {
     "name": "stderr",
     "output_type": "stream",
     "text": [
      "c:\\Users\\ander\\OneDrive\\Área de Trabalho\\msu\\phenologic_metrics\\src\\controllers\\metrics_bos_eso.py:37: SettingWithCopyWarning: \n",
      "A value is trying to be set on a copy of a slice from a DataFrame.\n",
      "Try using .loc[row_indexer,col_indexer] = value instead\n",
      "\n",
      "See the caveats in the documentation: https://pandas.pydata.org/pandas-docs/stable/user_guide/indexing.html#returning-a-view-versus-a-copy\n",
      "  self.interval_df['first_derivative'] = self.interval_df['savitzky_golay'].diff().fillna(0)\n"
     ]
    },
    {
     "name": "stdout",
     "output_type": "stream",
     "text": [
      "Saved phenology_df to base/polygon_1294\\phenology_df.csv\n",
      "Saved df_01 to base/polygon_1294\\data_base.csv\n",
      "1295 294\n"
     ]
    },
    {
     "name": "stderr",
     "output_type": "stream",
     "text": [
      "c:\\Users\\ander\\OneDrive\\Área de Trabalho\\msu\\phenologic_metrics\\src\\controllers\\metrics_bos_eso.py:37: SettingWithCopyWarning: \n",
      "A value is trying to be set on a copy of a slice from a DataFrame.\n",
      "Try using .loc[row_indexer,col_indexer] = value instead\n",
      "\n",
      "See the caveats in the documentation: https://pandas.pydata.org/pandas-docs/stable/user_guide/indexing.html#returning-a-view-versus-a-copy\n",
      "  self.interval_df['first_derivative'] = self.interval_df['savitzky_golay'].diff().fillna(0)\n"
     ]
    },
    {
     "name": "stdout",
     "output_type": "stream",
     "text": [
      "Saved phenology_df to base/polygon_1295\\phenology_df.csv\n",
      "Saved df_01 to base/polygon_1295\\data_base.csv\n",
      "1296 295\n"
     ]
    },
    {
     "name": "stderr",
     "output_type": "stream",
     "text": [
      "c:\\Users\\ander\\OneDrive\\Área de Trabalho\\msu\\phenologic_metrics\\src\\controllers\\metrics_bos_eso.py:37: SettingWithCopyWarning: \n",
      "A value is trying to be set on a copy of a slice from a DataFrame.\n",
      "Try using .loc[row_indexer,col_indexer] = value instead\n",
      "\n",
      "See the caveats in the documentation: https://pandas.pydata.org/pandas-docs/stable/user_guide/indexing.html#returning-a-view-versus-a-copy\n",
      "  self.interval_df['first_derivative'] = self.interval_df['savitzky_golay'].diff().fillna(0)\n"
     ]
    },
    {
     "name": "stdout",
     "output_type": "stream",
     "text": [
      "Saved phenology_df to base/polygon_1296\\phenology_df.csv\n",
      "Saved df_01 to base/polygon_1296\\data_base.csv\n",
      "1297 296\n"
     ]
    },
    {
     "name": "stderr",
     "output_type": "stream",
     "text": [
      "c:\\Users\\ander\\OneDrive\\Área de Trabalho\\msu\\phenologic_metrics\\src\\controllers\\metrics_bos_eso.py:37: SettingWithCopyWarning: \n",
      "A value is trying to be set on a copy of a slice from a DataFrame.\n",
      "Try using .loc[row_indexer,col_indexer] = value instead\n",
      "\n",
      "See the caveats in the documentation: https://pandas.pydata.org/pandas-docs/stable/user_guide/indexing.html#returning-a-view-versus-a-copy\n",
      "  self.interval_df['first_derivative'] = self.interval_df['savitzky_golay'].diff().fillna(0)\n"
     ]
    },
    {
     "name": "stdout",
     "output_type": "stream",
     "text": [
      "Saved phenology_df to base/polygon_1297\\phenology_df.csv\n",
      "Saved df_01 to base/polygon_1297\\data_base.csv\n",
      "1298 297\n"
     ]
    },
    {
     "name": "stderr",
     "output_type": "stream",
     "text": [
      "c:\\Users\\ander\\OneDrive\\Área de Trabalho\\msu\\phenologic_metrics\\src\\controllers\\metrics_bos_eso.py:37: SettingWithCopyWarning: \n",
      "A value is trying to be set on a copy of a slice from a DataFrame.\n",
      "Try using .loc[row_indexer,col_indexer] = value instead\n",
      "\n",
      "See the caveats in the documentation: https://pandas.pydata.org/pandas-docs/stable/user_guide/indexing.html#returning-a-view-versus-a-copy\n",
      "  self.interval_df['first_derivative'] = self.interval_df['savitzky_golay'].diff().fillna(0)\n"
     ]
    },
    {
     "name": "stdout",
     "output_type": "stream",
     "text": [
      "Saved phenology_df to base/polygon_1298\\phenology_df.csv\n",
      "Saved df_01 to base/polygon_1298\\data_base.csv\n",
      "1299 298\n"
     ]
    },
    {
     "name": "stderr",
     "output_type": "stream",
     "text": [
      "c:\\Users\\ander\\OneDrive\\Área de Trabalho\\msu\\phenologic_metrics\\src\\controllers\\metrics_bos_eso.py:37: SettingWithCopyWarning: \n",
      "A value is trying to be set on a copy of a slice from a DataFrame.\n",
      "Try using .loc[row_indexer,col_indexer] = value instead\n",
      "\n",
      "See the caveats in the documentation: https://pandas.pydata.org/pandas-docs/stable/user_guide/indexing.html#returning-a-view-versus-a-copy\n",
      "  self.interval_df['first_derivative'] = self.interval_df['savitzky_golay'].diff().fillna(0)\n"
     ]
    },
    {
     "name": "stdout",
     "output_type": "stream",
     "text": [
      "Saved phenology_df to base/polygon_1299\\phenology_df.csv\n",
      "Saved df_01 to base/polygon_1299\\data_base.csv\n",
      "1323 299\n"
     ]
    },
    {
     "name": "stderr",
     "output_type": "stream",
     "text": [
      "c:\\Users\\ander\\OneDrive\\Área de Trabalho\\msu\\phenologic_metrics\\src\\controllers\\metrics_bos_eso.py:37: SettingWithCopyWarning: \n",
      "A value is trying to be set on a copy of a slice from a DataFrame.\n",
      "Try using .loc[row_indexer,col_indexer] = value instead\n",
      "\n",
      "See the caveats in the documentation: https://pandas.pydata.org/pandas-docs/stable/user_guide/indexing.html#returning-a-view-versus-a-copy\n",
      "  self.interval_df['first_derivative'] = self.interval_df['savitzky_golay'].diff().fillna(0)\n"
     ]
    },
    {
     "name": "stdout",
     "output_type": "stream",
     "text": [
      "Saved phenology_df to base/polygon_1323\\phenology_df.csv\n",
      "Saved df_01 to base/polygon_1323\\data_base.csv\n",
      "1327 300\n"
     ]
    },
    {
     "name": "stderr",
     "output_type": "stream",
     "text": [
      "c:\\Users\\ander\\OneDrive\\Área de Trabalho\\msu\\phenologic_metrics\\src\\controllers\\metrics_bos_eso.py:37: SettingWithCopyWarning: \n",
      "A value is trying to be set on a copy of a slice from a DataFrame.\n",
      "Try using .loc[row_indexer,col_indexer] = value instead\n",
      "\n",
      "See the caveats in the documentation: https://pandas.pydata.org/pandas-docs/stable/user_guide/indexing.html#returning-a-view-versus-a-copy\n",
      "  self.interval_df['first_derivative'] = self.interval_df['savitzky_golay'].diff().fillna(0)\n"
     ]
    },
    {
     "name": "stdout",
     "output_type": "stream",
     "text": [
      "Saved phenology_df to base/polygon_1327\\phenology_df.csv\n",
      "Saved df_01 to base/polygon_1327\\data_base.csv\n",
      "1335 301\n"
     ]
    },
    {
     "name": "stderr",
     "output_type": "stream",
     "text": [
      "c:\\Users\\ander\\OneDrive\\Área de Trabalho\\msu\\phenologic_metrics\\src\\controllers\\metrics_bos_eso.py:37: SettingWithCopyWarning: \n",
      "A value is trying to be set on a copy of a slice from a DataFrame.\n",
      "Try using .loc[row_indexer,col_indexer] = value instead\n",
      "\n",
      "See the caveats in the documentation: https://pandas.pydata.org/pandas-docs/stable/user_guide/indexing.html#returning-a-view-versus-a-copy\n",
      "  self.interval_df['first_derivative'] = self.interval_df['savitzky_golay'].diff().fillna(0)\n"
     ]
    },
    {
     "name": "stdout",
     "output_type": "stream",
     "text": [
      "Saved phenology_df to base/polygon_1335\\phenology_df.csv\n",
      "Saved df_01 to base/polygon_1335\\data_base.csv\n",
      "1359 302\n"
     ]
    },
    {
     "name": "stderr",
     "output_type": "stream",
     "text": [
      "c:\\Users\\ander\\OneDrive\\Área de Trabalho\\msu\\phenologic_metrics\\src\\controllers\\metrics_bos_eso.py:37: SettingWithCopyWarning: \n",
      "A value is trying to be set on a copy of a slice from a DataFrame.\n",
      "Try using .loc[row_indexer,col_indexer] = value instead\n",
      "\n",
      "See the caveats in the documentation: https://pandas.pydata.org/pandas-docs/stable/user_guide/indexing.html#returning-a-view-versus-a-copy\n",
      "  self.interval_df['first_derivative'] = self.interval_df['savitzky_golay'].diff().fillna(0)\n"
     ]
    },
    {
     "name": "stdout",
     "output_type": "stream",
     "text": [
      "Saved phenology_df to base/polygon_1359\\phenology_df.csv\n",
      "Saved df_01 to base/polygon_1359\\data_base.csv\n"
     ]
    }
   ],
   "source": [
    "import geopandas as gpd\n",
    "\n",
    "# Carregar o arquivo em um GeoDataFrame e ajustar o CRS\n",
    "gdf = gpd.read_file(path)\n",
    "gdf = gdf.explode(ignore_index=True)\n",
    "gdf = gdf.to_crs(\"epsg:4326\")\n",
    "\n",
    "for index, row in gdf.iterrows():\n",
    "\n",
    "    print(row['id'], index)\n",
    "\n",
    "    process_polygon(index,row['id'],start_date, end_date, vegetation_index, threshould_index, window_size, poly_order, order)\n",
    "    \n",
    "    "
   ]
  },
  {
   "cell_type": "code",
   "execution_count": null,
   "id": "f03ea562",
   "metadata": {},
   "outputs": [],
   "source": []
  },
  {
   "cell_type": "code",
   "execution_count": 7,
   "id": "ba607142",
   "metadata": {},
   "outputs": [
    {
     "name": "stdout",
     "output_type": "stream",
     "text": [
      "Polygon 0 generated an exception: A process in the process pool was terminated abruptly while the future was running or pending.\n",
      "Polygon 1 generated an exception: A process in the process pool was terminated abruptly while the future was running or pending.\n",
      "Polygon 2 generated an exception: A process in the process pool was terminated abruptly while the future was running or pending.\n"
     ]
    }
   ],
   "source": [
    "import concurrent.futures\n",
    "\n",
    "# Função para processar polígonos em paralelo\n",
    "def process_all_polygons(indices):\n",
    "    with concurrent.futures.ProcessPoolExecutor() as executor:\n",
    "        futures = {executor.submit(process_polygon, index, start_date, end_date, vegetation_index, threshould_index, window_size, poly_order, order): index for index in indices}\n",
    "        for future in concurrent.futures.as_completed(futures):\n",
    "            index = futures[future]\n",
    "            try:\n",
    "                fig, fig_2, fig_precipitation, fig_temperature, fig_radiation = future.result()\n",
    "                # Exibir ou salvar os gráficos aqui, se necessário\n",
    "            except Exception as exc:\n",
    "                print(f'Polygon {index} generated an exception: {exc}')\n",
    "            else:\n",
    "                print(f'Polygon {index} processed successfully.')\n",
    "\n",
    "# Execute o processamento paralelo\n",
    "process_all_polygons([0,1,2])"
   ]
  }
 ],
 "metadata": {
  "kernelspec": {
   "display_name": "msstate",
   "language": "python",
   "name": "python3"
  },
  "language_info": {
   "codemirror_mode": {
    "name": "ipython",
    "version": 3
   },
   "file_extension": ".py",
   "mimetype": "text/x-python",
   "name": "python",
   "nbconvert_exporter": "python",
   "pygments_lexer": "ipython3",
   "version": "3.9.17"
  }
 },
 "nbformat": 4,
 "nbformat_minor": 5
}
